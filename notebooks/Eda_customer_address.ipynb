{
  "cells": [
    {
      "cell_type": "markdown",
      "metadata": {
        "id": "uQ6wc2HE0pke"
      },
      "source": [
        "# **EDA Notebook**\n",
        "\n"
      ]
    },
    {
      "cell_type": "markdown",
      "metadata": {
        "id": "KFVpE17Ahezu"
      },
      "source": [
        "---\n",
        "## 0. Setup Environment"
      ]
    },
    {
      "cell_type": "markdown",
      "metadata": {
        "id": "kWUmi7fakv5O"
      },
      "source": [
        "### 0.a Install Mandatory Packages\n",
        "\n",
        "> Do not modify this code before running it"
      ]
    },
    {
      "cell_type": "markdown",
      "metadata": {
        "id": "jM39DExClCc5"
      },
      "source": [
        "### 0.b Disable Warnings Messages\n",
        "\n",
        "> Do not modify this code before running it"
      ]
    },
    {
      "cell_type": "code",
      "execution_count": 1,
      "metadata": {
        "id": "6FneOmBfka9G"
      },
      "outputs": [],
      "source": [
        "# Do not modify this code\n",
        "import warnings\n",
        "warnings.simplefilter(action='ignore', category=FutureWarning)"
      ]
    },
    {
      "cell_type": "markdown",
      "metadata": {
        "id": "mXFKfa2tp1ch"
      },
      "source": [
        "### 0.d Import Packages"
      ]
    },
    {
      "cell_type": "code",
      "execution_count": 2,
      "metadata": {
        "id": "GBEAwdncnlAx"
      },
      "outputs": [],
      "source": [
        "\n",
        "import pandas as pd\n",
        "import altair as alt\n",
        "import matplotlib.pyplot as plt\n",
        "import seaborn as sns\n",
        "from scipy import stats\n",
        "from wordcloud import WordCloud, STOPWORDS\n"
      ]
    },
    {
      "cell_type": "markdown",
      "metadata": {
        "id": "tQgxLRrvjiJb"
      },
      "source": [
        "---\n",
        "## A. Project Description\n"
      ]
    },
    {
      "cell_type": "code",
      "execution_count": 3,
      "metadata": {},
      "outputs": [],
      "source": [
        "from IPython.display import display, HTML\n",
        "\n",
        "def print_tile(size=\"h3\", key=None, value=None):\n",
        "    \"\"\"\n",
        "    Display a styled HTML tile in a Jupyter notebook.\n",
        "    Args:\n",
        "        size (str): HTML heading size (e.g., 'h1', 'h2', 'h3').\n",
        "        key (str): Optional label for the tile.\n",
        "        value (str): The value or content to display.\n",
        "    \"\"\"\n",
        "    if key is not None:\n",
        "        html = f\"<div style='margin:10px 0;'><{size} style='display:inline; color:#2a4d69; margin-right:10px;'>{key}:</{size}><span style='font-size:1.2em; color:#4b86b4;'>{value}</span></div>\"\n",
        "    else:\n",
        "        html = f\"<div style='margin:10px 0;'><{size} style='color:#2a4d69;'>{value}</{size}></div>\"\n",
        "    display(HTML(html))"
      ]
    },
    {
      "cell_type": "markdown",
      "metadata": {
        "id": "P0zsEPshwy1K"
      },
      "source": [
        "---\n",
        "## B. Data Understanding"
      ]
    },
    {
      "cell_type": "markdown",
      "metadata": {
        "id": "kKgkHZnNypnE"
      },
      "source": [
        "### B.1   Load Dataset"
      ]
    },
    {
      "cell_type": "code",
      "execution_count": 4,
      "metadata": {
        "id": "l7NaNXKGx7JT"
      },
      "outputs": [],
      "source": [
        "# Do not modify this code\n",
        "try:\n",
        "  df = pd.read_csv(\"../data/raw/customer_satisfaction.csv\")\n",
        "except Exception as e:\n",
        "  print(e)"
      ]
    },
    {
      "cell_type": "markdown",
      "metadata": {
        "id": "gL5f0ePt0SGX"
      },
      "source": [
        "### B.2 Explore Dataset\n",
        "\n",
        "> You can add more cells in this section"
      ]
    },
    {
      "cell_type": "code",
      "execution_count": 5,
      "metadata": {
        "colab": {
          "base_uri": "https://localhost:8080/",
          "height": 206
        },
        "id": "ck-IP8fI7u-u",
        "outputId": "0b273eab-1a1d-468f-ad5b-10a030d1d96d"
      },
      "outputs": [
        {
          "data": {
            "application/vnd.microsoft.datawrangler.viewer.v0+json": {
              "columns": [
                {
                  "name": "index",
                  "rawType": "int64",
                  "type": "integer"
                },
                {
                  "name": "Unnamed: 0",
                  "rawType": "int64",
                  "type": "integer"
                },
                {
                  "name": "customer_id",
                  "rawType": "object",
                  "type": "string"
                },
                {
                  "name": "nps",
                  "rawType": "int64",
                  "type": "integer"
                },
                {
                  "name": "cltv",
                  "rawType": "int64",
                  "type": "integer"
                },
                {
                  "name": "reason",
                  "rawType": "object",
                  "type": "unknown"
                }
              ],
              "ref": "bdfcffa4-b43e-47f5-b1eb-9e7030ca5130",
              "rows": [
                [
                  "0",
                  "0",
                  "70f18737-5835-4639-be44-f1a8c6604490",
                  "4",
                  "2056",
                  null
                ],
                [
                  "1",
                  "1",
                  "206e8726-2743-4739-8f2f-758e30256314",
                  "3",
                  "2916",
                  null
                ],
                [
                  "2",
                  "2",
                  "40da1c87-0650-4378-b8d7-0a49cb21085c",
                  "4",
                  "5248",
                  null
                ],
                [
                  "3",
                  "3",
                  "4e28bb69-cee2-4fdf-8831-28935bb5e9b6",
                  "3",
                  "4607",
                  null
                ],
                [
                  "4",
                  "4",
                  "39c9339b-c22b-4bf2-8c73-deb7b6e02de1",
                  "4",
                  "3030",
                  null
                ]
              ],
              "shape": {
                "columns": 5,
                "rows": 5
              }
            },
            "text/html": [
              "<div>\n",
              "<style scoped>\n",
              "    .dataframe tbody tr th:only-of-type {\n",
              "        vertical-align: middle;\n",
              "    }\n",
              "\n",
              "    .dataframe tbody tr th {\n",
              "        vertical-align: top;\n",
              "    }\n",
              "\n",
              "    .dataframe thead th {\n",
              "        text-align: right;\n",
              "    }\n",
              "</style>\n",
              "<table border=\"1\" class=\"dataframe\">\n",
              "  <thead>\n",
              "    <tr style=\"text-align: right;\">\n",
              "      <th></th>\n",
              "      <th>Unnamed: 0</th>\n",
              "      <th>customer_id</th>\n",
              "      <th>nps</th>\n",
              "      <th>cltv</th>\n",
              "      <th>reason</th>\n",
              "    </tr>\n",
              "  </thead>\n",
              "  <tbody>\n",
              "    <tr>\n",
              "      <th>0</th>\n",
              "      <td>0</td>\n",
              "      <td>70f18737-5835-4639-be44-f1a8c6604490</td>\n",
              "      <td>4</td>\n",
              "      <td>2056</td>\n",
              "      <td>NaN</td>\n",
              "    </tr>\n",
              "    <tr>\n",
              "      <th>1</th>\n",
              "      <td>1</td>\n",
              "      <td>206e8726-2743-4739-8f2f-758e30256314</td>\n",
              "      <td>3</td>\n",
              "      <td>2916</td>\n",
              "      <td>NaN</td>\n",
              "    </tr>\n",
              "    <tr>\n",
              "      <th>2</th>\n",
              "      <td>2</td>\n",
              "      <td>40da1c87-0650-4378-b8d7-0a49cb21085c</td>\n",
              "      <td>4</td>\n",
              "      <td>5248</td>\n",
              "      <td>NaN</td>\n",
              "    </tr>\n",
              "    <tr>\n",
              "      <th>3</th>\n",
              "      <td>3</td>\n",
              "      <td>4e28bb69-cee2-4fdf-8831-28935bb5e9b6</td>\n",
              "      <td>3</td>\n",
              "      <td>4607</td>\n",
              "      <td>NaN</td>\n",
              "    </tr>\n",
              "    <tr>\n",
              "      <th>4</th>\n",
              "      <td>4</td>\n",
              "      <td>39c9339b-c22b-4bf2-8c73-deb7b6e02de1</td>\n",
              "      <td>4</td>\n",
              "      <td>3030</td>\n",
              "      <td>NaN</td>\n",
              "    </tr>\n",
              "  </tbody>\n",
              "</table>\n",
              "</div>"
            ],
            "text/plain": [
              "   Unnamed: 0                           customer_id  nps  cltv reason\n",
              "0           0  70f18737-5835-4639-be44-f1a8c6604490    4  2056    NaN\n",
              "1           1  206e8726-2743-4739-8f2f-758e30256314    3  2916    NaN\n",
              "2           2  40da1c87-0650-4378-b8d7-0a49cb21085c    4  5248    NaN\n",
              "3           3  4e28bb69-cee2-4fdf-8831-28935bb5e9b6    3  4607    NaN\n",
              "4           4  39c9339b-c22b-4bf2-8c73-deb7b6e02de1    4  3030    NaN"
            ]
          },
          "execution_count": 5,
          "metadata": {},
          "output_type": "execute_result"
        }
      ],
      "source": [
        "df.head()"
      ]
    },
    {
      "cell_type": "markdown",
      "metadata": {
        "id": "utFT3e9k8jSe"
      },
      "source": [
        "Popping the Unnamed: 0 column because it is an index column"
      ]
    },
    {
      "cell_type": "code",
      "execution_count": 6,
      "metadata": {
        "colab": {
          "base_uri": "https://localhost:8080/",
          "height": 458
        },
        "id": "rXMbOGug7u7U",
        "outputId": "3ac4889a-394f-40ed-888b-10af55f879c7"
      },
      "outputs": [
        {
          "data": {
            "application/vnd.microsoft.datawrangler.viewer.v0+json": {
              "columns": [
                {
                  "name": "index",
                  "rawType": "int64",
                  "type": "integer"
                },
                {
                  "name": "Unnamed: 0",
                  "rawType": "int64",
                  "type": "integer"
                }
              ],
              "ref": "12433ce3-278a-4651-8bd8-39c9c63ee933",
              "rows": [
                [
                  "0",
                  "0"
                ],
                [
                  "1",
                  "1"
                ],
                [
                  "2",
                  "2"
                ],
                [
                  "3",
                  "3"
                ],
                [
                  "4",
                  "4"
                ],
                [
                  "5",
                  "5"
                ],
                [
                  "6",
                  "6"
                ],
                [
                  "7",
                  "7"
                ],
                [
                  "8",
                  "8"
                ],
                [
                  "9",
                  "9"
                ],
                [
                  "10",
                  "10"
                ],
                [
                  "11",
                  "11"
                ],
                [
                  "12",
                  "12"
                ],
                [
                  "13",
                  "13"
                ],
                [
                  "14",
                  "14"
                ],
                [
                  "15",
                  "15"
                ],
                [
                  "16",
                  "16"
                ],
                [
                  "17",
                  "17"
                ],
                [
                  "18",
                  "18"
                ],
                [
                  "19",
                  "19"
                ],
                [
                  "20",
                  "20"
                ],
                [
                  "21",
                  "21"
                ],
                [
                  "22",
                  "22"
                ],
                [
                  "23",
                  "23"
                ],
                [
                  "24",
                  "24"
                ],
                [
                  "25",
                  "25"
                ],
                [
                  "26",
                  "26"
                ],
                [
                  "27",
                  "27"
                ],
                [
                  "28",
                  "28"
                ],
                [
                  "29",
                  "29"
                ],
                [
                  "30",
                  "30"
                ],
                [
                  "31",
                  "31"
                ],
                [
                  "32",
                  "32"
                ],
                [
                  "33",
                  "33"
                ],
                [
                  "34",
                  "34"
                ],
                [
                  "35",
                  "35"
                ],
                [
                  "36",
                  "36"
                ],
                [
                  "37",
                  "37"
                ],
                [
                  "38",
                  "38"
                ],
                [
                  "39",
                  "39"
                ],
                [
                  "40",
                  "40"
                ],
                [
                  "41",
                  "41"
                ],
                [
                  "42",
                  "42"
                ],
                [
                  "43",
                  "43"
                ],
                [
                  "44",
                  "44"
                ],
                [
                  "45",
                  "45"
                ],
                [
                  "46",
                  "46"
                ],
                [
                  "47",
                  "47"
                ],
                [
                  "48",
                  "48"
                ],
                [
                  "49",
                  "49"
                ]
              ],
              "shape": {
                "columns": 1,
                "rows": 15774
              }
            },
            "text/plain": [
              "0            0\n",
              "1            1\n",
              "2            2\n",
              "3            3\n",
              "4            4\n",
              "         ...  \n",
              "15769    15769\n",
              "15770    15770\n",
              "15771    15771\n",
              "15772    15772\n",
              "15773    15773\n",
              "Name: Unnamed: 0, Length: 15774, dtype: int64"
            ]
          },
          "execution_count": 6,
          "metadata": {},
          "output_type": "execute_result"
        }
      ],
      "source": [
        "df.pop('Unnamed: 0')"
      ]
    },
    {
      "cell_type": "code",
      "execution_count": 7,
      "metadata": {
        "colab": {
          "base_uri": "https://localhost:8080/",
          "height": 206
        },
        "id": "gxXIf9Jq7u2O",
        "outputId": "d15e59c7-57fd-47b3-8123-3c39e7e38a9d"
      },
      "outputs": [
        {
          "data": {
            "application/vnd.microsoft.datawrangler.viewer.v0+json": {
              "columns": [
                {
                  "name": "index",
                  "rawType": "int64",
                  "type": "integer"
                },
                {
                  "name": "customer_id",
                  "rawType": "object",
                  "type": "string"
                },
                {
                  "name": "nps",
                  "rawType": "int64",
                  "type": "integer"
                },
                {
                  "name": "cltv",
                  "rawType": "int64",
                  "type": "integer"
                },
                {
                  "name": "reason",
                  "rawType": "object",
                  "type": "unknown"
                }
              ],
              "ref": "9bbd167d-9c54-4c3f-aea8-29b2c9312836",
              "rows": [
                [
                  "0",
                  "70f18737-5835-4639-be44-f1a8c6604490",
                  "4",
                  "2056",
                  null
                ],
                [
                  "1",
                  "206e8726-2743-4739-8f2f-758e30256314",
                  "3",
                  "2916",
                  null
                ],
                [
                  "2",
                  "40da1c87-0650-4378-b8d7-0a49cb21085c",
                  "4",
                  "5248",
                  null
                ],
                [
                  "3",
                  "4e28bb69-cee2-4fdf-8831-28935bb5e9b6",
                  "3",
                  "4607",
                  null
                ],
                [
                  "4",
                  "39c9339b-c22b-4bf2-8c73-deb7b6e02de1",
                  "4",
                  "3030",
                  null
                ]
              ],
              "shape": {
                "columns": 4,
                "rows": 5
              }
            },
            "text/html": [
              "<div>\n",
              "<style scoped>\n",
              "    .dataframe tbody tr th:only-of-type {\n",
              "        vertical-align: middle;\n",
              "    }\n",
              "\n",
              "    .dataframe tbody tr th {\n",
              "        vertical-align: top;\n",
              "    }\n",
              "\n",
              "    .dataframe thead th {\n",
              "        text-align: right;\n",
              "    }\n",
              "</style>\n",
              "<table border=\"1\" class=\"dataframe\">\n",
              "  <thead>\n",
              "    <tr style=\"text-align: right;\">\n",
              "      <th></th>\n",
              "      <th>customer_id</th>\n",
              "      <th>nps</th>\n",
              "      <th>cltv</th>\n",
              "      <th>reason</th>\n",
              "    </tr>\n",
              "  </thead>\n",
              "  <tbody>\n",
              "    <tr>\n",
              "      <th>0</th>\n",
              "      <td>70f18737-5835-4639-be44-f1a8c6604490</td>\n",
              "      <td>4</td>\n",
              "      <td>2056</td>\n",
              "      <td>NaN</td>\n",
              "    </tr>\n",
              "    <tr>\n",
              "      <th>1</th>\n",
              "      <td>206e8726-2743-4739-8f2f-758e30256314</td>\n",
              "      <td>3</td>\n",
              "      <td>2916</td>\n",
              "      <td>NaN</td>\n",
              "    </tr>\n",
              "    <tr>\n",
              "      <th>2</th>\n",
              "      <td>40da1c87-0650-4378-b8d7-0a49cb21085c</td>\n",
              "      <td>4</td>\n",
              "      <td>5248</td>\n",
              "      <td>NaN</td>\n",
              "    </tr>\n",
              "    <tr>\n",
              "      <th>3</th>\n",
              "      <td>4e28bb69-cee2-4fdf-8831-28935bb5e9b6</td>\n",
              "      <td>3</td>\n",
              "      <td>4607</td>\n",
              "      <td>NaN</td>\n",
              "    </tr>\n",
              "    <tr>\n",
              "      <th>4</th>\n",
              "      <td>39c9339b-c22b-4bf2-8c73-deb7b6e02de1</td>\n",
              "      <td>4</td>\n",
              "      <td>3030</td>\n",
              "      <td>NaN</td>\n",
              "    </tr>\n",
              "  </tbody>\n",
              "</table>\n",
              "</div>"
            ],
            "text/plain": [
              "                            customer_id  nps  cltv reason\n",
              "0  70f18737-5835-4639-be44-f1a8c6604490    4  2056    NaN\n",
              "1  206e8726-2743-4739-8f2f-758e30256314    3  2916    NaN\n",
              "2  40da1c87-0650-4378-b8d7-0a49cb21085c    4  5248    NaN\n",
              "3  4e28bb69-cee2-4fdf-8831-28935bb5e9b6    3  4607    NaN\n",
              "4  39c9339b-c22b-4bf2-8c73-deb7b6e02de1    4  3030    NaN"
            ]
          },
          "execution_count": 7,
          "metadata": {},
          "output_type": "execute_result"
        }
      ],
      "source": [
        "df.head()"
      ]
    },
    {
      "cell_type": "code",
      "execution_count": 8,
      "metadata": {
        "colab": {
          "base_uri": "https://localhost:8080/",
          "height": 300
        },
        "id": "rKfJlubz8pe-",
        "outputId": "930091d0-916b-4de8-8e5f-8a60975b02bc"
      },
      "outputs": [
        {
          "data": {
            "application/vnd.microsoft.datawrangler.viewer.v0+json": {
              "columns": [
                {
                  "name": "index",
                  "rawType": "object",
                  "type": "string"
                },
                {
                  "name": "nps",
                  "rawType": "float64",
                  "type": "float"
                },
                {
                  "name": "cltv",
                  "rawType": "float64",
                  "type": "float"
                }
              ],
              "ref": "bd8a96a3-b767-42d3-9feb-6bdbd6754fdb",
              "rows": [
                [
                  "count",
                  "15774.0",
                  "15774.0"
                ],
                [
                  "mean",
                  "3.2495245340433625",
                  "4386.955749968302"
                ],
                [
                  "std",
                  "1.201392697452314",
                  "1191.571121288843"
                ],
                [
                  "min",
                  "1.0",
                  "2003.0"
                ],
                [
                  "25%",
                  "3.0",
                  "3424.0"
                ],
                [
                  "50%",
                  "3.0",
                  "4539.0"
                ],
                [
                  "75%",
                  "4.0",
                  "5362.75"
                ],
                [
                  "max",
                  "5.0",
                  "6500.0"
                ]
              ],
              "shape": {
                "columns": 2,
                "rows": 8
              }
            },
            "text/html": [
              "<div>\n",
              "<style scoped>\n",
              "    .dataframe tbody tr th:only-of-type {\n",
              "        vertical-align: middle;\n",
              "    }\n",
              "\n",
              "    .dataframe tbody tr th {\n",
              "        vertical-align: top;\n",
              "    }\n",
              "\n",
              "    .dataframe thead th {\n",
              "        text-align: right;\n",
              "    }\n",
              "</style>\n",
              "<table border=\"1\" class=\"dataframe\">\n",
              "  <thead>\n",
              "    <tr style=\"text-align: right;\">\n",
              "      <th></th>\n",
              "      <th>nps</th>\n",
              "      <th>cltv</th>\n",
              "    </tr>\n",
              "  </thead>\n",
              "  <tbody>\n",
              "    <tr>\n",
              "      <th>count</th>\n",
              "      <td>15774.000000</td>\n",
              "      <td>15774.000000</td>\n",
              "    </tr>\n",
              "    <tr>\n",
              "      <th>mean</th>\n",
              "      <td>3.249525</td>\n",
              "      <td>4386.955750</td>\n",
              "    </tr>\n",
              "    <tr>\n",
              "      <th>std</th>\n",
              "      <td>1.201393</td>\n",
              "      <td>1191.571121</td>\n",
              "    </tr>\n",
              "    <tr>\n",
              "      <th>min</th>\n",
              "      <td>1.000000</td>\n",
              "      <td>2003.000000</td>\n",
              "    </tr>\n",
              "    <tr>\n",
              "      <th>25%</th>\n",
              "      <td>3.000000</td>\n",
              "      <td>3424.000000</td>\n",
              "    </tr>\n",
              "    <tr>\n",
              "      <th>50%</th>\n",
              "      <td>3.000000</td>\n",
              "      <td>4539.000000</td>\n",
              "    </tr>\n",
              "    <tr>\n",
              "      <th>75%</th>\n",
              "      <td>4.000000</td>\n",
              "      <td>5362.750000</td>\n",
              "    </tr>\n",
              "    <tr>\n",
              "      <th>max</th>\n",
              "      <td>5.000000</td>\n",
              "      <td>6500.000000</td>\n",
              "    </tr>\n",
              "  </tbody>\n",
              "</table>\n",
              "</div>"
            ],
            "text/plain": [
              "                nps          cltv\n",
              "count  15774.000000  15774.000000\n",
              "mean       3.249525   4386.955750\n",
              "std        1.201393   1191.571121\n",
              "min        1.000000   2003.000000\n",
              "25%        3.000000   3424.000000\n",
              "50%        3.000000   4539.000000\n",
              "75%        4.000000   5362.750000\n",
              "max        5.000000   6500.000000"
            ]
          },
          "execution_count": 8,
          "metadata": {},
          "output_type": "execute_result"
        }
      ],
      "source": [
        "df.describe()"
      ]
    },
    {
      "cell_type": "code",
      "execution_count": 9,
      "metadata": {
        "colab": {
          "base_uri": "https://localhost:8080/"
        },
        "id": "26kLsBDf8pcO",
        "outputId": "e6eb3267-a05d-49f1-a967-85789c7d56d3"
      },
      "outputs": [
        {
          "name": "stdout",
          "output_type": "stream",
          "text": [
            "<class 'pandas.core.frame.DataFrame'>\n",
            "RangeIndex: 15774 entries, 0 to 15773\n",
            "Data columns (total 4 columns):\n",
            " #   Column       Non-Null Count  Dtype \n",
            "---  ------       --------------  ----- \n",
            " 0   customer_id  15774 non-null  object\n",
            " 1   nps          15774 non-null  int64 \n",
            " 2   cltv         15774 non-null  int64 \n",
            " 3   reason       4189 non-null   object\n",
            "dtypes: int64(2), object(2)\n",
            "memory usage: 493.1+ KB\n"
          ]
        }
      ],
      "source": [
        "df.info()"
      ]
    },
    {
      "cell_type": "code",
      "execution_count": 10,
      "metadata": {
        "colab": {
          "base_uri": "https://localhost:8080/",
          "height": 210
        },
        "id": "I7hKUO2M8pZu",
        "outputId": "b540699d-5cbf-4f33-c7b1-fbbe9ae95115"
      },
      "outputs": [
        {
          "data": {
            "application/vnd.microsoft.datawrangler.viewer.v0+json": {
              "columns": [
                {
                  "name": "index",
                  "rawType": "object",
                  "type": "string"
                },
                {
                  "name": "0",
                  "rawType": "int64",
                  "type": "integer"
                }
              ],
              "ref": "49ba3534-0071-4509-b1d9-251ac7a68abf",
              "rows": [
                [
                  "customer_id",
                  "7043"
                ],
                [
                  "nps",
                  "5"
                ],
                [
                  "cltv",
                  "3438"
                ],
                [
                  "reason",
                  "20"
                ]
              ],
              "shape": {
                "columns": 1,
                "rows": 4
              }
            },
            "text/plain": [
              "customer_id    7043\n",
              "nps               5\n",
              "cltv           3438\n",
              "reason           20\n",
              "dtype: int64"
            ]
          },
          "execution_count": 10,
          "metadata": {},
          "output_type": "execute_result"
        }
      ],
      "source": [
        "df.nunique()"
      ]
    },
    {
      "cell_type": "markdown",
      "metadata": {
        "id": "mjX66vcj4D_F"
      },
      "source": [
        "Now lets check for duplicates"
      ]
    },
    {
      "cell_type": "code",
      "execution_count": 11,
      "metadata": {
        "colab": {
          "base_uri": "https://localhost:8080/",
          "height": 206
        },
        "id": "e9yCiyeG8pWS",
        "outputId": "28bf70b1-e8a1-4fa6-a5ac-34fb629c98c0"
      },
      "outputs": [
        {
          "data": {
            "application/vnd.microsoft.datawrangler.viewer.v0+json": {
              "columns": [
                {
                  "name": "index",
                  "rawType": "int64",
                  "type": "integer"
                },
                {
                  "name": "customer_id",
                  "rawType": "object",
                  "type": "string"
                },
                {
                  "name": "nps",
                  "rawType": "int64",
                  "type": "integer"
                },
                {
                  "name": "cltv",
                  "rawType": "int64",
                  "type": "integer"
                },
                {
                  "name": "reason",
                  "rawType": "object",
                  "type": "unknown"
                }
              ],
              "ref": "2b8a951d-f76e-4c0c-a779-18571665e311",
              "rows": [
                [
                  "1557",
                  "000f51ad-8208-46f4-a213-6b83de3dded1",
                  "4",
                  "3733",
                  null
                ],
                [
                  "3192",
                  "000f51ad-8208-46f4-a213-6b83de3dded1",
                  "4",
                  "3733",
                  null
                ],
                [
                  "13235",
                  "000f51ad-8208-46f4-a213-6b83de3dded1",
                  "4",
                  "3733",
                  null
                ],
                [
                  "8165",
                  "001a6be8-e23e-47e1-8384-18051f2d03b5",
                  "5",
                  "4152",
                  null
                ],
                [
                  "8208",
                  "001a6be8-e23e-47e1-8384-18051f2d03b5",
                  "5",
                  "4152",
                  null
                ]
              ],
              "shape": {
                "columns": 4,
                "rows": 5
              }
            },
            "text/html": [
              "<div>\n",
              "<style scoped>\n",
              "    .dataframe tbody tr th:only-of-type {\n",
              "        vertical-align: middle;\n",
              "    }\n",
              "\n",
              "    .dataframe tbody tr th {\n",
              "        vertical-align: top;\n",
              "    }\n",
              "\n",
              "    .dataframe thead th {\n",
              "        text-align: right;\n",
              "    }\n",
              "</style>\n",
              "<table border=\"1\" class=\"dataframe\">\n",
              "  <thead>\n",
              "    <tr style=\"text-align: right;\">\n",
              "      <th></th>\n",
              "      <th>customer_id</th>\n",
              "      <th>nps</th>\n",
              "      <th>cltv</th>\n",
              "      <th>reason</th>\n",
              "    </tr>\n",
              "  </thead>\n",
              "  <tbody>\n",
              "    <tr>\n",
              "      <th>1557</th>\n",
              "      <td>000f51ad-8208-46f4-a213-6b83de3dded1</td>\n",
              "      <td>4</td>\n",
              "      <td>3733</td>\n",
              "      <td>NaN</td>\n",
              "    </tr>\n",
              "    <tr>\n",
              "      <th>3192</th>\n",
              "      <td>000f51ad-8208-46f4-a213-6b83de3dded1</td>\n",
              "      <td>4</td>\n",
              "      <td>3733</td>\n",
              "      <td>NaN</td>\n",
              "    </tr>\n",
              "    <tr>\n",
              "      <th>13235</th>\n",
              "      <td>000f51ad-8208-46f4-a213-6b83de3dded1</td>\n",
              "      <td>4</td>\n",
              "      <td>3733</td>\n",
              "      <td>NaN</td>\n",
              "    </tr>\n",
              "    <tr>\n",
              "      <th>8165</th>\n",
              "      <td>001a6be8-e23e-47e1-8384-18051f2d03b5</td>\n",
              "      <td>5</td>\n",
              "      <td>4152</td>\n",
              "      <td>NaN</td>\n",
              "    </tr>\n",
              "    <tr>\n",
              "      <th>8208</th>\n",
              "      <td>001a6be8-e23e-47e1-8384-18051f2d03b5</td>\n",
              "      <td>5</td>\n",
              "      <td>4152</td>\n",
              "      <td>NaN</td>\n",
              "    </tr>\n",
              "  </tbody>\n",
              "</table>\n",
              "</div>"
            ],
            "text/plain": [
              "                                customer_id  nps  cltv reason\n",
              "1557   000f51ad-8208-46f4-a213-6b83de3dded1    4  3733    NaN\n",
              "3192   000f51ad-8208-46f4-a213-6b83de3dded1    4  3733    NaN\n",
              "13235  000f51ad-8208-46f4-a213-6b83de3dded1    4  3733    NaN\n",
              "8165   001a6be8-e23e-47e1-8384-18051f2d03b5    5  4152    NaN\n",
              "8208   001a6be8-e23e-47e1-8384-18051f2d03b5    5  4152    NaN"
            ]
          },
          "execution_count": 11,
          "metadata": {},
          "output_type": "execute_result"
        }
      ],
      "source": [
        "df_duplicates = df[df.duplicated(subset=['customer_id'], keep=False)]\n",
        "\n",
        "# Display duplicate rows\n",
        "df_duplicates.head()# Sorting duplicate rows by 'customer_id' as an object (string)\n",
        "df_duplicates_sorted = df_duplicates.sort_values(by='customer_id', key=lambda x: x.astype(str))\n",
        "\n",
        "# Display the sorted duplicate rows\n",
        "df_duplicates_sorted.head()"
      ]
    },
    {
      "cell_type": "markdown",
      "metadata": {
        "id": "RDJe72sQ9w9J"
      },
      "source": [
        "The data seems to have duplicate values."
      ]
    },
    {
      "cell_type": "markdown",
      "metadata": {
        "id": "ParsKRDr4S2T"
      },
      "source": [
        "now lets have a better idea about numerical and categorical features"
      ]
    },
    {
      "cell_type": "code",
      "execution_count": 12,
      "metadata": {
        "colab": {
          "base_uri": "https://localhost:8080/",
          "height": 459
        },
        "id": "wm99KXBp8pTb",
        "outputId": "d6c71da4-cfbe-43c1-bab8-82f2702f7caf"
      },
      "outputs": [
        {
          "data": {
            "image/png": "[encoded data removed]",
            "text/plain": [
              "<Figure size 640x480 with 1 Axes>"
            ]
          },
          "metadata": {},
          "output_type": "display_data"
        }
      ],
      "source": [
        "# visualizing the data types count\n",
        "ax=df.dtypes.value_counts().plot(kind='bar',edgecolor='black')\n",
        "for container in ax.containers:\n",
        "    ax.bar_label(container, fmt='%d')\n",
        "plt.grid(axis='y', linestyle='--', alpha=0.7)\n",
        "plt.show()"
      ]
    },
    {
      "cell_type": "code",
      "execution_count": 13,
      "metadata": {
        "colab": {
          "base_uri": "https://localhost:8080/"
        },
        "id": "Q5ssEVAl8pQ5",
        "outputId": "db46ab0f-7e47-4d96-eafc-f70570e7d931"
      },
      "outputs": [
        {
          "data": {
            "text/plain": [
              "Index(['nps', 'cltv'], dtype='object')"
            ]
          },
          "execution_count": 13,
          "metadata": {},
          "output_type": "execute_result"
        }
      ],
      "source": [
        "numerical_columns = df.select_dtypes(include=['number']).columns\n",
        "numerical_columns"
      ]
    },
    {
      "cell_type": "code",
      "execution_count": 14,
      "metadata": {
        "colab": {
          "base_uri": "https://localhost:8080/",
          "height": 206
        },
        "id": "5lrM8wqX8pOK",
        "outputId": "aab0ec03-4e05-469d-e45c-53b3bcb5b749"
      },
      "outputs": [
        {
          "data": {
            "application/vnd.microsoft.datawrangler.viewer.v0+json": {
              "columns": [
                {
                  "name": "index",
                  "rawType": "int64",
                  "type": "integer"
                },
                {
                  "name": "nps",
                  "rawType": "int64",
                  "type": "integer"
                },
                {
                  "name": "cltv",
                  "rawType": "int64",
                  "type": "integer"
                }
              ],
              "ref": "799f7518-c504-4d83-b453-2fe4b3887ff4",
              "rows": [
                [
                  "0",
                  "4",
                  "2056"
                ],
                [
                  "1",
                  "3",
                  "2916"
                ],
                [
                  "2",
                  "4",
                  "5248"
                ],
                [
                  "3",
                  "3",
                  "4607"
                ],
                [
                  "4",
                  "4",
                  "3030"
                ]
              ],
              "shape": {
                "columns": 2,
                "rows": 5
              }
            },
            "text/html": [
              "<div>\n",
              "<style scoped>\n",
              "    .dataframe tbody tr th:only-of-type {\n",
              "        vertical-align: middle;\n",
              "    }\n",
              "\n",
              "    .dataframe tbody tr th {\n",
              "        vertical-align: top;\n",
              "    }\n",
              "\n",
              "    .dataframe thead th {\n",
              "        text-align: right;\n",
              "    }\n",
              "</style>\n",
              "<table border=\"1\" class=\"dataframe\">\n",
              "  <thead>\n",
              "    <tr style=\"text-align: right;\">\n",
              "      <th></th>\n",
              "      <th>nps</th>\n",
              "      <th>cltv</th>\n",
              "    </tr>\n",
              "  </thead>\n",
              "  <tbody>\n",
              "    <tr>\n",
              "      <th>0</th>\n",
              "      <td>4</td>\n",
              "      <td>2056</td>\n",
              "    </tr>\n",
              "    <tr>\n",
              "      <th>1</th>\n",
              "      <td>3</td>\n",
              "      <td>2916</td>\n",
              "    </tr>\n",
              "    <tr>\n",
              "      <th>2</th>\n",
              "      <td>4</td>\n",
              "      <td>5248</td>\n",
              "    </tr>\n",
              "    <tr>\n",
              "      <th>3</th>\n",
              "      <td>3</td>\n",
              "      <td>4607</td>\n",
              "    </tr>\n",
              "    <tr>\n",
              "      <th>4</th>\n",
              "      <td>4</td>\n",
              "      <td>3030</td>\n",
              "    </tr>\n",
              "  </tbody>\n",
              "</table>\n",
              "</div>"
            ],
            "text/plain": [
              "   nps  cltv\n",
              "0    4  2056\n",
              "1    3  2916\n",
              "2    4  5248\n",
              "3    3  4607\n",
              "4    4  3030"
            ]
          },
          "execution_count": 14,
          "metadata": {},
          "output_type": "execute_result"
        }
      ],
      "source": [
        "\n",
        "numerical_features=df[numerical_columns]\n",
        "numerical_features.head()\n"
      ]
    },
    {
      "cell_type": "markdown",
      "metadata": {
        "id": "mrhsRChw4Yb5"
      },
      "source": [
        "Checking for Null Value"
      ]
    },
    {
      "cell_type": "code",
      "execution_count": 15,
      "metadata": {
        "colab": {
          "base_uri": "https://localhost:8080/",
          "height": 147
        },
        "id": "8sbPbhsL7uy0",
        "outputId": "d039a008-d049-49ad-d25f-c9112e81caa4"
      },
      "outputs": [
        {
          "data": {
            "application/vnd.microsoft.datawrangler.viewer.v0+json": {
              "columns": [
                {
                  "name": "index",
                  "rawType": "object",
                  "type": "string"
                },
                {
                  "name": "0",
                  "rawType": "int64",
                  "type": "integer"
                }
              ],
              "ref": "52763c6c-7295-4b76-847d-29683729ec70",
              "rows": [
                [
                  "nps",
                  "0"
                ],
                [
                  "cltv",
                  "0"
                ]
              ],
              "shape": {
                "columns": 1,
                "rows": 2
              }
            },
            "text/plain": [
              "nps     0\n",
              "cltv    0\n",
              "dtype: int64"
            ]
          },
          "execution_count": 15,
          "metadata": {},
          "output_type": "execute_result"
        }
      ],
      "source": [
        "numerical_features.isnull().sum()"
      ]
    },
    {
      "cell_type": "markdown",
      "metadata": {
        "id": "6nuncQua-V8Y"
      },
      "source": [
        "We donot have any mising values"
      ]
    },
    {
      "cell_type": "markdown",
      "metadata": {
        "id": "jNLY8aht-nKI"
      },
      "source": [
        "# Now lets look at the categorical features"
      ]
    },
    {
      "cell_type": "code",
      "execution_count": 16,
      "metadata": {
        "colab": {
          "base_uri": "https://localhost:8080/"
        },
        "id": "kLyPvxsq-a0_",
        "outputId": "af0ace39-432b-4fe3-de61-debed335eacf"
      },
      "outputs": [
        {
          "data": {
            "text/plain": [
              "Index(['customer_id', 'reason'], dtype='object')"
            ]
          },
          "execution_count": 16,
          "metadata": {},
          "output_type": "execute_result"
        }
      ],
      "source": [
        "categorical_columns = df.select_dtypes(include=['object','bool']).columns\n",
        "categorical_columns"
      ]
    },
    {
      "cell_type": "code",
      "execution_count": 17,
      "metadata": {
        "colab": {
          "base_uri": "https://localhost:8080/",
          "height": 206
        },
        "id": "uvwSzVD8-axl",
        "outputId": "08a29314-328f-46d6-9b5a-815bc577d86c"
      },
      "outputs": [
        {
          "data": {
            "application/vnd.microsoft.datawrangler.viewer.v0+json": {
              "columns": [
                {
                  "name": "index",
                  "rawType": "int64",
                  "type": "integer"
                },
                {
                  "name": "customer_id",
                  "rawType": "object",
                  "type": "string"
                },
                {
                  "name": "reason",
                  "rawType": "object",
                  "type": "unknown"
                }
              ],
              "ref": "5fdbc824-5831-4953-9e0b-78b4c61eb5d8",
              "rows": [
                [
                  "0",
                  "70f18737-5835-4639-be44-f1a8c6604490",
                  null
                ],
                [
                  "1",
                  "206e8726-2743-4739-8f2f-758e30256314",
                  null
                ],
                [
                  "2",
                  "40da1c87-0650-4378-b8d7-0a49cb21085c",
                  null
                ],
                [
                  "3",
                  "4e28bb69-cee2-4fdf-8831-28935bb5e9b6",
                  null
                ],
                [
                  "4",
                  "39c9339b-c22b-4bf2-8c73-deb7b6e02de1",
                  null
                ]
              ],
              "shape": {
                "columns": 2,
                "rows": 5
              }
            },
            "text/html": [
              "<div>\n",
              "<style scoped>\n",
              "    .dataframe tbody tr th:only-of-type {\n",
              "        vertical-align: middle;\n",
              "    }\n",
              "\n",
              "    .dataframe tbody tr th {\n",
              "        vertical-align: top;\n",
              "    }\n",
              "\n",
              "    .dataframe thead th {\n",
              "        text-align: right;\n",
              "    }\n",
              "</style>\n",
              "<table border=\"1\" class=\"dataframe\">\n",
              "  <thead>\n",
              "    <tr style=\"text-align: right;\">\n",
              "      <th></th>\n",
              "      <th>customer_id</th>\n",
              "      <th>reason</th>\n",
              "    </tr>\n",
              "  </thead>\n",
              "  <tbody>\n",
              "    <tr>\n",
              "      <th>0</th>\n",
              "      <td>70f18737-5835-4639-be44-f1a8c6604490</td>\n",
              "      <td>NaN</td>\n",
              "    </tr>\n",
              "    <tr>\n",
              "      <th>1</th>\n",
              "      <td>206e8726-2743-4739-8f2f-758e30256314</td>\n",
              "      <td>NaN</td>\n",
              "    </tr>\n",
              "    <tr>\n",
              "      <th>2</th>\n",
              "      <td>40da1c87-0650-4378-b8d7-0a49cb21085c</td>\n",
              "      <td>NaN</td>\n",
              "    </tr>\n",
              "    <tr>\n",
              "      <th>3</th>\n",
              "      <td>4e28bb69-cee2-4fdf-8831-28935bb5e9b6</td>\n",
              "      <td>NaN</td>\n",
              "    </tr>\n",
              "    <tr>\n",
              "      <th>4</th>\n",
              "      <td>39c9339b-c22b-4bf2-8c73-deb7b6e02de1</td>\n",
              "      <td>NaN</td>\n",
              "    </tr>\n",
              "  </tbody>\n",
              "</table>\n",
              "</div>"
            ],
            "text/plain": [
              "                            customer_id reason\n",
              "0  70f18737-5835-4639-be44-f1a8c6604490    NaN\n",
              "1  206e8726-2743-4739-8f2f-758e30256314    NaN\n",
              "2  40da1c87-0650-4378-b8d7-0a49cb21085c    NaN\n",
              "3  4e28bb69-cee2-4fdf-8831-28935bb5e9b6    NaN\n",
              "4  39c9339b-c22b-4bf2-8c73-deb7b6e02de1    NaN"
            ]
          },
          "execution_count": 17,
          "metadata": {},
          "output_type": "execute_result"
        }
      ],
      "source": [
        "categorical_features=df[categorical_columns]\n",
        "categorical_features.head()"
      ]
    },
    {
      "cell_type": "markdown",
      "metadata": {
        "id": "R8_L7VgI-0ky"
      },
      "source": [
        "lets check for missing values"
      ]
    },
    {
      "cell_type": "code",
      "execution_count": 18,
      "metadata": {
        "colab": {
          "base_uri": "https://localhost:8080/",
          "height": 147
        },
        "id": "aV8PYfjw-auP",
        "outputId": "5263135e-0fdc-4492-aff8-54fd8bbbd1b6"
      },
      "outputs": [
        {
          "data": {
            "application/vnd.microsoft.datawrangler.viewer.v0+json": {
              "columns": [
                {
                  "name": "index",
                  "rawType": "object",
                  "type": "string"
                },
                {
                  "name": "0",
                  "rawType": "int64",
                  "type": "integer"
                }
              ],
              "ref": "8b2ef459-e09d-421d-9d71-c7c6c7f070ae",
              "rows": [
                [
                  "customer_id",
                  "7043"
                ],
                [
                  "reason",
                  "20"
                ]
              ],
              "shape": {
                "columns": 1,
                "rows": 2
              }
            },
            "text/plain": [
              "customer_id    7043\n",
              "reason           20\n",
              "dtype: int64"
            ]
          },
          "execution_count": 18,
          "metadata": {},
          "output_type": "execute_result"
        }
      ],
      "source": [
        "categorical_features.nunique()"
      ]
    },
    {
      "cell_type": "code",
      "execution_count": 19,
      "metadata": {
        "colab": {
          "base_uri": "https://localhost:8080/",
          "height": 147
        },
        "id": "9f-kpXUE-PtX",
        "outputId": "771a52ba-d24f-4756-ba2e-9e9dc1056808"
      },
      "outputs": [
        {
          "data": {
            "application/vnd.microsoft.datawrangler.viewer.v0+json": {
              "columns": [
                {
                  "name": "index",
                  "rawType": "object",
                  "type": "string"
                },
                {
                  "name": "0",
                  "rawType": "int64",
                  "type": "integer"
                }
              ],
              "ref": "46d99b97-502f-4517-be2f-aa4334651034",
              "rows": [
                [
                  "customer_id",
                  "0"
                ],
                [
                  "reason",
                  "11585"
                ]
              ],
              "shape": {
                "columns": 1,
                "rows": 2
              }
            },
            "text/plain": [
              "customer_id        0\n",
              "reason         11585\n",
              "dtype: int64"
            ]
          },
          "execution_count": 19,
          "metadata": {},
          "output_type": "execute_result"
        }
      ],
      "source": [
        "categorical_features.isnull().sum()"
      ]
    },
    {
      "cell_type": "markdown",
      "metadata": {
        "id": "xL5vqrKG_IvJ"
      },
      "source": [
        "we will deal with the null values later\n"
      ]
    },
    {
      "cell_type": "code",
      "execution_count": 20,
      "metadata": {
        "colab": {
          "base_uri": "https://localhost:8080/"
        },
        "id": "HZq3hcsQ-PqO",
        "outputId": "aed4122b-f1f0-40e2-b404-40f5fc7532b3"
      },
      "outputs": [
        {
          "data": {
            "text/plain": [
              "20"
            ]
          },
          "execution_count": 20,
          "metadata": {},
          "output_type": "execute_result"
        }
      ],
      "source": [
        "categorical_features.reason.nunique()"
      ]
    },
    {
      "cell_type": "code",
      "execution_count": 21,
      "metadata": {
        "id": "kzGZ6vpHAgKG"
      },
      "outputs": [],
      "source": [
        "\n",
        "dataset_insights = \"\"\" ####Index Column Adjustment\n",
        "\n",
        "Identified the index column and removed the unnecessary Unnamed: 0 column to clean the dataset structure.\n",
        "\n",
        "####Duplicate Values Detected\n",
        "\n",
        "Checked for duplicates and found repeated values, which will be addressed in the cleaning phase.\n",
        "\n",
        "####Missing Values Analysis\n",
        "\n",
        "Examined all columns for missing values and discovered that only the reason column contains missing entries which will be addressed in the cleaning phase.\"\"\"\n"
      ]
    },
    {
      "cell_type": "code",
      "execution_count": 22,
      "metadata": {
        "colab": {
          "base_uri": "https://localhost:8080/",
          "height": 101
        },
        "id": "FB8N1nNMAgNF",
        "outputId": "85395502-a853-40f5-a43c-8d5f9263327a"
      },
      "outputs": [
        {
          "data": {
            "text/html": [
              "<div style='margin:10px 0;'><h3 style='display:inline; color:#2a4d69; margin-right:10px;'>dataset_insights:</h3><span style='font-size:1.2em; color:#4b86b4;'> ####Index Column Adjustment\n",
              "\n",
              "Identified the index column and removed the unnecessary Unnamed: 0 column to clean the dataset structure.\n",
              "\n",
              "####Duplicate Values Detected\n",
              "\n",
              "Checked for duplicates and found repeated values, which will be addressed in the cleaning phase.\n",
              "\n",
              "####Missing Values Analysis\n",
              "\n",
              "Examined all columns for missing values and discovered that only the reason column contains missing entries which will be addressed in the cleaning phase.</span></div>"
            ],
            "text/plain": [
              "<IPython.core.display.HTML object>"
            ]
          },
          "metadata": {},
          "output_type": "display_data"
        }
      ],
      "source": [
        "# Do not modify this code\n",
        "print_tile(size=\"h3\", key='dataset_insights', value=dataset_insights)"
      ]
    },
    {
      "cell_type": "markdown",
      "metadata": {
        "id": "Ig93bpyM2RGY"
      },
      "source": [
        "### B.3 Explore Feature of Interest 1\n",
        "\n",
        "> 'nps'\n",
        "\n",
        "Customer’s overall satisfaction rating of the company from 1 (Very Unsatisfied) to 5 (Very Satisfied)"
      ]
    },
    {
      "cell_type": "code",
      "execution_count": 23,
      "metadata": {
        "colab": {
          "base_uri": "https://localhost:8080/",
          "height": 206
        },
        "id": "w0MTuYMt_qpG",
        "outputId": "33a64aa1-89cb-481c-cbe9-4bac653a4256"
      },
      "outputs": [
        {
          "data": {
            "application/vnd.microsoft.datawrangler.viewer.v0+json": {
              "columns": [
                {
                  "name": "index",
                  "rawType": "int64",
                  "type": "integer"
                },
                {
                  "name": "customer_id",
                  "rawType": "object",
                  "type": "string"
                },
                {
                  "name": "nps",
                  "rawType": "int64",
                  "type": "integer"
                },
                {
                  "name": "cltv",
                  "rawType": "int64",
                  "type": "integer"
                },
                {
                  "name": "reason",
                  "rawType": "object",
                  "type": "unknown"
                }
              ],
              "ref": "70ac129f-7561-4bed-85cd-5bef91482850",
              "rows": [
                [
                  "0",
                  "70f18737-5835-4639-be44-f1a8c6604490",
                  "4",
                  "2056",
                  null
                ],
                [
                  "1",
                  "206e8726-2743-4739-8f2f-758e30256314",
                  "3",
                  "2916",
                  null
                ],
                [
                  "2",
                  "40da1c87-0650-4378-b8d7-0a49cb21085c",
                  "4",
                  "5248",
                  null
                ],
                [
                  "3",
                  "4e28bb69-cee2-4fdf-8831-28935bb5e9b6",
                  "3",
                  "4607",
                  null
                ],
                [
                  "4",
                  "39c9339b-c22b-4bf2-8c73-deb7b6e02de1",
                  "4",
                  "3030",
                  null
                ]
              ],
              "shape": {
                "columns": 4,
                "rows": 5
              }
            },
            "text/html": [
              "<div>\n",
              "<style scoped>\n",
              "    .dataframe tbody tr th:only-of-type {\n",
              "        vertical-align: middle;\n",
              "    }\n",
              "\n",
              "    .dataframe tbody tr th {\n",
              "        vertical-align: top;\n",
              "    }\n",
              "\n",
              "    .dataframe thead th {\n",
              "        text-align: right;\n",
              "    }\n",
              "</style>\n",
              "<table border=\"1\" class=\"dataframe\">\n",
              "  <thead>\n",
              "    <tr style=\"text-align: right;\">\n",
              "      <th></th>\n",
              "      <th>customer_id</th>\n",
              "      <th>nps</th>\n",
              "      <th>cltv</th>\n",
              "      <th>reason</th>\n",
              "    </tr>\n",
              "  </thead>\n",
              "  <tbody>\n",
              "    <tr>\n",
              "      <th>0</th>\n",
              "      <td>70f18737-5835-4639-be44-f1a8c6604490</td>\n",
              "      <td>4</td>\n",
              "      <td>2056</td>\n",
              "      <td>NaN</td>\n",
              "    </tr>\n",
              "    <tr>\n",
              "      <th>1</th>\n",
              "      <td>206e8726-2743-4739-8f2f-758e30256314</td>\n",
              "      <td>3</td>\n",
              "      <td>2916</td>\n",
              "      <td>NaN</td>\n",
              "    </tr>\n",
              "    <tr>\n",
              "      <th>2</th>\n",
              "      <td>40da1c87-0650-4378-b8d7-0a49cb21085c</td>\n",
              "      <td>4</td>\n",
              "      <td>5248</td>\n",
              "      <td>NaN</td>\n",
              "    </tr>\n",
              "    <tr>\n",
              "      <th>3</th>\n",
              "      <td>4e28bb69-cee2-4fdf-8831-28935bb5e9b6</td>\n",
              "      <td>3</td>\n",
              "      <td>4607</td>\n",
              "      <td>NaN</td>\n",
              "    </tr>\n",
              "    <tr>\n",
              "      <th>4</th>\n",
              "      <td>39c9339b-c22b-4bf2-8c73-deb7b6e02de1</td>\n",
              "      <td>4</td>\n",
              "      <td>3030</td>\n",
              "      <td>NaN</td>\n",
              "    </tr>\n",
              "  </tbody>\n",
              "</table>\n",
              "</div>"
            ],
            "text/plain": [
              "                            customer_id  nps  cltv reason\n",
              "0  70f18737-5835-4639-be44-f1a8c6604490    4  2056    NaN\n",
              "1  206e8726-2743-4739-8f2f-758e30256314    3  2916    NaN\n",
              "2  40da1c87-0650-4378-b8d7-0a49cb21085c    4  5248    NaN\n",
              "3  4e28bb69-cee2-4fdf-8831-28935bb5e9b6    3  4607    NaN\n",
              "4  39c9339b-c22b-4bf2-8c73-deb7b6e02de1    4  3030    NaN"
            ]
          },
          "execution_count": 23,
          "metadata": {},
          "output_type": "execute_result"
        }
      ],
      "source": [
        "df.head()"
      ]
    },
    {
      "cell_type": "code",
      "execution_count": 24,
      "metadata": {
        "colab": {
          "base_uri": "https://localhost:8080/"
        },
        "id": "vcPoj0fM_qmy",
        "outputId": "2c7ab986-85af-4be7-b828-7f5eb1a8cfdd"
      },
      "outputs": [
        {
          "data": {
            "text/plain": [
              "np.int64(0)"
            ]
          },
          "execution_count": 24,
          "metadata": {},
          "output_type": "execute_result"
        }
      ],
      "source": [
        "df.nps.isnull().sum()"
      ]
    },
    {
      "cell_type": "code",
      "execution_count": 25,
      "metadata": {
        "colab": {
          "base_uri": "https://localhost:8080/",
          "height": 335
        },
        "id": "0FLlJ67-Blgx",
        "outputId": "df23ca85-0fa3-4192-fc30-299d73e76b4a"
      },
      "outputs": [
        {
          "data": {
            "application/vnd.microsoft.datawrangler.viewer.v0+json": {
              "columns": [
                {
                  "name": "index",
                  "rawType": "object",
                  "type": "string"
                },
                {
                  "name": "nps",
                  "rawType": "float64",
                  "type": "float"
                }
              ],
              "ref": "33f82be3-1c8f-4d1d-b946-360dbc7b7f3c",
              "rows": [
                [
                  "count",
                  "15774.0"
                ],
                [
                  "mean",
                  "3.2495245340433625"
                ],
                [
                  "std",
                  "1.201392697452314"
                ],
                [
                  "min",
                  "1.0"
                ],
                [
                  "25%",
                  "3.0"
                ],
                [
                  "50%",
                  "3.0"
                ],
                [
                  "75%",
                  "4.0"
                ],
                [
                  "max",
                  "5.0"
                ]
              ],
              "shape": {
                "columns": 1,
                "rows": 8
              }
            },
            "text/plain": [
              "count    15774.000000\n",
              "mean         3.249525\n",
              "std          1.201393\n",
              "min          1.000000\n",
              "25%          3.000000\n",
              "50%          3.000000\n",
              "75%          4.000000\n",
              "max          5.000000\n",
              "Name: nps, dtype: float64"
            ]
          },
          "execution_count": 25,
          "metadata": {},
          "output_type": "execute_result"
        }
      ],
      "source": [
        "df.nps.describe()"
      ]
    },
    {
      "cell_type": "code",
      "execution_count": 26,
      "metadata": {
        "colab": {
          "base_uri": "https://localhost:8080/"
        },
        "id": "Nc7okvuB7Lfo",
        "outputId": "8e00db36-5418-461e-f68b-7ec95b4e88fd"
      },
      "outputs": [
        {
          "data": {
            "text/plain": [
              "5"
            ]
          },
          "execution_count": 26,
          "metadata": {},
          "output_type": "execute_result"
        }
      ],
      "source": [
        "df.nps.nunique()"
      ]
    },
    {
      "cell_type": "code",
      "execution_count": 27,
      "metadata": {
        "colab": {
          "base_uri": "https://localhost:8080/",
          "height": 487
        },
        "id": "xGC2S-ce_qkB",
        "outputId": "73ccbd82-dfb0-42d3-c472-1a885d856d8f"
      },
      "outputs": [
        {
          "data": {
            "image/png": "[encoded data removed]",
            "text/plain": [
              "<Figure size 800x500 with 1 Axes>"
            ]
          },
          "metadata": {},
          "output_type": "display_data"
        }
      ],
      "source": [
        "\n",
        "\n",
        "# Define the full range of NPS scores\n",
        "nps_range = range(1, 6)\n",
        "\n",
        "# Count occurrences, ensuring all values from 1 to 5 are included\n",
        "nps_counts = df['nps'].value_counts().reindex(nps_range, fill_value=0)\n",
        "\n",
        "# Plot the bar chart\n",
        "plt.figure(figsize=(8, 5))\n",
        "nps_counts.plot(kind='bar', color='skyblue', edgecolor='black')\n",
        "\n",
        "# Add labels and title\n",
        "plt.xlabel('NPS Score')\n",
        "plt.ylabel('Count')\n",
        "plt.title('Distribution of NPS Scores')\n",
        "plt.xticks(rotation=0)  # Keep labels readable\n",
        "plt.grid(axis='y', linestyle='--', alpha=0.7)\n",
        "\n",
        "# Show the plot\n",
        "plt.show()\n"
      ]
    },
    {
      "cell_type": "code",
      "execution_count": 28,
      "metadata": {
        "colab": {
          "base_uri": "https://localhost:8080/"
        },
        "id": "67hEWNwe_qhF",
        "outputId": "46540f4f-3aae-45bf-9e27-1218d38a9bc5"
      },
      "outputs": [
        {
          "name": "stdout",
          "output_type": "stream",
          "text": [
            "Mean NPS Score: 3.2495245340433625\n",
            "Median NPS Score: 3.0\n",
            "Mode NPS Score: 3\n"
          ]
        }
      ],
      "source": [
        "\n",
        "\n",
        "# Calculate mean, median, and mode\n",
        "mean_nps = df['nps'].mean()\n",
        "median_nps = df['nps'].median()\n",
        "mode_nps = stats.mode(df['nps'])[0]#[0]  # Extracting mode value\n",
        "\n",
        "# Print the values\n",
        "print(f\"Mean NPS Score: {mean_nps}\")\n",
        "print(f\"Median NPS Score: {median_nps}\")\n",
        "print(f\"Mode NPS Score: {mode_nps}\")\n"
      ]
    },
    {
      "cell_type": "code",
      "execution_count": 29,
      "metadata": {
        "colab": {
          "base_uri": "https://localhost:8080/",
          "height": 504
        },
        "id": "dbiQ_5gz_qbd",
        "outputId": "67895a60-4326-41cb-8b1a-f813fe89bbcb"
      },
      "outputs": [
        {
          "name": "stdout",
          "output_type": "stream",
          "text": [
            "Correlation between NPS and CLTV: 0.06840632432648826\n"
          ]
        },
        {
          "data": {
            "image/png": "[encoded data removed]",
            "text/plain": [
              "<Figure size 800x500 with 1 Axes>"
            ]
          },
          "metadata": {},
          "output_type": "display_data"
        }
      ],
      "source": [
        "\n",
        "\n",
        "# Calculate correlation\n",
        "correlation = df['nps'].corr(df['cltv'])\n",
        "\n",
        "# Print correlation value\n",
        "print(f\"Correlation between NPS and CLTV: {correlation}\")\n",
        "\n",
        "# Visualize the relationship\n",
        "plt.figure(figsize=(8, 5))\n",
        "sns.scatterplot(x=df['nps'], y=df['cltv'], alpha=0.6)\n",
        "plt.xlabel('NPS Score')\n",
        "plt.ylabel('Customer Lifetime Value (CLTV)')\n",
        "plt.title('Correlation Between NPS and CLTV')\n",
        "plt.grid(True)\n",
        "plt.show()\n"
      ]
    },
    {
      "cell_type": "code",
      "execution_count": 30,
      "metadata": {
        "id": "2fGiDQebAj8U"
      },
      "outputs": [],
      "source": [
        "\n",
        "feature1_insights = \"\"\"\n",
        "#####No Missing Values\n",
        "\n",
        "The column contains no null values, ensuring completeness and reliability for analysis.\n",
        "\n",
        "####Unique Value Distribution\n",
        "\n",
        "The column has only 5 unique values, indicating a structured categorical variable.\n",
        "\n",
        "####Most Frequent NPS Score\n",
        "\n",
        "Visualization revealed that NPS = 3 has the highest number of occurrences, making it the most common rating among customers.\n",
        "\n",
        "####Mean Score Trend\n",
        "\n",
        "The mean NPS score is greater than 3, suggesting that customer responses tend to lean towards higher satisfaction levels.\n",
        "\n",
        "####Correlation with CLTV\n",
        "\n",
        "A correlation check found that NPS and CLTV have a relationship of 6.84%, indicating a weak but potentially significant link between satisfaction and customer lifetime value.\n",
        "\"\"\""
      ]
    },
    {
      "cell_type": "code",
      "execution_count": 31,
      "metadata": {
        "colab": {
          "base_uri": "https://localhost:8080/",
          "height": 122
        },
        "id": "KzYXffa-Aj_Z",
        "outputId": "b85a6e34-3d3f-4d49-f571-152b343be9fa"
      },
      "outputs": [
        {
          "data": {
            "text/html": [
              "<div style='margin:10px 0;'><h3 style='display:inline; color:#2a4d69; margin-right:10px;'>feature1_insights:</h3><span style='font-size:1.2em; color:#4b86b4;'>\n",
              "#####No Missing Values\n",
              "\n",
              "The column contains no null values, ensuring completeness and reliability for analysis.\n",
              "\n",
              "####Unique Value Distribution\n",
              "\n",
              "The column has only 5 unique values, indicating a structured categorical variable.\n",
              "\n",
              "####Most Frequent NPS Score\n",
              "\n",
              "Visualization revealed that NPS = 3 has the highest number of occurrences, making it the most common rating among customers.\n",
              "\n",
              "####Mean Score Trend\n",
              "\n",
              "The mean NPS score is greater than 3, suggesting that customer responses tend to lean towards higher satisfaction levels.\n",
              "\n",
              "####Correlation with CLTV\n",
              "\n",
              "A correlation check found that NPS and CLTV have a relationship of 6.84%, indicating a weak but potentially significant link between satisfaction and customer lifetime value.\n",
              "</span></div>"
            ],
            "text/plain": [
              "<IPython.core.display.HTML object>"
            ]
          },
          "metadata": {},
          "output_type": "display_data"
        }
      ],
      "source": [
        "# Do not modify this code\n",
        "print_tile(size=\"h3\", key='feature1_insights', value=feature1_insights)"
      ]
    },
    {
      "cell_type": "markdown",
      "metadata": {
        "id": "XXKemD6aAqr-"
      },
      "source": [
        "### B.4 Explore Feature of Interest 2\n",
        "\n",
        "> cltv'\n",
        "\n",
        "Customer Lifetime Value. The higher the value, the more valuable the customer. High value customers should be monitored for churn."
      ]
    },
    {
      "cell_type": "code",
      "execution_count": 32,
      "metadata": {
        "colab": {
          "base_uri": "https://localhost:8080/",
          "height": 206
        },
        "id": "3m419KYeFBEf",
        "outputId": "2cab58b4-dacf-41a2-aa5a-6fa3090403a9"
      },
      "outputs": [
        {
          "data": {
            "application/vnd.microsoft.datawrangler.viewer.v0+json": {
              "columns": [
                {
                  "name": "index",
                  "rawType": "int64",
                  "type": "integer"
                },
                {
                  "name": "customer_id",
                  "rawType": "object",
                  "type": "string"
                },
                {
                  "name": "nps",
                  "rawType": "int64",
                  "type": "integer"
                },
                {
                  "name": "cltv",
                  "rawType": "int64",
                  "type": "integer"
                },
                {
                  "name": "reason",
                  "rawType": "object",
                  "type": "unknown"
                }
              ],
              "ref": "7fd699ad-d24f-4880-8f74-a84f91c34454",
              "rows": [
                [
                  "0",
                  "70f18737-5835-4639-be44-f1a8c6604490",
                  "4",
                  "2056",
                  null
                ],
                [
                  "1",
                  "206e8726-2743-4739-8f2f-758e30256314",
                  "3",
                  "2916",
                  null
                ],
                [
                  "2",
                  "40da1c87-0650-4378-b8d7-0a49cb21085c",
                  "4",
                  "5248",
                  null
                ],
                [
                  "3",
                  "4e28bb69-cee2-4fdf-8831-28935bb5e9b6",
                  "3",
                  "4607",
                  null
                ],
                [
                  "4",
                  "39c9339b-c22b-4bf2-8c73-deb7b6e02de1",
                  "4",
                  "3030",
                  null
                ]
              ],
              "shape": {
                "columns": 4,
                "rows": 5
              }
            },
            "text/html": [
              "<div>\n",
              "<style scoped>\n",
              "    .dataframe tbody tr th:only-of-type {\n",
              "        vertical-align: middle;\n",
              "    }\n",
              "\n",
              "    .dataframe tbody tr th {\n",
              "        vertical-align: top;\n",
              "    }\n",
              "\n",
              "    .dataframe thead th {\n",
              "        text-align: right;\n",
              "    }\n",
              "</style>\n",
              "<table border=\"1\" class=\"dataframe\">\n",
              "  <thead>\n",
              "    <tr style=\"text-align: right;\">\n",
              "      <th></th>\n",
              "      <th>customer_id</th>\n",
              "      <th>nps</th>\n",
              "      <th>cltv</th>\n",
              "      <th>reason</th>\n",
              "    </tr>\n",
              "  </thead>\n",
              "  <tbody>\n",
              "    <tr>\n",
              "      <th>0</th>\n",
              "      <td>70f18737-5835-4639-be44-f1a8c6604490</td>\n",
              "      <td>4</td>\n",
              "      <td>2056</td>\n",
              "      <td>NaN</td>\n",
              "    </tr>\n",
              "    <tr>\n",
              "      <th>1</th>\n",
              "      <td>206e8726-2743-4739-8f2f-758e30256314</td>\n",
              "      <td>3</td>\n",
              "      <td>2916</td>\n",
              "      <td>NaN</td>\n",
              "    </tr>\n",
              "    <tr>\n",
              "      <th>2</th>\n",
              "      <td>40da1c87-0650-4378-b8d7-0a49cb21085c</td>\n",
              "      <td>4</td>\n",
              "      <td>5248</td>\n",
              "      <td>NaN</td>\n",
              "    </tr>\n",
              "    <tr>\n",
              "      <th>3</th>\n",
              "      <td>4e28bb69-cee2-4fdf-8831-28935bb5e9b6</td>\n",
              "      <td>3</td>\n",
              "      <td>4607</td>\n",
              "      <td>NaN</td>\n",
              "    </tr>\n",
              "    <tr>\n",
              "      <th>4</th>\n",
              "      <td>39c9339b-c22b-4bf2-8c73-deb7b6e02de1</td>\n",
              "      <td>4</td>\n",
              "      <td>3030</td>\n",
              "      <td>NaN</td>\n",
              "    </tr>\n",
              "  </tbody>\n",
              "</table>\n",
              "</div>"
            ],
            "text/plain": [
              "                            customer_id  nps  cltv reason\n",
              "0  70f18737-5835-4639-be44-f1a8c6604490    4  2056    NaN\n",
              "1  206e8726-2743-4739-8f2f-758e30256314    3  2916    NaN\n",
              "2  40da1c87-0650-4378-b8d7-0a49cb21085c    4  5248    NaN\n",
              "3  4e28bb69-cee2-4fdf-8831-28935bb5e9b6    3  4607    NaN\n",
              "4  39c9339b-c22b-4bf2-8c73-deb7b6e02de1    4  3030    NaN"
            ]
          },
          "execution_count": 32,
          "metadata": {},
          "output_type": "execute_result"
        }
      ],
      "source": [
        "df.head()"
      ]
    },
    {
      "cell_type": "code",
      "execution_count": 33,
      "metadata": {
        "colab": {
          "base_uri": "https://localhost:8080/"
        },
        "id": "-0LrRSLocQuh",
        "outputId": "022d8a87-fc38-4f74-b717-49df0ed5b118"
      },
      "outputs": [
        {
          "name": "stdout",
          "output_type": "stream",
          "text": [
            "<class 'pandas.core.series.Series'>\n",
            "RangeIndex: 15774 entries, 0 to 15773\n",
            "Series name: cltv\n",
            "Non-Null Count  Dtype\n",
            "--------------  -----\n",
            "15774 non-null  int64\n",
            "dtypes: int64(1)\n",
            "memory usage: 123.4 KB\n"
          ]
        }
      ],
      "source": [
        "df.cltv.info()"
      ]
    },
    {
      "cell_type": "code",
      "execution_count": 34,
      "metadata": {
        "colab": {
          "base_uri": "https://localhost:8080/",
          "height": 335
        },
        "id": "VD-9aevZFA7w",
        "outputId": "02b242c3-dfcb-4780-d53e-8616f7327aaf"
      },
      "outputs": [
        {
          "data": {
            "application/vnd.microsoft.datawrangler.viewer.v0+json": {
              "columns": [
                {
                  "name": "index",
                  "rawType": "object",
                  "type": "string"
                },
                {
                  "name": "cltv",
                  "rawType": "float64",
                  "type": "float"
                }
              ],
              "ref": "61d71b18-91a1-43c0-a0ff-74f411d1dcd6",
              "rows": [
                [
                  "count",
                  "15774.0"
                ],
                [
                  "mean",
                  "4386.955749968302"
                ],
                [
                  "std",
                  "1191.571121288843"
                ],
                [
                  "min",
                  "2003.0"
                ],
                [
                  "25%",
                  "3424.0"
                ],
                [
                  "50%",
                  "4539.0"
                ],
                [
                  "75%",
                  "5362.75"
                ],
                [
                  "max",
                  "6500.0"
                ]
              ],
              "shape": {
                "columns": 1,
                "rows": 8
              }
            },
            "text/plain": [
              "count    15774.000000\n",
              "mean      4386.955750\n",
              "std       1191.571121\n",
              "min       2003.000000\n",
              "25%       3424.000000\n",
              "50%       4539.000000\n",
              "75%       5362.750000\n",
              "max       6500.000000\n",
              "Name: cltv, dtype: float64"
            ]
          },
          "execution_count": 34,
          "metadata": {},
          "output_type": "execute_result"
        }
      ],
      "source": [
        "df.cltv.describe()"
      ]
    },
    {
      "cell_type": "code",
      "execution_count": 35,
      "metadata": {
        "colab": {
          "base_uri": "https://localhost:8080/"
        },
        "id": "NenhE_17FA4W",
        "outputId": "f9b19fa4-8385-42a5-f806-0e89d5f9988d"
      },
      "outputs": [
        {
          "name": "stdout",
          "output_type": "stream",
          "text": [
            "Mean cltv Score: 4386.955749968302\n",
            "Median cltv Score: 4539.0\n",
            "Mode cltv Score: 5651\n"
          ]
        }
      ],
      "source": [
        "\n",
        "# Calculate mean, median, and mode\n",
        "mean_cltv = df['cltv'].mean()\n",
        "median_cltv = df['cltv'].median()\n",
        "mode_cltv = stats.mode(df['cltv'])[0]#[0]  # Extracting mode value\n",
        "\n",
        "# Print the values\n",
        "print(f\"Mean cltv Score: {mean_cltv}\")\n",
        "print(f\"Median cltv Score: {median_cltv}\")\n",
        "print(f\"Mode cltv Score: {mode_cltv}\")"
      ]
    },
    {
      "cell_type": "code",
      "execution_count": 36,
      "metadata": {
        "colab": {
          "base_uri": "https://localhost:8080/",
          "height": 542
        },
        "id": "1RTPoUGnFA1z",
        "outputId": "a8be6f69-713f-434e-9b04-202dadef05f7"
      },
      "outputs": [
        {
          "data": {
            "image/png": "[encoded data removed]",
            "text/plain": [
              "<Figure size 800x600 with 2 Axes>"
            ]
          },
          "metadata": {},
          "output_type": "display_data"
        }
      ],
      "source": [
        "\n",
        "# Create a figure with two subplots\n",
        "fig, (ax_box, ax_hist) = plt.subplots(2, sharex=True, gridspec_kw={\"height_ratios\": (.15, .85)}, figsize=(8, 6))\n",
        "\n",
        "# Boxplot\n",
        "sns.boxplot(x=df['cltv'], ax=ax_box, color='lightblue')\n",
        "ax_box.set(xlabel='')  # Remove x-axis label for boxplot\n",
        "\n",
        "# Histogram\n",
        "sns.histplot(df['cltv'], bins=30, kde=True, ax=ax_hist, color='skyblue')\n",
        "ax_hist.set_xlabel('Customer Lifetime Value (CLTV)')\n",
        "ax_hist.set_ylabel('Frequency')\n",
        "ax_hist.set_title('CLTV Distribution')\n",
        "\n",
        "# Remove unnecessary spines\n",
        "sns.despine(ax=ax_hist)\n",
        "sns.despine(ax=ax_box, left=True)\n",
        "\n",
        "# Show the plot\n",
        "plt.show()\n"
      ]
    },
    {
      "cell_type": "markdown",
      "metadata": {
        "id": "T_b6SFcG-dSb"
      },
      "source": [
        "the distribution is slightly right skewed meaning cltv has moderate to high value customers"
      ]
    },
    {
      "cell_type": "code",
      "execution_count": null,
      "metadata": {
        "id": "sGyhZ28KFAvx"
      },
      "outputs": [],
      "source": []
    },
    {
      "cell_type": "code",
      "execution_count": 37,
      "metadata": {
        "id": "WcGhHW9eAtBA"
      },
      "outputs": [],
      "source": [
        "\n",
        "feature_2_insights = \"\"\"Maximum CLTV Value:\n",
        "\n",
        "The highest recorded Customer Lifetime Value (CLTV) is 6500, indicating the presence of high-value customers.\n",
        "\n",
        "75th Percentile Analysis:\n",
        "\n",
        "The 75th percentile is 5362, meaning that 25% of customers have a CLTV above this threshold, highlighting a valuable customer segment.\n",
        "\n",
        "Mean CLTV Trend:\n",
        "\n",
        "The average CLTV is 4386, suggesting that most customers fall within a mid-range value category.\n",
        "\n",
        "Right-Skewed Distribution:\n",
        "\n",
        "The CLTV data is slightly right-skewed, indicating that while most customers have moderate CLTV values, there are a few exceptionally high-value customers that increase the overall mean.\n",
        "\"\"\""
      ]
    },
    {
      "cell_type": "code",
      "execution_count": 38,
      "metadata": {
        "colab": {
          "base_uri": "https://localhost:8080/",
          "height": 122
        },
        "id": "4fj5PBwAAtNh",
        "outputId": "a19f6856-d185-417c-c118-d19e14e6649c"
      },
      "outputs": [
        {
          "data": {
            "text/html": [
              "<div style='margin:10px 0;'><h3 style='display:inline; color:#2a4d69; margin-right:10px;'>feature_2_insights:</h3><span style='font-size:1.2em; color:#4b86b4;'>Maximum CLTV Value:\n",
              "\n",
              "The highest recorded Customer Lifetime Value (CLTV) is 6500, indicating the presence of high-value customers.\n",
              "\n",
              "75th Percentile Analysis:\n",
              "\n",
              "The 75th percentile is 5362, meaning that 25% of customers have a CLTV above this threshold, highlighting a valuable customer segment.\n",
              "\n",
              "Mean CLTV Trend:\n",
              "\n",
              "The average CLTV is 4386, suggesting that most customers fall within a mid-range value category.\n",
              "\n",
              "Right-Skewed Distribution:\n",
              "\n",
              "The CLTV data is slightly right-skewed, indicating that while most customers have moderate CLTV values, there are a few exceptionally high-value customers that increase the overall mean.\n",
              "</span></div>"
            ],
            "text/plain": [
              "<IPython.core.display.HTML object>"
            ]
          },
          "metadata": {},
          "output_type": "display_data"
        }
      ],
      "source": [
        "# Do not modify this code\n",
        "print_tile(size=\"h3\", key='feature_2_insights', value=feature_2_insights)"
      ]
    },
    {
      "cell_type": "markdown",
      "metadata": {
        "id": "QJyWG1tUAtce"
      },
      "source": [
        "### B.5 Explore Feature of Interest n\n",
        "\n",
        "> reason\n",
        "\n",
        "Customer’s specific reason for leaving the company"
      ]
    },
    {
      "cell_type": "code",
      "execution_count": 39,
      "metadata": {
        "colab": {
          "base_uri": "https://localhost:8080/",
          "height": 206
        },
        "id": "SNl-P7cldyUt",
        "outputId": "a53cc891-f68f-4f37-de5d-dbecad8621a3"
      },
      "outputs": [
        {
          "data": {
            "application/vnd.microsoft.datawrangler.viewer.v0+json": {
              "columns": [
                {
                  "name": "index",
                  "rawType": "int64",
                  "type": "integer"
                },
                {
                  "name": "customer_id",
                  "rawType": "object",
                  "type": "string"
                },
                {
                  "name": "nps",
                  "rawType": "int64",
                  "type": "integer"
                },
                {
                  "name": "cltv",
                  "rawType": "int64",
                  "type": "integer"
                },
                {
                  "name": "reason",
                  "rawType": "object",
                  "type": "unknown"
                }
              ],
              "ref": "b1b8cb62-4f51-42c2-a014-6bff5413348d",
              "rows": [
                [
                  "0",
                  "70f18737-5835-4639-be44-f1a8c6604490",
                  "4",
                  "2056",
                  null
                ],
                [
                  "1",
                  "206e8726-2743-4739-8f2f-758e30256314",
                  "3",
                  "2916",
                  null
                ],
                [
                  "2",
                  "40da1c87-0650-4378-b8d7-0a49cb21085c",
                  "4",
                  "5248",
                  null
                ],
                [
                  "3",
                  "4e28bb69-cee2-4fdf-8831-28935bb5e9b6",
                  "3",
                  "4607",
                  null
                ],
                [
                  "4",
                  "39c9339b-c22b-4bf2-8c73-deb7b6e02de1",
                  "4",
                  "3030",
                  null
                ]
              ],
              "shape": {
                "columns": 4,
                "rows": 5
              }
            },
            "text/html": [
              "<div>\n",
              "<style scoped>\n",
              "    .dataframe tbody tr th:only-of-type {\n",
              "        vertical-align: middle;\n",
              "    }\n",
              "\n",
              "    .dataframe tbody tr th {\n",
              "        vertical-align: top;\n",
              "    }\n",
              "\n",
              "    .dataframe thead th {\n",
              "        text-align: right;\n",
              "    }\n",
              "</style>\n",
              "<table border=\"1\" class=\"dataframe\">\n",
              "  <thead>\n",
              "    <tr style=\"text-align: right;\">\n",
              "      <th></th>\n",
              "      <th>customer_id</th>\n",
              "      <th>nps</th>\n",
              "      <th>cltv</th>\n",
              "      <th>reason</th>\n",
              "    </tr>\n",
              "  </thead>\n",
              "  <tbody>\n",
              "    <tr>\n",
              "      <th>0</th>\n",
              "      <td>70f18737-5835-4639-be44-f1a8c6604490</td>\n",
              "      <td>4</td>\n",
              "      <td>2056</td>\n",
              "      <td>NaN</td>\n",
              "    </tr>\n",
              "    <tr>\n",
              "      <th>1</th>\n",
              "      <td>206e8726-2743-4739-8f2f-758e30256314</td>\n",
              "      <td>3</td>\n",
              "      <td>2916</td>\n",
              "      <td>NaN</td>\n",
              "    </tr>\n",
              "    <tr>\n",
              "      <th>2</th>\n",
              "      <td>40da1c87-0650-4378-b8d7-0a49cb21085c</td>\n",
              "      <td>4</td>\n",
              "      <td>5248</td>\n",
              "      <td>NaN</td>\n",
              "    </tr>\n",
              "    <tr>\n",
              "      <th>3</th>\n",
              "      <td>4e28bb69-cee2-4fdf-8831-28935bb5e9b6</td>\n",
              "      <td>3</td>\n",
              "      <td>4607</td>\n",
              "      <td>NaN</td>\n",
              "    </tr>\n",
              "    <tr>\n",
              "      <th>4</th>\n",
              "      <td>39c9339b-c22b-4bf2-8c73-deb7b6e02de1</td>\n",
              "      <td>4</td>\n",
              "      <td>3030</td>\n",
              "      <td>NaN</td>\n",
              "    </tr>\n",
              "  </tbody>\n",
              "</table>\n",
              "</div>"
            ],
            "text/plain": [
              "                            customer_id  nps  cltv reason\n",
              "0  70f18737-5835-4639-be44-f1a8c6604490    4  2056    NaN\n",
              "1  206e8726-2743-4739-8f2f-758e30256314    3  2916    NaN\n",
              "2  40da1c87-0650-4378-b8d7-0a49cb21085c    4  5248    NaN\n",
              "3  4e28bb69-cee2-4fdf-8831-28935bb5e9b6    3  4607    NaN\n",
              "4  39c9339b-c22b-4bf2-8c73-deb7b6e02de1    4  3030    NaN"
            ]
          },
          "execution_count": 39,
          "metadata": {},
          "output_type": "execute_result"
        }
      ],
      "source": [
        "df.head()"
      ]
    },
    {
      "cell_type": "code",
      "execution_count": null,
      "metadata": {
        "id": "DcKF1mz-fuCm"
      },
      "outputs": [],
      "source": []
    },
    {
      "cell_type": "code",
      "execution_count": 40,
      "metadata": {
        "colab": {
          "base_uri": "https://localhost:8080/"
        },
        "id": "knlE_UshdyPw",
        "outputId": "b9900ed3-60ef-4468-c797-f76cb3b1d8fc"
      },
      "outputs": [
        {
          "data": {
            "text/plain": [
              "20"
            ]
          },
          "execution_count": 40,
          "metadata": {},
          "output_type": "execute_result"
        }
      ],
      "source": [
        "df.reason.nunique()"
      ]
    },
    {
      "cell_type": "code",
      "execution_count": 41,
      "metadata": {
        "colab": {
          "base_uri": "https://localhost:8080/"
        },
        "id": "bJf5YwNPeCSN",
        "outputId": "73014c63-fbad-4c2b-bf87-78bac0410bb9"
      },
      "outputs": [
        {
          "data": {
            "text/plain": [
              "array([nan, 'Competitor offered more data', 'Long distance charges',\n",
              "       'Competitor offered higher download speeds',\n",
              "       'Attitude of service provider', 'Network reliability',\n",
              "       'Poor expertise of online support', 'Competitor made better offer',\n",
              "       'Competitor had better devices', 'Attitude of support person',\n",
              "       'Service dissatisfaction', 'Extra data charges',\n",
              "       'Product dissatisfaction', 'Moved', \"Don't know\",\n",
              "       'Limited range of services', 'Price too high',\n",
              "       'Lack of self-service on Website',\n",
              "       'Lack of affordable download/upload speed', 'Deceased',\n",
              "       'Poor expertise of phone support'], dtype=object)"
            ]
          },
          "execution_count": 41,
          "metadata": {},
          "output_type": "execute_result"
        }
      ],
      "source": [
        "df.reason.unique()"
      ]
    },
    {
      "cell_type": "code",
      "execution_count": 42,
      "metadata": {
        "colab": {
          "base_uri": "https://localhost:8080/"
        },
        "id": "dKbrvyCTgIoK",
        "outputId": "c28c1a0d-0af7-4d15-9e56-85e71925a4fd"
      },
      "outputs": [
        {
          "data": {
            "text/plain": [
              "15774"
            ]
          },
          "execution_count": 42,
          "metadata": {},
          "output_type": "execute_result"
        }
      ],
      "source": [
        "len(df.reason)"
      ]
    },
    {
      "cell_type": "code",
      "execution_count": 43,
      "metadata": {
        "colab": {
          "base_uri": "https://localhost:8080/"
        },
        "id": "wVfD-Yy5ArRD",
        "outputId": "b113d598-3815-4e47-e654-18da81cf2f56"
      },
      "outputs": [
        {
          "data": {
            "text/plain": [
              "np.int64(11585)"
            ]
          },
          "execution_count": 43,
          "metadata": {},
          "output_type": "execute_result"
        }
      ],
      "source": [
        "df.reason.isnull().sum()"
      ]
    },
    {
      "cell_type": "code",
      "execution_count": 44,
      "metadata": {
        "colab": {
          "base_uri": "https://localhost:8080/"
        },
        "id": "X6HvPPArdyL-",
        "outputId": "50aea1d2-fe5e-4c65-b91d-177b69374591"
      },
      "outputs": [
        {
          "data": {
            "text/plain": [
              "np.int64(4189)"
            ]
          },
          "execution_count": 44,
          "metadata": {},
          "output_type": "execute_result"
        }
      ],
      "source": [
        "non_nan_count = df['reason'].count()\n",
        "non_nan_count"
      ]
    },
    {
      "cell_type": "code",
      "execution_count": 45,
      "metadata": {
        "colab": {
          "base_uri": "https://localhost:8080/"
        },
        "id": "5jYSIuWZfmG6",
        "outputId": "15492cb1-6b9d-4482-9f02-ae4fd5602e68"
      },
      "outputs": [
        {
          "name": "stdout",
          "output_type": "stream",
          "text": [
            "reason\n",
            "Competitor made better offer                 687\n",
            "Competitor had better devices                667\n",
            "Attitude of support person                   516\n",
            "Don't know                                   306\n",
            "Competitor offered more data                 267\n",
            "Attitude of service provider                 220\n",
            "Product dissatisfaction                      208\n",
            "Competitor offered higher download speeds    207\n",
            "Network reliability                          177\n",
            "Price too high                               169\n",
            "Long distance charges                        142\n",
            "Service dissatisfaction                      114\n",
            "Moved                                         88\n",
            "Poor expertise of online support              85\n",
            "Extra data charges                            84\n",
            "Limited range of services                     84\n",
            "Lack of self-service on Website               67\n",
            "Lack of affordable download/upload speed      63\n",
            "Poor expertise of phone support               23\n",
            "Deceased                                      15\n",
            "Name: count, dtype: int64\n"
          ]
        }
      ],
      "source": [
        "\n",
        "# Count occurrences of each unique reason\n",
        "reason_counts = df['reason'].value_counts()\n",
        "\n",
        "# Print the frequency distribution\n",
        "print(reason_counts)\n"
      ]
    },
    {
      "cell_type": "code",
      "execution_count": 46,
      "metadata": {
        "colab": {
          "base_uri": "https://localhost:8080/",
          "height": 444
        },
        "id": "vsLDry4IhH1W",
        "outputId": "a7f249f7-bfdc-4c5f-dc99-ce83edb32450"
      },
      "outputs": [
        {
          "data": {
            "image/png": "[encoded data removed]",
            "text/plain": [
              "<Figure size 1000x500 with 1 Axes>"
            ]
          },
          "metadata": {},
          "output_type": "display_data"
        }
      ],
      "source": [
        "\n",
        "\n",
        "# Combine all text from the 'reason' column into a single string\n",
        "text = ' '.join(df['reason'].dropna().astype(str))\n",
        "\n",
        "# Define stopwords to exclude common words\n",
        "stopwords = set(STOPWORDS)\n",
        "\n",
        "# Generate the word cloud\n",
        "wordcloud = WordCloud(width=800, height=400, background_color='white', stopwords=stopwords).generate(text)\n",
        "\n",
        "# Display the word cloud\n",
        "plt.figure(figsize=(10, 5))\n",
        "plt.imshow(wordcloud, interpolation='bilinear')\n",
        "plt.axis('off')\n",
        "plt.title(\"Customer Dissatisfaction Reasons - Word Cloud\")\n",
        "plt.show()\n"
      ]
    },
    {
      "cell_type": "code",
      "execution_count": null,
      "metadata": {
        "id": "-dFiUWZ2hHyK"
      },
      "outputs": [],
      "source": []
    },
    {
      "cell_type": "code",
      "execution_count": 47,
      "metadata": {
        "id": "ZfZZobc5AwTh"
      },
      "outputs": [],
      "source": [
        "\n",
        "feature_n_insights = \"\"\"\n",
        "####Missing Values Analysis\n",
        "The columns has 11.5k mssising values which will be addressed in the cleaning phase.\n",
        "\n",
        "####Unique Value Count\n",
        "\n",
        "The columns has 20 unique values which tell us feedback is consistent\n",
        "\n",
        "#####Top Reasons for Customer Dissatisfaction\n",
        "\n",
        "- The most frequently cited reasons for dissatisfaction include:\n",
        "\n",
        "- Better deals offered by competitors → Customers may switch due to attractive pricing or promotions.\n",
        "\n",
        "- Better devices provided by competitors → Device features and availability play a crucial role in customer choices.\n",
        "\n",
        "- Download speed concerns → Slow or unreliable internet speed impacts customer experience.\n",
        "\n",
        "- Support personnel issues → Poor interactions with customer service can lead to churn.\n",
        "\"\"\""
      ]
    },
    {
      "cell_type": "code",
      "execution_count": 48,
      "metadata": {
        "colab": {
          "base_uri": "https://localhost:8080/",
          "height": 122
        },
        "id": "Aipze4yfAwbP",
        "outputId": "4d540e08-7788-4c31-8974-2af709171a2c"
      },
      "outputs": [
        {
          "data": {
            "text/html": [
              "<div style='margin:10px 0;'><h3 style='display:inline; color:#2a4d69; margin-right:10px;'>feature_n_insights:</h3><span style='font-size:1.2em; color:#4b86b4;'>\n",
              "####Missing Values Analysis\n",
              "The columns has 11.5k mssising values which will be addressed in the cleaning phase.\n",
              "\n",
              "####Unique Value Count\n",
              "\n",
              "The columns has 20 unique values which tell us feedback is consistent\n",
              "\n",
              "#####Top Reasons for Customer Dissatisfaction\n",
              "\n",
              "- The most frequently cited reasons for dissatisfaction include:\n",
              "\n",
              "- Better deals offered by competitors → Customers may switch due to attractive pricing or promotions.\n",
              "\n",
              "- Better devices provided by competitors → Device features and availability play a crucial role in customer choices.\n",
              "\n",
              "- Download speed concerns → Slow or unreliable internet speed impacts customer experience.\n",
              "\n",
              "- Support personnel issues → Poor interactions with customer service can lead to churn.\n",
              "</span></div>"
            ],
            "text/plain": [
              "<IPython.core.display.HTML object>"
            ]
          },
          "metadata": {},
          "output_type": "display_data"
        }
      ],
      "source": [
        "# Do not modify this code\n",
        "print_tile(size=\"h3\", key='feature_n_insights', value=feature_n_insights)"
      ]
    },
    {
      "cell_type": "markdown",
      "metadata": {
        "id": "ErH_bh604mOe"
      },
      "source": [
        "---\n",
        "## C. Data Cleaning"
      ]
    },
    {
      "cell_type": "markdown",
      "metadata": {
        "id": "miQ6SiKlscLx"
      },
      "source": [
        "### C.1 Copy Dataset"
      ]
    },
    {
      "cell_type": "code",
      "execution_count": 49,
      "metadata": {
        "id": "HrXR7NCLtwxB"
      },
      "outputs": [],
      "source": [
        "# Do not modify this code\n",
        "df_clean = df.copy()\n",
        "try:\n",
        "  df_clean = df.copy()\n",
        "except Exception as e:\n",
        "  print(e)"
      ]
    },
    {
      "cell_type": "markdown",
      "metadata": {
        "id": "bII_PglX5E-r"
      },
      "source": [
        "### C.2 Fixing \"removing duplicates\"\n",
        "\n",
        "> Provide some explanations on why you believe it is important to fix this issue and its impacts\n",
        "\n",
        "> Improves data accuracy – Prevents extreme values from distorting statistical analysis.\n",
        "\n",
        "> Enhances model performance – Leads to more reliable and robust predictive models.\n",
        "\n",
        "> Removes bias – Ensures insights are not skewed by anomalies.\n",
        "\n",
        "> Improves visualization clarity – Makes trends easier to interpret without misleading spikes.\n",
        "\n",
        "> Supports better decision-making – Helps businesses focus on patterns that truly matter."
      ]
    },
    {
      "cell_type": "code",
      "execution_count": 50,
      "metadata": {
        "colab": {
          "base_uri": "https://localhost:8080/",
          "height": 206
        },
        "id": "1B3XsHRuhySI",
        "outputId": "2ac959b7-ac8a-4ccb-8580-59e2449b6036"
      },
      "outputs": [
        {
          "data": {
            "application/vnd.microsoft.datawrangler.viewer.v0+json": {
              "columns": [
                {
                  "name": "index",
                  "rawType": "int64",
                  "type": "integer"
                },
                {
                  "name": "customer_id",
                  "rawType": "object",
                  "type": "string"
                },
                {
                  "name": "nps",
                  "rawType": "int64",
                  "type": "integer"
                },
                {
                  "name": "cltv",
                  "rawType": "int64",
                  "type": "integer"
                },
                {
                  "name": "reason",
                  "rawType": "object",
                  "type": "unknown"
                }
              ],
              "ref": "c53f423e-ba77-48a8-98a2-0be1d8c7c295",
              "rows": [
                [
                  "1557",
                  "000f51ad-8208-46f4-a213-6b83de3dded1",
                  "4",
                  "3733",
                  null
                ],
                [
                  "3192",
                  "000f51ad-8208-46f4-a213-6b83de3dded1",
                  "4",
                  "3733",
                  null
                ],
                [
                  "13235",
                  "000f51ad-8208-46f4-a213-6b83de3dded1",
                  "4",
                  "3733",
                  null
                ],
                [
                  "8165",
                  "001a6be8-e23e-47e1-8384-18051f2d03b5",
                  "5",
                  "4152",
                  null
                ],
                [
                  "8208",
                  "001a6be8-e23e-47e1-8384-18051f2d03b5",
                  "5",
                  "4152",
                  null
                ]
              ],
              "shape": {
                "columns": 4,
                "rows": 5
              }
            },
            "text/html": [
              "<div>\n",
              "<style scoped>\n",
              "    .dataframe tbody tr th:only-of-type {\n",
              "        vertical-align: middle;\n",
              "    }\n",
              "\n",
              "    .dataframe tbody tr th {\n",
              "        vertical-align: top;\n",
              "    }\n",
              "\n",
              "    .dataframe thead th {\n",
              "        text-align: right;\n",
              "    }\n",
              "</style>\n",
              "<table border=\"1\" class=\"dataframe\">\n",
              "  <thead>\n",
              "    <tr style=\"text-align: right;\">\n",
              "      <th></th>\n",
              "      <th>customer_id</th>\n",
              "      <th>nps</th>\n",
              "      <th>cltv</th>\n",
              "      <th>reason</th>\n",
              "    </tr>\n",
              "  </thead>\n",
              "  <tbody>\n",
              "    <tr>\n",
              "      <th>1557</th>\n",
              "      <td>000f51ad-8208-46f4-a213-6b83de3dded1</td>\n",
              "      <td>4</td>\n",
              "      <td>3733</td>\n",
              "      <td>NaN</td>\n",
              "    </tr>\n",
              "    <tr>\n",
              "      <th>3192</th>\n",
              "      <td>000f51ad-8208-46f4-a213-6b83de3dded1</td>\n",
              "      <td>4</td>\n",
              "      <td>3733</td>\n",
              "      <td>NaN</td>\n",
              "    </tr>\n",
              "    <tr>\n",
              "      <th>13235</th>\n",
              "      <td>000f51ad-8208-46f4-a213-6b83de3dded1</td>\n",
              "      <td>4</td>\n",
              "      <td>3733</td>\n",
              "      <td>NaN</td>\n",
              "    </tr>\n",
              "    <tr>\n",
              "      <th>8165</th>\n",
              "      <td>001a6be8-e23e-47e1-8384-18051f2d03b5</td>\n",
              "      <td>5</td>\n",
              "      <td>4152</td>\n",
              "      <td>NaN</td>\n",
              "    </tr>\n",
              "    <tr>\n",
              "      <th>8208</th>\n",
              "      <td>001a6be8-e23e-47e1-8384-18051f2d03b5</td>\n",
              "      <td>5</td>\n",
              "      <td>4152</td>\n",
              "      <td>NaN</td>\n",
              "    </tr>\n",
              "  </tbody>\n",
              "</table>\n",
              "</div>"
            ],
            "text/plain": [
              "                                customer_id  nps  cltv reason\n",
              "1557   000f51ad-8208-46f4-a213-6b83de3dded1    4  3733    NaN\n",
              "3192   000f51ad-8208-46f4-a213-6b83de3dded1    4  3733    NaN\n",
              "13235  000f51ad-8208-46f4-a213-6b83de3dded1    4  3733    NaN\n",
              "8165   001a6be8-e23e-47e1-8384-18051f2d03b5    5  4152    NaN\n",
              "8208   001a6be8-e23e-47e1-8384-18051f2d03b5    5  4152    NaN"
            ]
          },
          "execution_count": 50,
          "metadata": {},
          "output_type": "execute_result"
        }
      ],
      "source": [
        "\n",
        "\n",
        "df_clean_duplicates = df_clean[df_clean.duplicated(subset=['customer_id'], keep=False)]\n",
        "\n",
        "\n",
        "# Display duplicate rows\n",
        "df_clean_duplicates.head()# Sorting duplicate rows by 'customer_id' as an object (string)\n",
        "df_clean_duplicates_sorted = df_clean_duplicates.sort_values(by='customer_id', key=lambda x: x.astype(str))\n",
        "\n",
        "# Display the sorted duplicate rows\n",
        "df_clean_duplicates_sorted.head()\n"
      ]
    },
    {
      "cell_type": "code",
      "execution_count": 51,
      "metadata": {
        "colab": {
          "base_uri": "https://localhost:8080/"
        },
        "id": "2KaMb34PEO_U",
        "outputId": "cda34124-2c9f-47c6-b0b2-14231bb1c94e"
      },
      "outputs": [
        {
          "data": {
            "text/plain": [
              "15774"
            ]
          },
          "execution_count": 51,
          "metadata": {},
          "output_type": "execute_result"
        }
      ],
      "source": [
        "prev=df_clean.shape[0]\n",
        "prev"
      ]
    },
    {
      "cell_type": "code",
      "execution_count": 52,
      "metadata": {
        "id": "6iVzma4mhyOx"
      },
      "outputs": [],
      "source": [
        "\n",
        "df_clean = df_clean.drop_duplicates(keep='first', ignore_index=True)\n"
      ]
    },
    {
      "cell_type": "code",
      "execution_count": 53,
      "metadata": {
        "colab": {
          "base_uri": "https://localhost:8080/"
        },
        "id": "y5hbMMvWD2BW",
        "outputId": "18b4ec41-a8f9-41c8-972d-b87913175386"
      },
      "outputs": [
        {
          "data": {
            "text/plain": [
              "7043"
            ]
          },
          "execution_count": 53,
          "metadata": {},
          "output_type": "execute_result"
        }
      ],
      "source": [
        "current=df_clean.shape[0]\n",
        "current\n"
      ]
    },
    {
      "cell_type": "markdown",
      "metadata": {
        "id": "KCPSKpoXEkcH"
      },
      "source": [
        "number duplicate values removed"
      ]
    },
    {
      "cell_type": "code",
      "execution_count": 54,
      "metadata": {
        "colab": {
          "base_uri": "https://localhost:8080/"
        },
        "id": "OB82aPGCEg1T",
        "outputId": "12ccc958-39e5-4232-9aa5-a437584e4566"
      },
      "outputs": [
        {
          "data": {
            "text/plain": [
              "8731"
            ]
          },
          "execution_count": 54,
          "metadata": {},
          "output_type": "execute_result"
        }
      ],
      "source": [
        "prev-current"
      ]
    },
    {
      "cell_type": "code",
      "execution_count": 55,
      "metadata": {
        "colab": {
          "base_uri": "https://localhost:8080/",
          "height": 53
        },
        "id": "28jkVv5GhyK7",
        "outputId": "22ee391e-0cfa-4fb4-af96-7233f63121bc"
      },
      "outputs": [
        {
          "data": {
            "application/vnd.microsoft.datawrangler.viewer.v0+json": {
              "columns": [
                {
                  "name": "index",
                  "rawType": "int64",
                  "type": "integer"
                },
                {
                  "name": "customer_id",
                  "rawType": "object",
                  "type": "string"
                },
                {
                  "name": "nps",
                  "rawType": "int64",
                  "type": "integer"
                },
                {
                  "name": "cltv",
                  "rawType": "int64",
                  "type": "integer"
                },
                {
                  "name": "reason",
                  "rawType": "object",
                  "type": "string"
                }
              ],
              "ref": "354038fe-1a57-463d-be1d-b16e059d231c",
              "rows": [],
              "shape": {
                "columns": 4,
                "rows": 0
              }
            },
            "text/html": [
              "<div>\n",
              "<style scoped>\n",
              "    .dataframe tbody tr th:only-of-type {\n",
              "        vertical-align: middle;\n",
              "    }\n",
              "\n",
              "    .dataframe tbody tr th {\n",
              "        vertical-align: top;\n",
              "    }\n",
              "\n",
              "    .dataframe thead th {\n",
              "        text-align: right;\n",
              "    }\n",
              "</style>\n",
              "<table border=\"1\" class=\"dataframe\">\n",
              "  <thead>\n",
              "    <tr style=\"text-align: right;\">\n",
              "      <th></th>\n",
              "      <th>customer_id</th>\n",
              "      <th>nps</th>\n",
              "      <th>cltv</th>\n",
              "      <th>reason</th>\n",
              "    </tr>\n",
              "  </thead>\n",
              "  <tbody>\n",
              "  </tbody>\n",
              "</table>\n",
              "</div>"
            ],
            "text/plain": [
              "Empty DataFrame\n",
              "Columns: [customer_id, nps, cltv, reason]\n",
              "Index: []"
            ]
          },
          "execution_count": 55,
          "metadata": {},
          "output_type": "execute_result"
        }
      ],
      "source": [
        "\n",
        "\n",
        "df_clean_duplicates = df_clean[df_clean.duplicated(subset=['customer_id'], keep=False)]\n",
        "\n",
        "\n",
        "# Display duplicate rows\n",
        "df_clean_duplicates.head()# Sorting duplicate rows by 'customer_id' as an object (string)\n",
        "df_clean_duplicates_sorted = df_clean_duplicates.sort_values(by='customer_id', key=lambda x: x.astype(str))\n",
        "\n",
        "# Display the sorted duplicate rows\n",
        "df_clean_duplicates_sorted.head()\n"
      ]
    },
    {
      "cell_type": "code",
      "execution_count": 56,
      "metadata": {
        "id": "I1X7fuzKBAY4"
      },
      "outputs": [],
      "source": [
        "\n",
        "data_cleaning_1_explanations = \"\"\"\n",
        "Identified and removed approximately 7,000 duplicate records based on customer_id, ensuring data integrity.\n",
        "\n",
        "Kept only the first occurrence of each duplicate to maintain relevant customer information while eliminating redundancy.\n",
        "\"\"\""
      ]
    },
    {
      "cell_type": "code",
      "execution_count": 57,
      "metadata": {
        "colab": {
          "base_uri": "https://localhost:8080/",
          "height": 81
        },
        "id": "cp0KsXWrBAbb",
        "outputId": "42650303-e9b6-4861-dab0-fc570961c6ab"
      },
      "outputs": [
        {
          "data": {
            "text/html": [
              "<div style='margin:10px 0;'><h3 style='display:inline; color:#2a4d69; margin-right:10px;'>data_cleaning_1_explanations:</h3><span style='font-size:1.2em; color:#4b86b4;'>\n",
              "Identified and removed approximately 7,000 duplicate records based on customer_id, ensuring data integrity.\n",
              "\n",
              "Kept only the first occurrence of each duplicate to maintain relevant customer information while eliminating redundancy.\n",
              "</span></div>"
            ],
            "text/plain": [
              "<IPython.core.display.HTML object>"
            ]
          },
          "metadata": {},
          "output_type": "display_data"
        }
      ],
      "source": [
        "# Do not modify this code\n",
        "print_tile(size=\"h3\", key='data_cleaning_1_explanations', value=data_cleaning_1_explanations)"
      ]
    },
    {
      "cell_type": "markdown",
      "metadata": {
        "id": "Z9jsWz-z5-XS"
      },
      "source": [
        "---\n",
        "## D. Feature Engineering"
      ]
    },
    {
      "cell_type": "markdown",
      "metadata": {
        "id": "DMN-Plpk6EPF"
      },
      "source": [
        "### D.1 Copy Datasets"
      ]
    },
    {
      "cell_type": "code",
      "execution_count": 58,
      "metadata": {
        "id": "viLWliu76Fm6"
      },
      "outputs": [],
      "source": [
        "# Do not modify this code\n",
        "try:\n",
        "  df_eng = df_clean.copy()\n",
        "except Exception as e:\n",
        "  print(e)"
      ]
    },
    {
      "cell_type": "markdown",
      "metadata": {
        "id": "imwl7ISs6O0t"
      },
      "source": [
        "### D.2 New Feature \"nps category>\"\n",
        "\n",
        "> Converts raw NPS scores into meaningful categories (Promoters, Passives, Detractors).\n",
        "\n",
        "> Helps businesses identify customer satisfaction trends efficiently.\n",
        "> Allows targeted actions based on customer sentiment.\n",
        "\n",
        "> we can focus on identifying and converting Passives & retaining Promoters."
      ]
    },
    {
      "cell_type": "code",
      "execution_count": 59,
      "metadata": {
        "colab": {
          "base_uri": "https://localhost:8080/"
        },
        "id": "xZ2c6-XgjwZ_",
        "outputId": "0090c05b-dbdd-44cf-f7d6-6e6e3dc18140"
      },
      "outputs": [
        {
          "name": "stdout",
          "output_type": "stream",
          "text": [
            "   nps nps_category\n",
            "0    4     Promoter\n",
            "1    3      Passive\n",
            "2    4     Promoter\n",
            "3    3      Passive\n",
            "4    4     Promoter\n"
          ]
        }
      ],
      "source": [
        "\n",
        "\n",
        "# Convert NPS score into categorical labels\n",
        "def categorize_nps(score):\n",
        "    if score >= 4:\n",
        "        return 'Promoter'\n",
        "    elif score == 3:\n",
        "        return 'Passive'\n",
        "    else:\n",
        "        return 'Detractor'\n",
        "\n",
        "# Apply function to create a new column\n",
        "df_eng['nps_category'] = df_eng['nps'].apply(categorize_nps)\n",
        "\n",
        "# Display the first few rows with new classification\n",
        "print(df_eng[['nps', 'nps_category']].head())\n"
      ]
    },
    {
      "cell_type": "code",
      "execution_count": 60,
      "metadata": {
        "colab": {
          "base_uri": "https://localhost:8080/",
          "height": 206
        },
        "id": "L39PcvQ_jwV8",
        "outputId": "3b21acd1-ff37-4940-cfac-df74e98e2ad9"
      },
      "outputs": [
        {
          "data": {
            "application/vnd.microsoft.datawrangler.viewer.v0+json": {
              "columns": [
                {
                  "name": "index",
                  "rawType": "int64",
                  "type": "integer"
                },
                {
                  "name": "customer_id",
                  "rawType": "object",
                  "type": "string"
                },
                {
                  "name": "nps",
                  "rawType": "int64",
                  "type": "integer"
                },
                {
                  "name": "cltv",
                  "rawType": "int64",
                  "type": "integer"
                },
                {
                  "name": "reason",
                  "rawType": "object",
                  "type": "unknown"
                },
                {
                  "name": "nps_category",
                  "rawType": "object",
                  "type": "string"
                }
              ],
              "ref": "97e2e13d-b095-4485-bbaa-d77d3945e6a2",
              "rows": [
                [
                  "0",
                  "70f18737-5835-4639-be44-f1a8c6604490",
                  "4",
                  "2056",
                  null,
                  "Promoter"
                ],
                [
                  "1",
                  "206e8726-2743-4739-8f2f-758e30256314",
                  "3",
                  "2916",
                  null,
                  "Passive"
                ],
                [
                  "2",
                  "40da1c87-0650-4378-b8d7-0a49cb21085c",
                  "4",
                  "5248",
                  null,
                  "Promoter"
                ],
                [
                  "3",
                  "4e28bb69-cee2-4fdf-8831-28935bb5e9b6",
                  "3",
                  "4607",
                  null,
                  "Passive"
                ],
                [
                  "4",
                  "39c9339b-c22b-4bf2-8c73-deb7b6e02de1",
                  "4",
                  "3030",
                  null,
                  "Promoter"
                ]
              ],
              "shape": {
                "columns": 5,
                "rows": 5
              }
            },
            "text/html": [
              "<div>\n",
              "<style scoped>\n",
              "    .dataframe tbody tr th:only-of-type {\n",
              "        vertical-align: middle;\n",
              "    }\n",
              "\n",
              "    .dataframe tbody tr th {\n",
              "        vertical-align: top;\n",
              "    }\n",
              "\n",
              "    .dataframe thead th {\n",
              "        text-align: right;\n",
              "    }\n",
              "</style>\n",
              "<table border=\"1\" class=\"dataframe\">\n",
              "  <thead>\n",
              "    <tr style=\"text-align: right;\">\n",
              "      <th></th>\n",
              "      <th>customer_id</th>\n",
              "      <th>nps</th>\n",
              "      <th>cltv</th>\n",
              "      <th>reason</th>\n",
              "      <th>nps_category</th>\n",
              "    </tr>\n",
              "  </thead>\n",
              "  <tbody>\n",
              "    <tr>\n",
              "      <th>0</th>\n",
              "      <td>70f18737-5835-4639-be44-f1a8c6604490</td>\n",
              "      <td>4</td>\n",
              "      <td>2056</td>\n",
              "      <td>NaN</td>\n",
              "      <td>Promoter</td>\n",
              "    </tr>\n",
              "    <tr>\n",
              "      <th>1</th>\n",
              "      <td>206e8726-2743-4739-8f2f-758e30256314</td>\n",
              "      <td>3</td>\n",
              "      <td>2916</td>\n",
              "      <td>NaN</td>\n",
              "      <td>Passive</td>\n",
              "    </tr>\n",
              "    <tr>\n",
              "      <th>2</th>\n",
              "      <td>40da1c87-0650-4378-b8d7-0a49cb21085c</td>\n",
              "      <td>4</td>\n",
              "      <td>5248</td>\n",
              "      <td>NaN</td>\n",
              "      <td>Promoter</td>\n",
              "    </tr>\n",
              "    <tr>\n",
              "      <th>3</th>\n",
              "      <td>4e28bb69-cee2-4fdf-8831-28935bb5e9b6</td>\n",
              "      <td>3</td>\n",
              "      <td>4607</td>\n",
              "      <td>NaN</td>\n",
              "      <td>Passive</td>\n",
              "    </tr>\n",
              "    <tr>\n",
              "      <th>4</th>\n",
              "      <td>39c9339b-c22b-4bf2-8c73-deb7b6e02de1</td>\n",
              "      <td>4</td>\n",
              "      <td>3030</td>\n",
              "      <td>NaN</td>\n",
              "      <td>Promoter</td>\n",
              "    </tr>\n",
              "  </tbody>\n",
              "</table>\n",
              "</div>"
            ],
            "text/plain": [
              "                            customer_id  nps  cltv reason nps_category\n",
              "0  70f18737-5835-4639-be44-f1a8c6604490    4  2056    NaN     Promoter\n",
              "1  206e8726-2743-4739-8f2f-758e30256314    3  2916    NaN      Passive\n",
              "2  40da1c87-0650-4378-b8d7-0a49cb21085c    4  5248    NaN     Promoter\n",
              "3  4e28bb69-cee2-4fdf-8831-28935bb5e9b6    3  4607    NaN      Passive\n",
              "4  39c9339b-c22b-4bf2-8c73-deb7b6e02de1    4  3030    NaN     Promoter"
            ]
          },
          "execution_count": 60,
          "metadata": {},
          "output_type": "execute_result"
        }
      ],
      "source": [
        "df_eng.head()"
      ]
    },
    {
      "cell_type": "code",
      "execution_count": 61,
      "metadata": {
        "colab": {
          "base_uri": "https://localhost:8080/",
          "height": 564
        },
        "id": "kKQsyoKWjwR0",
        "outputId": "b4cb331a-2376-4c56-a724-8ad90158b1cb"
      },
      "outputs": [
        {
          "data": {
            "image/png": "[encoded data removed]",
            "text/plain": [
              "<Figure size 1000x600 with 1 Axes>"
            ]
          },
          "metadata": {},
          "output_type": "display_data"
        }
      ],
      "source": [
        "\n",
        "\n",
        "# Plot boxplot to visualize CLTV distribution across NPS categories\n",
        "plt.figure(figsize=(10, 6))\n",
        "sns.boxplot(x='nps_category', y='cltv', data=df_eng, palette='coolwarm')\n",
        "\n",
        "plt.xlabel(\"NPS Category\")\n",
        "plt.ylabel(\"Customer Lifetime Value (CLTV)\")\n",
        "plt.title(\"CLTV Distribution Across NPS Categories\")\n",
        "plt.show()\n"
      ]
    },
    {
      "cell_type": "markdown",
      "metadata": {
        "id": "g2wI-uRsHt0X"
      },
      "source": [
        "Customers with higher NPS (Promoters) tend to have higher lifetime value (CLTV)."
      ]
    },
    {
      "cell_type": "code",
      "execution_count": 62,
      "metadata": {
        "id": "A0yJ6JFxBYAp"
      },
      "outputs": [],
      "source": [
        "\n",
        "feature_engineering_1_explanations = \"\"\"\n",
        "Converts raw NPS scores into meaningful categories (Promoters, Passives, Detractors).\n",
        "\n",
        "Helps businesses identify customer satisfaction trends efficiently.\n",
        "\n",
        "\n",
        "Allows targeted actions based on customer sentiment.\n",
        "\n",
        "Businesses can focus on converting Passives & retaining Promoters.\n",
        "Customers with higher NPS (Promoters) tend to have higher lifetime value (CLTV).\n",
        "\"\"\""
      ]
    },
    {
      "cell_type": "code",
      "execution_count": 63,
      "metadata": {
        "colab": {
          "base_uri": "https://localhost:8080/",
          "height": 101
        },
        "id": "OcA_nw0HBYDZ",
        "outputId": "83cce33c-2cb7-49e2-a093-00502ae1c91e"
      },
      "outputs": [
        {
          "data": {
            "text/html": [
              "<div style='margin:10px 0;'><h3 style='display:inline; color:#2a4d69; margin-right:10px;'>feature_engineering_1_explanations:</h3><span style='font-size:1.2em; color:#4b86b4;'>\n",
              "Converts raw NPS scores into meaningful categories (Promoters, Passives, Detractors).\n",
              "\n",
              "Helps businesses identify customer satisfaction trends efficiently.\n",
              "\n",
              "\n",
              "Allows targeted actions based on customer sentiment.\n",
              "\n",
              "Businesses can focus on converting Passives & retaining Promoters.\n",
              "Customers with higher NPS (Promoters) tend to have higher lifetime value (CLTV).\n",
              "</span></div>"
            ],
            "text/plain": [
              "<IPython.core.display.HTML object>"
            ]
          },
          "metadata": {},
          "output_type": "display_data"
        }
      ],
      "source": [
        "# Do not modify this code\n",
        "print_tile(size=\"h3\", key='feature_engineering_1_explanations', value=feature_engineering_1_explanations)"
      ]
    },
    {
      "cell_type": "markdown",
      "metadata": {
        "id": "jYxCnW3C6zJj"
      },
      "source": [
        "### D.3 New Feature \"avg cltv for each nps category>\"\n",
        "\n",
        "> Enables businesses to identify high-value loyal customers (Promoters with high CLTV) and potential churn risks (Detractors with low CLTV).\n",
        "> Businesses can prioritize high-CLTV Promoters for loyalty programs and exclusive offers.\n",
        "> Helps classify customers based on both satisfaction (NPS) and lifetime value (CLTV).\n",
        "\n"
      ]
    },
    {
      "cell_type": "markdown",
      "metadata": {
        "id": "XVx2672bLPUg"
      },
      "source": [
        "While most customers have CLTV below 5500, a few high-value customers (above 6000) pull the mean higher.\n",
        "\n",
        "This implies a small group of top spenders significantly impacting revenue."
      ]
    },
    {
      "cell_type": "code",
      "execution_count": 64,
      "metadata": {
        "colab": {
          "base_uri": "https://localhost:8080/"
        },
        "id": "xojWDtFnl24F",
        "outputId": "7d7171fd-7ada-40fa-e083-3cabb6811ab5"
      },
      "outputs": [
        {
          "name": "stdout",
          "output_type": "stream",
          "text": [
            "  nps_category  cltv  avg_cltv_for_nps_category\n",
            "0     Promoter  2056                4462.120830\n",
            "1      Passive  2916                4473.402627\n",
            "2     Promoter  5248                4462.120830\n",
            "3      Passive  4607                4473.402627\n",
            "4     Promoter  3030                4462.120830\n"
          ]
        }
      ],
      "source": [
        "\n",
        "# Calculate the average CLTV for each NPS category\n",
        "avg_cltv_per_nps = df_eng.groupby('nps_category')['cltv'].mean().reset_index()\n",
        "\n",
        "# Merge back into the original DataFrame\n",
        "df_eng = df_eng.merge(avg_cltv_per_nps, on='nps_category', suffixes=('', '_avg'))\n",
        "\n",
        "# Rename column for clarity\n",
        "df_eng.rename(columns={'cltv_avg': 'avg_cltv_for_nps_category'}, inplace=True)\n",
        "\n",
        "# Display the first few rows\n",
        "print(df_eng[['nps_category', 'cltv', 'avg_cltv_for_nps_category']].head())"
      ]
    },
    {
      "cell_type": "code",
      "execution_count": 65,
      "metadata": {
        "colab": {
          "base_uri": "https://localhost:8080/",
          "height": 206
        },
        "id": "qCPeEjMul20o",
        "outputId": "a4ac0575-b2e0-46da-a99a-49724079f072"
      },
      "outputs": [
        {
          "data": {
            "application/vnd.microsoft.datawrangler.viewer.v0+json": {
              "columns": [
                {
                  "name": "index",
                  "rawType": "int64",
                  "type": "integer"
                },
                {
                  "name": "customer_id",
                  "rawType": "object",
                  "type": "string"
                },
                {
                  "name": "nps",
                  "rawType": "int64",
                  "type": "integer"
                },
                {
                  "name": "cltv",
                  "rawType": "int64",
                  "type": "integer"
                },
                {
                  "name": "reason",
                  "rawType": "object",
                  "type": "unknown"
                },
                {
                  "name": "nps_category",
                  "rawType": "object",
                  "type": "string"
                },
                {
                  "name": "avg_cltv_for_nps_category",
                  "rawType": "float64",
                  "type": "float"
                }
              ],
              "ref": "7db39d17-d968-44bb-a738-a74f6c25ab5a",
              "rows": [
                [
                  "0",
                  "70f18737-5835-4639-be44-f1a8c6604490",
                  "4",
                  "2056",
                  null,
                  "Promoter",
                  "4462.120830496937"
                ],
                [
                  "1",
                  "206e8726-2743-4739-8f2f-758e30256314",
                  "3",
                  "2916",
                  null,
                  "Passive",
                  "4473.402626641651"
                ],
                [
                  "2",
                  "40da1c87-0650-4378-b8d7-0a49cb21085c",
                  "4",
                  "5248",
                  null,
                  "Promoter",
                  "4462.120830496937"
                ],
                [
                  "3",
                  "4e28bb69-cee2-4fdf-8831-28935bb5e9b6",
                  "3",
                  "4607",
                  null,
                  "Passive",
                  "4473.402626641651"
                ],
                [
                  "4",
                  "39c9339b-c22b-4bf2-8c73-deb7b6e02de1",
                  "4",
                  "3030",
                  null,
                  "Promoter",
                  "4462.120830496937"
                ]
              ],
              "shape": {
                "columns": 6,
                "rows": 5
              }
            },
            "text/html": [
              "<div>\n",
              "<style scoped>\n",
              "    .dataframe tbody tr th:only-of-type {\n",
              "        vertical-align: middle;\n",
              "    }\n",
              "\n",
              "    .dataframe tbody tr th {\n",
              "        vertical-align: top;\n",
              "    }\n",
              "\n",
              "    .dataframe thead th {\n",
              "        text-align: right;\n",
              "    }\n",
              "</style>\n",
              "<table border=\"1\" class=\"dataframe\">\n",
              "  <thead>\n",
              "    <tr style=\"text-align: right;\">\n",
              "      <th></th>\n",
              "      <th>customer_id</th>\n",
              "      <th>nps</th>\n",
              "      <th>cltv</th>\n",
              "      <th>reason</th>\n",
              "      <th>nps_category</th>\n",
              "      <th>avg_cltv_for_nps_category</th>\n",
              "    </tr>\n",
              "  </thead>\n",
              "  <tbody>\n",
              "    <tr>\n",
              "      <th>0</th>\n",
              "      <td>70f18737-5835-4639-be44-f1a8c6604490</td>\n",
              "      <td>4</td>\n",
              "      <td>2056</td>\n",
              "      <td>NaN</td>\n",
              "      <td>Promoter</td>\n",
              "      <td>4462.120830</td>\n",
              "    </tr>\n",
              "    <tr>\n",
              "      <th>1</th>\n",
              "      <td>206e8726-2743-4739-8f2f-758e30256314</td>\n",
              "      <td>3</td>\n",
              "      <td>2916</td>\n",
              "      <td>NaN</td>\n",
              "      <td>Passive</td>\n",
              "      <td>4473.402627</td>\n",
              "    </tr>\n",
              "    <tr>\n",
              "      <th>2</th>\n",
              "      <td>40da1c87-0650-4378-b8d7-0a49cb21085c</td>\n",
              "      <td>4</td>\n",
              "      <td>5248</td>\n",
              "      <td>NaN</td>\n",
              "      <td>Promoter</td>\n",
              "      <td>4462.120830</td>\n",
              "    </tr>\n",
              "    <tr>\n",
              "      <th>3</th>\n",
              "      <td>4e28bb69-cee2-4fdf-8831-28935bb5e9b6</td>\n",
              "      <td>3</td>\n",
              "      <td>4607</td>\n",
              "      <td>NaN</td>\n",
              "      <td>Passive</td>\n",
              "      <td>4473.402627</td>\n",
              "    </tr>\n",
              "    <tr>\n",
              "      <th>4</th>\n",
              "      <td>39c9339b-c22b-4bf2-8c73-deb7b6e02de1</td>\n",
              "      <td>4</td>\n",
              "      <td>3030</td>\n",
              "      <td>NaN</td>\n",
              "      <td>Promoter</td>\n",
              "      <td>4462.120830</td>\n",
              "    </tr>\n",
              "  </tbody>\n",
              "</table>\n",
              "</div>"
            ],
            "text/plain": [
              "                            customer_id  nps  cltv reason nps_category  \\\n",
              "0  70f18737-5835-4639-be44-f1a8c6604490    4  2056    NaN     Promoter   \n",
              "1  206e8726-2743-4739-8f2f-758e30256314    3  2916    NaN      Passive   \n",
              "2  40da1c87-0650-4378-b8d7-0a49cb21085c    4  5248    NaN     Promoter   \n",
              "3  4e28bb69-cee2-4fdf-8831-28935bb5e9b6    3  4607    NaN      Passive   \n",
              "4  39c9339b-c22b-4bf2-8c73-deb7b6e02de1    4  3030    NaN     Promoter   \n",
              "\n",
              "   avg_cltv_for_nps_category  \n",
              "0                4462.120830  \n",
              "1                4473.402627  \n",
              "2                4462.120830  \n",
              "3                4473.402627  \n",
              "4                4462.120830  "
            ]
          },
          "execution_count": 65,
          "metadata": {},
          "output_type": "execute_result"
        }
      ],
      "source": [
        "df_eng.head()"
      ]
    },
    {
      "cell_type": "code",
      "execution_count": 66,
      "metadata": {
        "colab": {
          "base_uri": "https://localhost:8080/",
          "height": 564
        },
        "id": "0mdRJzgKl2x0",
        "outputId": "b66a5796-7f73-4349-d214-cf00e117980a"
      },
      "outputs": [
        {
          "data": {
            "image/png": "[encoded data removed]",
            "text/plain": [
              "<Figure size 1000x600 with 1 Axes>"
            ]
          },
          "metadata": {},
          "output_type": "display_data"
        }
      ],
      "source": [
        "\n",
        "\n",
        "# Calculate average CLTV per NPS category\n",
        "avg_cltv_per_nps = df_eng.groupby('nps_category')['cltv'].mean().reset_index()\n",
        "\n",
        "# Rename column for clarity\n",
        "avg_cltv_per_nps.columns = ['nps_category', 'avg_cltv_for_nps_category']\n",
        "\n",
        "# Plot bar chart\n",
        "plt.figure(figsize=(10, 6))\n",
        "sns.barplot(x='nps_category', y='avg_cltv_for_nps_category', data=avg_cltv_per_nps, palette='coolwarm')\n",
        "\n",
        "plt.xlabel(\"NPS Category\")\n",
        "plt.ylabel(\"Average Customer Lifetime Value (CLTV)\")\n",
        "plt.title(\"Average CLTV per NPS Category\")\n",
        "plt.show()\n"
      ]
    },
    {
      "cell_type": "code",
      "execution_count": 67,
      "metadata": {
        "colab": {
          "base_uri": "https://localhost:8080/",
          "height": 144
        },
        "id": "bGLXYhWtl2r_",
        "outputId": "387a6c32-480b-4611-a94c-3ada8aec429c"
      },
      "outputs": [
        {
          "data": {
            "application/vnd.microsoft.datawrangler.viewer.v0+json": {
              "columns": [
                {
                  "name": "index",
                  "rawType": "int64",
                  "type": "integer"
                },
                {
                  "name": "nps_category",
                  "rawType": "object",
                  "type": "string"
                },
                {
                  "name": "avg_cltv_for_nps_category",
                  "rawType": "float64",
                  "type": "float"
                }
              ],
              "ref": "61ed6a0a-5644-4a65-bda0-4fb614be62b8",
              "rows": [
                [
                  "0",
                  "Detractor",
                  "4138.856944444445"
                ],
                [
                  "1",
                  "Passive",
                  "4473.402626641651"
                ],
                [
                  "2",
                  "Promoter",
                  "4462.120830496937"
                ]
              ],
              "shape": {
                "columns": 2,
                "rows": 3
              }
            },
            "text/html": [
              "<div>\n",
              "<style scoped>\n",
              "    .dataframe tbody tr th:only-of-type {\n",
              "        vertical-align: middle;\n",
              "    }\n",
              "\n",
              "    .dataframe tbody tr th {\n",
              "        vertical-align: top;\n",
              "    }\n",
              "\n",
              "    .dataframe thead th {\n",
              "        text-align: right;\n",
              "    }\n",
              "</style>\n",
              "<table border=\"1\" class=\"dataframe\">\n",
              "  <thead>\n",
              "    <tr style=\"text-align: right;\">\n",
              "      <th></th>\n",
              "      <th>nps_category</th>\n",
              "      <th>avg_cltv_for_nps_category</th>\n",
              "    </tr>\n",
              "  </thead>\n",
              "  <tbody>\n",
              "    <tr>\n",
              "      <th>0</th>\n",
              "      <td>Detractor</td>\n",
              "      <td>4138.856944</td>\n",
              "    </tr>\n",
              "    <tr>\n",
              "      <th>1</th>\n",
              "      <td>Passive</td>\n",
              "      <td>4473.402627</td>\n",
              "    </tr>\n",
              "    <tr>\n",
              "      <th>2</th>\n",
              "      <td>Promoter</td>\n",
              "      <td>4462.120830</td>\n",
              "    </tr>\n",
              "  </tbody>\n",
              "</table>\n",
              "</div>"
            ],
            "text/plain": [
              "  nps_category  avg_cltv_for_nps_category\n",
              "0    Detractor                4138.856944\n",
              "1      Passive                4473.402627\n",
              "2     Promoter                4462.120830"
            ]
          },
          "execution_count": 67,
          "metadata": {},
          "output_type": "execute_result"
        }
      ],
      "source": [
        "avg_cltv_per_nps"
      ]
    },
    {
      "cell_type": "code",
      "execution_count": 68,
      "metadata": {
        "id": "UycAHGJoBdWf"
      },
      "outputs": [],
      "source": [
        "\n",
        "feature_engineering_2_explanations = \"\"\"\n",
        "####Majority of Customers Have CLTV Between 4000 and 5500\n",
        "\n",
        " suggesting most customers provide moderate lifetime value to the business.\n",
        "\n",
        "\n",
        "\n",
        "\"\"\""
      ]
    },
    {
      "cell_type": "code",
      "execution_count": 69,
      "metadata": {
        "colab": {
          "base_uri": "https://localhost:8080/",
          "height": 81
        },
        "id": "2XBrXLrMBdZb",
        "outputId": "81b44942-5bd7-405a-a3bc-d9cbb599bdd0"
      },
      "outputs": [
        {
          "data": {
            "text/html": [
              "<div style='margin:10px 0;'><h3 style='display:inline; color:#2a4d69; margin-right:10px;'>feature_engineering_2_explanations:</h3><span style='font-size:1.2em; color:#4b86b4;'>\n",
              "####Majority of Customers Have CLTV Between 4000 and 5500\n",
              "\n",
              " suggesting most customers provide moderate lifetime value to the business.\n",
              "\n",
              "\n",
              "\n",
              "</span></div>"
            ],
            "text/plain": [
              "<IPython.core.display.HTML object>"
            ]
          },
          "metadata": {},
          "output_type": "display_data"
        }
      ],
      "source": [
        "# Do not modify this code\n",
        "print_tile(size=\"h3\", key='feature_engineering_2_explanations', value=feature_engineering_2_explanations)"
      ]
    },
    {
      "cell_type": "markdown",
      "metadata": {
        "id": "gWF4jvXb62kU"
      },
      "source": [
        "### D.4 New Feature \"cltv_percentile_rank\"\n",
        "\n",
        "> Converts raw CLTV values into percentile ranks, making it easier to compare customer value across different groups.\n",
        "\n",
        "> High CLTV percentile customers can be prioritized for loyalty programs, while lower percentile customers can be engaged with incentives to increase spending.\n",
        "\n"
      ]
    },
    {
      "cell_type": "code",
      "execution_count": null,
      "metadata": {
        "id": "dfXFMHqw62r4"
      },
      "outputs": [],
      "source": []
    },
    {
      "cell_type": "code",
      "execution_count": 70,
      "metadata": {
        "colab": {
          "base_uri": "https://localhost:8080/"
        },
        "id": "3cN8HsLvmCzx",
        "outputId": "1a096fcb-a9cf-4ede-d9b7-9841862302df"
      },
      "outputs": [
        {
          "name": "stdout",
          "output_type": "stream",
          "text": [
            "                               customer_id  cltv  cltv_percentile_rank\n",
            "241   864b72fa-0026-46fd-bc6a-12931814e97e  6500              1.000000\n",
            "4724  589cedfc-893b-4b9c-b4d9-c6a93b3be332  6499              0.999787\n",
            "6538  7159c630-009e-454a-bdcd-41fe24818988  6499              0.999787\n",
            "663   c9e31aaa-d400-45f7-96fc-c51a5bf8f386  6495              0.999574\n",
            "5502  5af515ae-cc08-4ffb-b268-389ff20f966e  6494              0.999361\n"
          ]
        }
      ],
      "source": [
        "\n",
        "# Calculate CLTV percentile rank\n",
        "df_eng['cltv_percentile_rank'] = df_eng['cltv'].rank(pct=True)\n",
        "\n",
        "# Display top spenders (sorted by CLTV)\n",
        "df_eng_sorted = df_eng.sort_values(by='cltv', ascending=False)\n",
        "\n",
        "# Show first few rows\n",
        "print(df_eng_sorted[['customer_id', 'cltv', 'cltv_percentile_rank']].head())\n"
      ]
    },
    {
      "cell_type": "code",
      "execution_count": 71,
      "metadata": {
        "colab": {
          "base_uri": "https://localhost:8080/",
          "height": 564
        },
        "id": "tvT23-gBmCtN",
        "outputId": "a6f0e743-c1d4-4a9c-f39c-6883d24f8b64"
      },
      "outputs": [
        {
          "data": {
            "image/png": "[encoded data removed]",
            "text/plain": [
              "<Figure size 1000x600 with 1 Axes>"
            ]
          },
          "metadata": {},
          "output_type": "display_data"
        }
      ],
      "source": [
        "\n",
        "\n",
        "# Plot boxplot to visualize CLTV percentile rank across NPS categories\n",
        "plt.figure(figsize=(10, 6))\n",
        "sns.boxplot(x='nps_category', y='cltv_percentile_rank', data=df_eng, palette='coolwarm')\n",
        "\n",
        "plt.xlabel(\"NPS Category\")\n",
        "plt.ylabel(\"CLTV Percentile Rank\")\n",
        "plt.title(\"CLTV Percentile Rank Distribution Across NPS Categories\")\n",
        "plt.show()\n"
      ]
    },
    {
      "cell_type": "code",
      "execution_count": 72,
      "metadata": {
        "colab": {
          "base_uri": "https://localhost:8080/",
          "height": 564
        },
        "id": "F7zsX3lgmCqM",
        "outputId": "7a32a41b-f9bb-49f5-8df6-02c61be81b95"
      },
      "outputs": [
        {
          "data": {
            "image/png": "[encoded data removed]",
            "text/plain": [
              "<Figure size 1000x600 with 1 Axes>"
            ]
          },
          "metadata": {},
          "output_type": "display_data"
        }
      ],
      "source": [
        "\n",
        "\n",
        "# Define quartiles for CLTV percentile rank\n",
        "df_eng['cltv_quartile'] = pd.qcut(df_eng['cltv_percentile_rank'], q=4, labels=['Q1', 'Q2', 'Q3', 'Q4'])\n",
        "\n",
        "# Count occurrences of NPS categories within each quartile\n",
        "nps_distribution = df_eng.groupby(['cltv_quartile', 'nps_category']).size().reset_index(name='count')\n",
        "\n",
        "# Plot grouped bar chart\n",
        "plt.figure(figsize=(10, 6))\n",
        "sns.barplot(x='cltv_quartile', y='count', hue='nps_category', data=nps_distribution, palette='coolwarm')\n",
        "\n",
        "plt.xlabel(\"CLTV Percentile Quartile\")\n",
        "plt.ylabel(\"Count of NPS Categories\")\n",
        "plt.title(\"NPS Category Distribution Across CLTV Percentile Quartiles\")\n",
        "plt.legend(title=\"NPS Category\")\n",
        "plt.show()\n"
      ]
    },
    {
      "cell_type": "markdown",
      "metadata": {
        "id": "2_ZE1zRXQMq6"
      },
      "source": [
        "we can clearly see that the passive and promoters outweight the detractors by alot in the q2,q3,and q4"
      ]
    },
    {
      "cell_type": "code",
      "execution_count": null,
      "metadata": {
        "id": "t7EYTu-BeIzk"
      },
      "outputs": [],
      "source": []
    },
    {
      "cell_type": "code",
      "execution_count": null,
      "metadata": {
        "id": "RS5-FnJzeIiV"
      },
      "outputs": [],
      "source": []
    },
    {
      "cell_type": "code",
      "execution_count": 73,
      "metadata": {
        "id": "HoJM7xR1BipS"
      },
      "outputs": [],
      "source": [
        "\n",
        "feature_engineering_3_explanations = \"\"\"\n",
        "\n",
        "#### Standardizes CLTV Comparison\n",
        "\n",
        "Converts raw CLTV values into percentile ranks, making it easier to compare customers across different value segments.\n",
        "\n",
        "Helps businesses identify top spenders efficiently without relying on absolute CLTV values.\n",
        "\n",
        "#### Optimizes Loyalty & Retention Strategies\n",
        "\n",
        "High CLTV percentile customers can be prioritized for exclusive loyalty programs and special offers to enhance engagement.\n",
        "\n",
        "Lower CLTV percentile customers can be targeted with incentives to increase spending and improve retention.\n",
        "\n",
        "#### NPS Category Trends Across CLTV Quartiles\n",
        "\n",
        "We can clearly observe that Passives and Promoters significantly outnumber Detractors in Q2, Q3, and Q4 of CLTV percentile rank.\n",
        "\n",
        "This suggests that higher CLTV customers tend to have better satisfaction scores, reinforcing the connection between customer experience and long-term revenue potential.\n",
        "\"\"\""
      ]
    },
    {
      "cell_type": "code",
      "execution_count": 74,
      "metadata": {
        "colab": {
          "base_uri": "https://localhost:8080/",
          "height": 142
        },
        "id": "_DlZzZHjBiuf",
        "outputId": "f5142b90-19a8-417d-9cd0-14dcaa329693"
      },
      "outputs": [
        {
          "data": {
            "text/html": [
              "<div style='margin:10px 0;'><h3 style='display:inline; color:#2a4d69; margin-right:10px;'>feature_engineering_3_explanations:</h3><span style='font-size:1.2em; color:#4b86b4;'>\n",
              "\n",
              "#### Standardizes CLTV Comparison\n",
              "\n",
              "Converts raw CLTV values into percentile ranks, making it easier to compare customers across different value segments.\n",
              "\n",
              "Helps businesses identify top spenders efficiently without relying on absolute CLTV values.\n",
              "\n",
              "#### Optimizes Loyalty & Retention Strategies\n",
              "\n",
              "High CLTV percentile customers can be prioritized for exclusive loyalty programs and special offers to enhance engagement.\n",
              "\n",
              "Lower CLTV percentile customers can be targeted with incentives to increase spending and improve retention.\n",
              "\n",
              "#### NPS Category Trends Across CLTV Quartiles\n",
              "\n",
              "We can clearly observe that Passives and Promoters significantly outnumber Detractors in Q2, Q3, and Q4 of CLTV percentile rank.\n",
              "\n",
              "This suggests that higher CLTV customers tend to have better satisfaction scores, reinforcing the connection between customer experience and long-term revenue potential.\n",
              "</span></div>"
            ],
            "text/plain": [
              "<IPython.core.display.HTML object>"
            ]
          },
          "metadata": {},
          "output_type": "display_data"
        }
      ],
      "source": [
        "# Do not modify this code\n",
        "print_tile(size=\"h3\", key='feature_engineering_3_explanations', value=feature_engineering_3_explanations)"
      ]
    },
    {
      "cell_type": "markdown",
      "metadata": {
        "id": "s0CJolMhdmLf"
      },
      "source": [
        "---\n",
        "## E. Save Datasets"
      ]
    },
    {
      "cell_type": "code",
      "execution_count": 75,
      "metadata": {
        "id": "GxX5x_rXmSKD"
      },
      "outputs": [],
      "source": [
        "try:\n",
        "  df_eng.to_csv(\"../data/processed/df_eng_customer_satisfaction.csv\", index=False)\n",
        "\n",
        "except Exception as e:\n",
        "  print(e)"
      ]
    }
  ],
  "metadata": {
    "colab": {
      "provenance": [],
      "toc_visible": true
    },
    "kernelspec": {
      "display_name": "ml-telecom-py3.13",
      "language": "python",
      "name": "python3"
    },
    "language_info": {
      "codemirror_mode": {
        "name": "ipython",
        "version": 3
      },
      "file_extension": ".py",
      "mimetype": "text/x-python",
      "name": "python",
      "nbconvert_exporter": "python",
      "pygments_lexer": "ipython3",
      "version": "3.11.6"
    }
  },
  "nbformat": 4,
  "nbformat_minor": 0
}
