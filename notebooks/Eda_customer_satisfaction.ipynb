{
  "cells": [
    {
      "cell_type": "markdown",
      "metadata": {
        "id": "uQ6wc2HE0pke"
      },
      "source": [
        "# **EDA Notebook**\n",
        "\n"
      ]
    },
    {
      "cell_type": "markdown",
      "metadata": {
        "id": "KFVpE17Ahezu"
      },
      "source": [
        "---\n",
        "## 0. Setup Environment"
      ]
    },
    {
      "cell_type": "markdown",
      "metadata": {
        "id": "jM39DExClCc5"
      },
      "source": [
        "### 0.b Disable Warnings Messages\n",
        "\n",
        "> Do not modify this code before running it"
      ]
    },
    {
      "cell_type": "code",
      "execution_count": 1,
      "metadata": {
        "id": "6FneOmBfka9G"
      },
      "outputs": [],
      "source": [
        "# Do not modify this code\n",
        "import warnings\n",
        "warnings.simplefilter(action='ignore', category=FutureWarning)"
      ]
    },
    {
      "cell_type": "markdown",
      "metadata": {
        "id": "CgTrMfyylVLf"
      },
      "source": [
        "### 0.c Install Additional Packages\n",
        "\n",
        "> If you are using additional packages, you need to install them here using the command: `! pip install <package_name>`"
      ]
    },
    {
      "cell_type": "markdown",
      "metadata": {
        "id": "mXFKfa2tp1ch"
      },
      "source": [
        "### 0.d Import Packages"
      ]
    },
    {
      "cell_type": "code",
      "execution_count": 2,
      "metadata": {
        "id": "GBEAwdncnlAx"
      },
      "outputs": [],
      "source": [
        "\n",
        "import pandas as pd\n",
        "import altair as alt\n",
        "import matplotlib.pyplot as plt\n",
        "import seaborn as sns\n",
        "import numpy as np\n",
        "import plotly.express as px\n",
        "import re"
      ]
    },
    {
      "cell_type": "markdown",
      "metadata": {
        "id": "P0zsEPshwy1K"
      },
      "source": [
        "---\n",
        "## B. Data Understanding"
      ]
    },
    {
      "cell_type": "code",
      "execution_count": 3,
      "metadata": {},
      "outputs": [],
      "source": [
        "from IPython.display import display, HTML\n",
        "\n",
        "def print_tile(size=\"h3\", key=None, value=None):\n",
        "    \"\"\"\n",
        "    Display a styled HTML tile in a Jupyter notebook.\n",
        "    Args:\n",
        "        size (str): HTML heading size (e.g., 'h1', 'h2', 'h3').\n",
        "        key (str): Optional label for the tile.\n",
        "        value (str): The value or content to display.\n",
        "    \"\"\"\n",
        "    if key is not None:\n",
        "        html = f\"<div style='margin:10px 0;'><{size} style='display:inline; color:#2a4d69; margin-right:10px;'>{key}:</{size}><span style='font-size:1.2em; color:#4b86b4;'>{value}</span></div>\"\n",
        "    else:\n",
        "        html = f\"<div style='margin:10px 0;'><{size} style='color:#2a4d69;'>{value}</{size}></div>\"\n",
        "    display(HTML(html))"
      ]
    },
    {
      "cell_type": "markdown",
      "metadata": {
        "id": "kKgkHZnNypnE"
      },
      "source": [
        "### B.1   Load Dataset"
      ]
    },
    {
      "cell_type": "code",
      "execution_count": 4,
      "metadata": {
        "id": "l7NaNXKGx7JT"
      },
      "outputs": [],
      "source": [
        "# Do not modify this code\n",
        "try:\n",
        "  df = pd.read_csv(\"../data/raw/customer_address.csv\")\n",
        "except Exception as e:\n",
        "  print(e)"
      ]
    },
    {
      "cell_type": "markdown",
      "metadata": {
        "id": "gL5f0ePt0SGX"
      },
      "source": [
        "### B.2 Explore Dataset\n",
        "\n",
        "> You can add more cells in this section"
      ]
    },
    {
      "cell_type": "code",
      "execution_count": 5,
      "metadata": {
        "colab": {
          "base_uri": "https://localhost:8080/"
        },
        "id": "9N5_4H9ccszZ",
        "outputId": "3966e3cf-ed02-481a-fe17-0f83eba15500"
      },
      "outputs": [
        {
          "data": {
            "text/plain": [
              "Index(['Unnamed: 0', 'customer_id', 'street', 'type', 'suburb', 'postcode',\n",
              "       'full_address'],\n",
              "      dtype='object')"
            ]
          },
          "execution_count": 5,
          "metadata": {},
          "output_type": "execute_result"
        }
      ],
      "source": [
        "df.columns"
      ]
    },
    {
      "cell_type": "markdown",
      "metadata": {
        "id": "DNYs8EiFnNzg"
      },
      "source": [
        "Popping the Unnamed: 0 column because it is an index column"
      ]
    },
    {
      "cell_type": "code",
      "execution_count": 6,
      "metadata": {
        "colab": {
          "base_uri": "https://localhost:8080/",
          "height": 458
        },
        "id": "Dqz7o6vYeHYv",
        "outputId": "0495c18b-a8ac-4633-f92d-6f82b41af27c"
      },
      "outputs": [
        {
          "data": {
            "application/vnd.microsoft.datawrangler.viewer.v0+json": {
              "columns": [
                {
                  "name": "index",
                  "rawType": "int64",
                  "type": "integer"
                },
                {
                  "name": "Unnamed: 0",
                  "rawType": "int64",
                  "type": "integer"
                }
              ],
              "ref": "fa7ba12e-da10-4a97-85ba-5cdd3b57658a",
              "rows": [
                [
                  "0",
                  "0"
                ],
                [
                  "1",
                  "1"
                ],
                [
                  "2",
                  "2"
                ],
                [
                  "3",
                  "3"
                ],
                [
                  "4",
                  "4"
                ],
                [
                  "5",
                  "5"
                ],
                [
                  "6",
                  "6"
                ],
                [
                  "7",
                  "7"
                ],
                [
                  "8",
                  "8"
                ],
                [
                  "9",
                  "9"
                ],
                [
                  "10",
                  "10"
                ],
                [
                  "11",
                  "11"
                ],
                [
                  "12",
                  "12"
                ],
                [
                  "13",
                  "13"
                ],
                [
                  "14",
                  "14"
                ],
                [
                  "15",
                  "15"
                ],
                [
                  "16",
                  "16"
                ],
                [
                  "17",
                  "17"
                ],
                [
                  "18",
                  "18"
                ],
                [
                  "19",
                  "19"
                ],
                [
                  "20",
                  "20"
                ],
                [
                  "21",
                  "21"
                ],
                [
                  "22",
                  "22"
                ],
                [
                  "23",
                  "23"
                ],
                [
                  "24",
                  "24"
                ],
                [
                  "25",
                  "25"
                ],
                [
                  "26",
                  "26"
                ],
                [
                  "27",
                  "27"
                ],
                [
                  "28",
                  "28"
                ],
                [
                  "29",
                  "29"
                ],
                [
                  "30",
                  "30"
                ],
                [
                  "31",
                  "31"
                ],
                [
                  "32",
                  "32"
                ],
                [
                  "33",
                  "33"
                ],
                [
                  "34",
                  "34"
                ],
                [
                  "35",
                  "35"
                ],
                [
                  "36",
                  "36"
                ],
                [
                  "37",
                  "37"
                ],
                [
                  "38",
                  "38"
                ],
                [
                  "39",
                  "39"
                ],
                [
                  "40",
                  "40"
                ],
                [
                  "41",
                  "41"
                ],
                [
                  "42",
                  "42"
                ],
                [
                  "43",
                  "43"
                ],
                [
                  "44",
                  "44"
                ],
                [
                  "45",
                  "45"
                ],
                [
                  "46",
                  "46"
                ],
                [
                  "47",
                  "47"
                ],
                [
                  "48",
                  "48"
                ],
                [
                  "49",
                  "49"
                ]
              ],
              "shape": {
                "columns": 1,
                "rows": 11365
              }
            },
            "text/plain": [
              "0            0\n",
              "1            1\n",
              "2            2\n",
              "3            3\n",
              "4            4\n",
              "         ...  \n",
              "11360    11360\n",
              "11361    11361\n",
              "11362    11362\n",
              "11363    11363\n",
              "11364    11364\n",
              "Name: Unnamed: 0, Length: 11365, dtype: int64"
            ]
          },
          "execution_count": 6,
          "metadata": {},
          "output_type": "execute_result"
        }
      ],
      "source": [
        "df.pop('Unnamed: 0')"
      ]
    },
    {
      "cell_type": "code",
      "execution_count": 7,
      "metadata": {
        "colab": {
          "base_uri": "https://localhost:8080/",
          "height": 206
        },
        "id": "OYmS7mafcCZI",
        "outputId": "c6f39df7-1df2-4296-f7cb-322a8d5e1ecb"
      },
      "outputs": [
        {
          "data": {
            "application/vnd.microsoft.datawrangler.viewer.v0+json": {
              "columns": [
                {
                  "name": "index",
                  "rawType": "int64",
                  "type": "integer"
                },
                {
                  "name": "customer_id",
                  "rawType": "object",
                  "type": "string"
                },
                {
                  "name": "street",
                  "rawType": "object",
                  "type": "string"
                },
                {
                  "name": "type",
                  "rawType": "object",
                  "type": "string"
                },
                {
                  "name": "suburb",
                  "rawType": "object",
                  "type": "string"
                },
                {
                  "name": "postcode",
                  "rawType": "float64",
                  "type": "float"
                },
                {
                  "name": "full_address",
                  "rawType": "object",
                  "type": "string"
                }
              ],
              "ref": "e10ade12-5482-442b-baa2-4a20d06ff193",
              "rows": [
                [
                  "0",
                  "d36b3782-86b2-4f7e-97f4-19751cf735b1",
                  "Chandler Gardens",
                  "Park",
                  "Smithchester",
                  "6683.0",
                  "Suite 159 4 Chandler Gardens Park, Smithchester  ACT,  6683"
                ],
                [
                  "1",
                  "c16a23a6-c001-4846-b16a-e681692d861b",
                  "Tara Alleyway",
                  "Avenue",
                  "Mayberg",
                  "2629.0",
                  "Flat 31 247 Tara Alleyway Avenue, Mayberg  QLD,  2629"
                ],
                [
                  "2",
                  "f044a91f-3eeb-4342-9c96-2be28927a8a9",
                  "Sullivan Reserve",
                  "Reach",
                  "Vegamouth",
                  "2790.0",
                  "Level 5 591 Sullivan Reserve Reach, Vegamouth  QLD,  2790"
                ],
                [
                  "3",
                  "36096d1a-4f30-4c1c-8453-3db3ea81692c",
                  "Daniel Parade",
                  "Break",
                  "East Matthewfurt",
                  null,
                  "Unit 09 7 Daniel Parade Break, East Matthewfurt  NSW,  2839"
                ],
                [
                  "4",
                  "7484593e-4ff2-44d6-9de6-7e3bd9fe8b19",
                  "Charles Driveway",
                  "River",
                  "New Shannon",
                  "2611.0",
                  "720/460 Charles Driveway River, New Shannon  WA,  2611"
                ]
              ],
              "shape": {
                "columns": 6,
                "rows": 5
              }
            },
            "text/html": [
              "<div>\n",
              "<style scoped>\n",
              "    .dataframe tbody tr th:only-of-type {\n",
              "        vertical-align: middle;\n",
              "    }\n",
              "\n",
              "    .dataframe tbody tr th {\n",
              "        vertical-align: top;\n",
              "    }\n",
              "\n",
              "    .dataframe thead th {\n",
              "        text-align: right;\n",
              "    }\n",
              "</style>\n",
              "<table border=\"1\" class=\"dataframe\">\n",
              "  <thead>\n",
              "    <tr style=\"text-align: right;\">\n",
              "      <th></th>\n",
              "      <th>customer_id</th>\n",
              "      <th>street</th>\n",
              "      <th>type</th>\n",
              "      <th>suburb</th>\n",
              "      <th>postcode</th>\n",
              "      <th>full_address</th>\n",
              "    </tr>\n",
              "  </thead>\n",
              "  <tbody>\n",
              "    <tr>\n",
              "      <th>0</th>\n",
              "      <td>d36b3782-86b2-4f7e-97f4-19751cf735b1</td>\n",
              "      <td>Chandler Gardens</td>\n",
              "      <td>Park</td>\n",
              "      <td>Smithchester</td>\n",
              "      <td>6683.0</td>\n",
              "      <td>Suite 159 4 Chandler Gardens Park, Smithcheste...</td>\n",
              "    </tr>\n",
              "    <tr>\n",
              "      <th>1</th>\n",
              "      <td>c16a23a6-c001-4846-b16a-e681692d861b</td>\n",
              "      <td>Tara Alleyway</td>\n",
              "      <td>Avenue</td>\n",
              "      <td>Mayberg</td>\n",
              "      <td>2629.0</td>\n",
              "      <td>Flat 31 247 Tara Alleyway Avenue, Mayberg  QLD...</td>\n",
              "    </tr>\n",
              "    <tr>\n",
              "      <th>2</th>\n",
              "      <td>f044a91f-3eeb-4342-9c96-2be28927a8a9</td>\n",
              "      <td>Sullivan Reserve</td>\n",
              "      <td>Reach</td>\n",
              "      <td>Vegamouth</td>\n",
              "      <td>2790.0</td>\n",
              "      <td>Level 5 591 Sullivan Reserve Reach, Vegamouth ...</td>\n",
              "    </tr>\n",
              "    <tr>\n",
              "      <th>3</th>\n",
              "      <td>36096d1a-4f30-4c1c-8453-3db3ea81692c</td>\n",
              "      <td>Daniel Parade</td>\n",
              "      <td>Break</td>\n",
              "      <td>East Matthewfurt</td>\n",
              "      <td>NaN</td>\n",
              "      <td>Unit 09 7 Daniel Parade Break, East Matthewfur...</td>\n",
              "    </tr>\n",
              "    <tr>\n",
              "      <th>4</th>\n",
              "      <td>7484593e-4ff2-44d6-9de6-7e3bd9fe8b19</td>\n",
              "      <td>Charles Driveway</td>\n",
              "      <td>River</td>\n",
              "      <td>New Shannon</td>\n",
              "      <td>2611.0</td>\n",
              "      <td>720/460 Charles Driveway River, New Shannon  W...</td>\n",
              "    </tr>\n",
              "  </tbody>\n",
              "</table>\n",
              "</div>"
            ],
            "text/plain": [
              "                            customer_id            street    type  \\\n",
              "0  d36b3782-86b2-4f7e-97f4-19751cf735b1  Chandler Gardens    Park   \n",
              "1  c16a23a6-c001-4846-b16a-e681692d861b     Tara Alleyway  Avenue   \n",
              "2  f044a91f-3eeb-4342-9c96-2be28927a8a9  Sullivan Reserve   Reach   \n",
              "3  36096d1a-4f30-4c1c-8453-3db3ea81692c     Daniel Parade   Break   \n",
              "4  7484593e-4ff2-44d6-9de6-7e3bd9fe8b19  Charles Driveway   River   \n",
              "\n",
              "             suburb  postcode  \\\n",
              "0      Smithchester    6683.0   \n",
              "1           Mayberg    2629.0   \n",
              "2         Vegamouth    2790.0   \n",
              "3  East Matthewfurt       NaN   \n",
              "4       New Shannon    2611.0   \n",
              "\n",
              "                                        full_address  \n",
              "0  Suite 159 4 Chandler Gardens Park, Smithcheste...  \n",
              "1  Flat 31 247 Tara Alleyway Avenue, Mayberg  QLD...  \n",
              "2  Level 5 591 Sullivan Reserve Reach, Vegamouth ...  \n",
              "3  Unit 09 7 Daniel Parade Break, East Matthewfur...  \n",
              "4  720/460 Charles Driveway River, New Shannon  W...  "
            ]
          },
          "execution_count": 7,
          "metadata": {},
          "output_type": "execute_result"
        }
      ],
      "source": [
        "df.head()"
      ]
    },
    {
      "cell_type": "code",
      "execution_count": 8,
      "metadata": {
        "colab": {
          "base_uri": "https://localhost:8080/",
          "height": 300
        },
        "id": "_GZKL7LndoNr",
        "outputId": "60188f04-f42d-4f5c-eeb1-9995b2069f24"
      },
      "outputs": [
        {
          "data": {
            "application/vnd.microsoft.datawrangler.viewer.v0+json": {
              "columns": [
                {
                  "name": "index",
                  "rawType": "object",
                  "type": "string"
                },
                {
                  "name": "postcode",
                  "rawType": "float64",
                  "type": "float"
                }
              ],
              "ref": "4930df8c-a6e7-4071-83b5-35647fb55860",
              "rows": [
                [
                  "count",
                  "7530.0"
                ],
                [
                  "mean",
                  "3170.034130146082"
                ],
                [
                  "std",
                  "1810.136976177047"
                ],
                [
                  "min",
                  "200.0"
                ],
                [
                  "25%",
                  "2600.0"
                ],
                [
                  "50%",
                  "2693.0"
                ],
                [
                  "75%",
                  "2969.0"
                ],
                [
                  "max",
                  "9992.0"
                ]
              ],
              "shape": {
                "columns": 1,
                "rows": 8
              }
            },
            "text/html": [
              "<div>\n",
              "<style scoped>\n",
              "    .dataframe tbody tr th:only-of-type {\n",
              "        vertical-align: middle;\n",
              "    }\n",
              "\n",
              "    .dataframe tbody tr th {\n",
              "        vertical-align: top;\n",
              "    }\n",
              "\n",
              "    .dataframe thead th {\n",
              "        text-align: right;\n",
              "    }\n",
              "</style>\n",
              "<table border=\"1\" class=\"dataframe\">\n",
              "  <thead>\n",
              "    <tr style=\"text-align: right;\">\n",
              "      <th></th>\n",
              "      <th>postcode</th>\n",
              "    </tr>\n",
              "  </thead>\n",
              "  <tbody>\n",
              "    <tr>\n",
              "      <th>count</th>\n",
              "      <td>7530.000000</td>\n",
              "    </tr>\n",
              "    <tr>\n",
              "      <th>mean</th>\n",
              "      <td>3170.034130</td>\n",
              "    </tr>\n",
              "    <tr>\n",
              "      <th>std</th>\n",
              "      <td>1810.136976</td>\n",
              "    </tr>\n",
              "    <tr>\n",
              "      <th>min</th>\n",
              "      <td>200.000000</td>\n",
              "    </tr>\n",
              "    <tr>\n",
              "      <th>25%</th>\n",
              "      <td>2600.000000</td>\n",
              "    </tr>\n",
              "    <tr>\n",
              "      <th>50%</th>\n",
              "      <td>2693.000000</td>\n",
              "    </tr>\n",
              "    <tr>\n",
              "      <th>75%</th>\n",
              "      <td>2969.000000</td>\n",
              "    </tr>\n",
              "    <tr>\n",
              "      <th>max</th>\n",
              "      <td>9992.000000</td>\n",
              "    </tr>\n",
              "  </tbody>\n",
              "</table>\n",
              "</div>"
            ],
            "text/plain": [
              "          postcode\n",
              "count  7530.000000\n",
              "mean   3170.034130\n",
              "std    1810.136976\n",
              "min     200.000000\n",
              "25%    2600.000000\n",
              "50%    2693.000000\n",
              "75%    2969.000000\n",
              "max    9992.000000"
            ]
          },
          "execution_count": 8,
          "metadata": {},
          "output_type": "execute_result"
        }
      ],
      "source": [
        "df.describe()"
      ]
    },
    {
      "cell_type": "code",
      "execution_count": 9,
      "metadata": {
        "colab": {
          "base_uri": "https://localhost:8080/"
        },
        "id": "cLBoaUw9cCV1",
        "outputId": "0e5b033f-71c8-4eab-83d2-6920d8b667c1"
      },
      "outputs": [
        {
          "name": "stdout",
          "output_type": "stream",
          "text": [
            "<class 'pandas.core.frame.DataFrame'>\n",
            "RangeIndex: 11365 entries, 0 to 11364\n",
            "Data columns (total 6 columns):\n",
            " #   Column        Non-Null Count  Dtype  \n",
            "---  ------        --------------  -----  \n",
            " 0   customer_id   11365 non-null  object \n",
            " 1   street        11365 non-null  object \n",
            " 2   type          11365 non-null  object \n",
            " 3   suburb        9904 non-null   object \n",
            " 4   postcode      7530 non-null   float64\n",
            " 5   full_address  8690 non-null   object \n",
            "dtypes: float64(1), object(5)\n",
            "memory usage: 532.9+ KB\n"
          ]
        }
      ],
      "source": [
        "df.info()"
      ]
    },
    {
      "cell_type": "markdown",
      "metadata": {
        "id": "jN_Dny5YdVl8"
      },
      "source": [
        "We can see we have some columns with the missing values."
      ]
    },
    {
      "cell_type": "code",
      "execution_count": 10,
      "metadata": {
        "colab": {
          "base_uri": "https://localhost:8080/",
          "height": 272
        },
        "id": "-9YIE5f8eTGz",
        "outputId": "e5ec11ea-9645-4c24-a2e0-ae6037d66af1"
      },
      "outputs": [
        {
          "data": {
            "application/vnd.microsoft.datawrangler.viewer.v0+json": {
              "columns": [
                {
                  "name": "index",
                  "rawType": "object",
                  "type": "string"
                },
                {
                  "name": "0",
                  "rawType": "int64",
                  "type": "integer"
                }
              ],
              "ref": "f28b46e8-f5f4-45c5-85aa-21b3c95aa411",
              "rows": [
                [
                  "customer_id",
                  "7845"
                ],
                [
                  "street",
                  "7189"
                ],
                [
                  "type",
                  "200"
                ],
                [
                  "suburb",
                  "5667"
                ],
                [
                  "postcode",
                  "2018"
                ],
                [
                  "full_address",
                  "6136"
                ]
              ],
              "shape": {
                "columns": 1,
                "rows": 6
              }
            },
            "text/plain": [
              "customer_id     7845\n",
              "street          7189\n",
              "type             200\n",
              "suburb          5667\n",
              "postcode        2018\n",
              "full_address    6136\n",
              "dtype: int64"
            ]
          },
          "execution_count": 10,
          "metadata": {},
          "output_type": "execute_result"
        }
      ],
      "source": [
        "df.nunique()"
      ]
    },
    {
      "cell_type": "code",
      "execution_count": 11,
      "metadata": {
        "colab": {
          "base_uri": "https://localhost:8080/",
          "height": 206
        },
        "id": "HGfOOYdFekOD",
        "outputId": "c6fff263-5a82-486a-ddef-5229fba5b85f"
      },
      "outputs": [
        {
          "data": {
            "application/vnd.microsoft.datawrangler.viewer.v0+json": {
              "columns": [
                {
                  "name": "index",
                  "rawType": "int64",
                  "type": "integer"
                },
                {
                  "name": "customer_id",
                  "rawType": "object",
                  "type": "string"
                },
                {
                  "name": "street",
                  "rawType": "object",
                  "type": "string"
                },
                {
                  "name": "type",
                  "rawType": "object",
                  "type": "string"
                },
                {
                  "name": "suburb",
                  "rawType": "object",
                  "type": "unknown"
                },
                {
                  "name": "postcode",
                  "rawType": "float64",
                  "type": "float"
                },
                {
                  "name": "full_address",
                  "rawType": "object",
                  "type": "string"
                }
              ],
              "ref": "d62dea01-9350-4db1-8d99-ee1390222e59",
              "rows": [
                [
                  "1747",
                  "001d7af4-9227-4d52-89e6-b89b04f55224",
                  "Graham Arcade",
                  "Dell",
                  null,
                  "2612.0",
                  "960/71 Graham Arcade Dell, St. Shannonchester  QLD,  2612"
                ],
                [
                  "7712",
                  "001d7af4-9227-4d52-89e6-b89b04f55224",
                  "Graham Arcade",
                  "Dell",
                  null,
                  "2612.0",
                  "960/71 Graham Arcade Dell, St. Shannonchester  QLD,  2612"
                ],
                [
                  "5070",
                  "00256988-b4d0-45f3-9351-be803389701e",
                  "Price Nook",
                  "Tor",
                  "South Xavierton",
                  null,
                  "Level 9 241 Price Nook Tor, South Xavierton  QLD,  2410"
                ],
                [
                  "4483",
                  "00256988-b4d0-45f3-9351-be803389701e",
                  "Price Nook",
                  "Tor",
                  "South Xavierton",
                  null,
                  "Level 9 241 Price Nook Tor, South Xavierton  QLD,  2410"
                ],
                [
                  "4369",
                  "0041651a-8a49-4df1-8c6c-23eeaf673a4b",
                  "Amy Centre",
                  "Broadway",
                  "Dannyfurt",
                  "9968.0",
                  "6/7 Amy Centre Broadway, Dannyfurt  WA,  9968"
                ]
              ],
              "shape": {
                "columns": 6,
                "rows": 5
              }
            },
            "text/html": [
              "<div>\n",
              "<style scoped>\n",
              "    .dataframe tbody tr th:only-of-type {\n",
              "        vertical-align: middle;\n",
              "    }\n",
              "\n",
              "    .dataframe tbody tr th {\n",
              "        vertical-align: top;\n",
              "    }\n",
              "\n",
              "    .dataframe thead th {\n",
              "        text-align: right;\n",
              "    }\n",
              "</style>\n",
              "<table border=\"1\" class=\"dataframe\">\n",
              "  <thead>\n",
              "    <tr style=\"text-align: right;\">\n",
              "      <th></th>\n",
              "      <th>customer_id</th>\n",
              "      <th>street</th>\n",
              "      <th>type</th>\n",
              "      <th>suburb</th>\n",
              "      <th>postcode</th>\n",
              "      <th>full_address</th>\n",
              "    </tr>\n",
              "  </thead>\n",
              "  <tbody>\n",
              "    <tr>\n",
              "      <th>1747</th>\n",
              "      <td>001d7af4-9227-4d52-89e6-b89b04f55224</td>\n",
              "      <td>Graham Arcade</td>\n",
              "      <td>Dell</td>\n",
              "      <td>NaN</td>\n",
              "      <td>2612.0</td>\n",
              "      <td>960/71 Graham Arcade Dell, St. Shannonchester ...</td>\n",
              "    </tr>\n",
              "    <tr>\n",
              "      <th>7712</th>\n",
              "      <td>001d7af4-9227-4d52-89e6-b89b04f55224</td>\n",
              "      <td>Graham Arcade</td>\n",
              "      <td>Dell</td>\n",
              "      <td>NaN</td>\n",
              "      <td>2612.0</td>\n",
              "      <td>960/71 Graham Arcade Dell, St. Shannonchester ...</td>\n",
              "    </tr>\n",
              "    <tr>\n",
              "      <th>5070</th>\n",
              "      <td>00256988-b4d0-45f3-9351-be803389701e</td>\n",
              "      <td>Price Nook</td>\n",
              "      <td>Tor</td>\n",
              "      <td>South Xavierton</td>\n",
              "      <td>NaN</td>\n",
              "      <td>Level 9 241 Price Nook Tor, South Xavierton  Q...</td>\n",
              "    </tr>\n",
              "    <tr>\n",
              "      <th>4483</th>\n",
              "      <td>00256988-b4d0-45f3-9351-be803389701e</td>\n",
              "      <td>Price Nook</td>\n",
              "      <td>Tor</td>\n",
              "      <td>South Xavierton</td>\n",
              "      <td>NaN</td>\n",
              "      <td>Level 9 241 Price Nook Tor, South Xavierton  Q...</td>\n",
              "    </tr>\n",
              "    <tr>\n",
              "      <th>4369</th>\n",
              "      <td>0041651a-8a49-4df1-8c6c-23eeaf673a4b</td>\n",
              "      <td>Amy Centre</td>\n",
              "      <td>Broadway</td>\n",
              "      <td>Dannyfurt</td>\n",
              "      <td>9968.0</td>\n",
              "      <td>6/7 Amy Centre Broadway, Dannyfurt  WA,  9968</td>\n",
              "    </tr>\n",
              "  </tbody>\n",
              "</table>\n",
              "</div>"
            ],
            "text/plain": [
              "                               customer_id         street      type  \\\n",
              "1747  001d7af4-9227-4d52-89e6-b89b04f55224  Graham Arcade      Dell   \n",
              "7712  001d7af4-9227-4d52-89e6-b89b04f55224  Graham Arcade      Dell   \n",
              "5070  00256988-b4d0-45f3-9351-be803389701e     Price Nook       Tor   \n",
              "4483  00256988-b4d0-45f3-9351-be803389701e     Price Nook       Tor   \n",
              "4369  0041651a-8a49-4df1-8c6c-23eeaf673a4b     Amy Centre  Broadway   \n",
              "\n",
              "               suburb  postcode  \\\n",
              "1747              NaN    2612.0   \n",
              "7712              NaN    2612.0   \n",
              "5070  South Xavierton       NaN   \n",
              "4483  South Xavierton       NaN   \n",
              "4369        Dannyfurt    9968.0   \n",
              "\n",
              "                                           full_address  \n",
              "1747  960/71 Graham Arcade Dell, St. Shannonchester ...  \n",
              "7712  960/71 Graham Arcade Dell, St. Shannonchester ...  \n",
              "5070  Level 9 241 Price Nook Tor, South Xavierton  Q...  \n",
              "4483  Level 9 241 Price Nook Tor, South Xavierton  Q...  \n",
              "4369      6/7 Amy Centre Broadway, Dannyfurt  WA,  9968  "
            ]
          },
          "execution_count": 11,
          "metadata": {},
          "output_type": "execute_result"
        }
      ],
      "source": [
        "\n",
        "\n",
        "df_duplicates = df[df.duplicated(subset=['customer_id'], keep=False)]\n",
        "\n",
        "# Display duplicate rows\n",
        "df_duplicates.head()# Sorting duplicate rows by 'customer_id' as an object (string)\n",
        "df_duplicates_sorted = df_duplicates.sort_values(by='customer_id', key=lambda x: x.astype(str))\n",
        "\n",
        "# Display the sorted duplicate rows\n",
        "df_duplicates_sorted.head()\n"
      ]
    },
    {
      "cell_type": "markdown",
      "metadata": {
        "id": "8A5PVFzGgVcu"
      },
      "source": [
        "The data seems to have duplicate values."
      ]
    },
    {
      "cell_type": "code",
      "execution_count": 12,
      "metadata": {
        "colab": {
          "base_uri": "https://localhost:8080/",
          "height": 465
        },
        "id": "O__AXeDccCIB",
        "outputId": "fc7c8f7a-1d45-44f7-bfd9-8e80408ac145"
      },
      "outputs": [
        {
          "data": {
            "image/png": "[encoded data removed]",
            "text/plain": [
              "<Figure size 640x480 with 1 Axes>"
            ]
          },
          "metadata": {},
          "output_type": "display_data"
        }
      ],
      "source": [
        "# visualizing the data types count\n",
        "ax=df.dtypes.value_counts().plot(kind='bar',edgecolor='black')\n",
        "for container in ax.containers:\n",
        "    ax.bar_label(container, fmt='%d')\n",
        "plt.grid(axis='y', linestyle='--', alpha=0.7)\n",
        "plt.show()"
      ]
    },
    {
      "cell_type": "code",
      "execution_count": 13,
      "metadata": {
        "colab": {
          "base_uri": "https://localhost:8080/"
        },
        "id": "rijkH9yWeD6s",
        "outputId": "2c488e1d-cfb4-40c9-9f9a-b1106bf4dca3"
      },
      "outputs": [
        {
          "data": {
            "text/plain": [
              "Index(['postcode'], dtype='object')"
            ]
          },
          "execution_count": 13,
          "metadata": {},
          "output_type": "execute_result"
        }
      ],
      "source": [
        "numerical_columns = df.select_dtypes(include=['number']).columns\n",
        "numerical_columns"
      ]
    },
    {
      "cell_type": "markdown",
      "metadata": {
        "id": "n2r_li9XkVK7"
      },
      "source": [
        "Since \"Unnamed: 0\" column is a serial number colunm and does not add value to the model so we are removing it from the the numerical columns"
      ]
    },
    {
      "cell_type": "code",
      "execution_count": 14,
      "metadata": {
        "colab": {
          "base_uri": "https://localhost:8080/",
          "height": 206
        },
        "id": "XVVEJFtJcCE7",
        "outputId": "0fdc5ee9-3e4a-41bd-d311-c10a8d8cd2ef"
      },
      "outputs": [
        {
          "data": {
            "application/vnd.microsoft.datawrangler.viewer.v0+json": {
              "columns": [
                {
                  "name": "index",
                  "rawType": "int64",
                  "type": "integer"
                },
                {
                  "name": "postcode",
                  "rawType": "float64",
                  "type": "float"
                }
              ],
              "ref": "5230228c-eae7-4cf7-9303-2cad3541369a",
              "rows": [
                [
                  "0",
                  "6683.0"
                ],
                [
                  "1",
                  "2629.0"
                ],
                [
                  "2",
                  "2790.0"
                ],
                [
                  "3",
                  null
                ],
                [
                  "4",
                  "2611.0"
                ]
              ],
              "shape": {
                "columns": 1,
                "rows": 5
              }
            },
            "text/html": [
              "<div>\n",
              "<style scoped>\n",
              "    .dataframe tbody tr th:only-of-type {\n",
              "        vertical-align: middle;\n",
              "    }\n",
              "\n",
              "    .dataframe tbody tr th {\n",
              "        vertical-align: top;\n",
              "    }\n",
              "\n",
              "    .dataframe thead th {\n",
              "        text-align: right;\n",
              "    }\n",
              "</style>\n",
              "<table border=\"1\" class=\"dataframe\">\n",
              "  <thead>\n",
              "    <tr style=\"text-align: right;\">\n",
              "      <th></th>\n",
              "      <th>postcode</th>\n",
              "    </tr>\n",
              "  </thead>\n",
              "  <tbody>\n",
              "    <tr>\n",
              "      <th>0</th>\n",
              "      <td>6683.0</td>\n",
              "    </tr>\n",
              "    <tr>\n",
              "      <th>1</th>\n",
              "      <td>2629.0</td>\n",
              "    </tr>\n",
              "    <tr>\n",
              "      <th>2</th>\n",
              "      <td>2790.0</td>\n",
              "    </tr>\n",
              "    <tr>\n",
              "      <th>3</th>\n",
              "      <td>NaN</td>\n",
              "    </tr>\n",
              "    <tr>\n",
              "      <th>4</th>\n",
              "      <td>2611.0</td>\n",
              "    </tr>\n",
              "  </tbody>\n",
              "</table>\n",
              "</div>"
            ],
            "text/plain": [
              "   postcode\n",
              "0    6683.0\n",
              "1    2629.0\n",
              "2    2790.0\n",
              "3       NaN\n",
              "4    2611.0"
            ]
          },
          "execution_count": 14,
          "metadata": {},
          "output_type": "execute_result"
        }
      ],
      "source": [
        "\n",
        "numerical_features=df[numerical_columns]\n",
        "numerical_features.head()\n"
      ]
    },
    {
      "cell_type": "markdown",
      "metadata": {
        "id": "oiOHdfd8lXPL"
      },
      "source": [
        "Now Lets us check for missing values"
      ]
    },
    {
      "cell_type": "code",
      "execution_count": 15,
      "metadata": {
        "colab": {
          "base_uri": "https://localhost:8080/",
          "height": 116
        },
        "id": "0SlygeTlcxTg",
        "outputId": "545840be-dd41-4579-a8af-9cf34b21123a"
      },
      "outputs": [
        {
          "data": {
            "application/vnd.microsoft.datawrangler.viewer.v0+json": {
              "columns": [
                {
                  "name": "index",
                  "rawType": "object",
                  "type": "string"
                },
                {
                  "name": "0",
                  "rawType": "int64",
                  "type": "integer"
                }
              ],
              "ref": "fd21567d-ea40-435b-a3d3-b35782fd0c4d",
              "rows": [
                [
                  "postcode",
                  "3835"
                ]
              ],
              "shape": {
                "columns": 1,
                "rows": 1
              }
            },
            "text/plain": [
              "postcode    3835\n",
              "dtype: int64"
            ]
          },
          "execution_count": 15,
          "metadata": {},
          "output_type": "execute_result"
        }
      ],
      "source": [
        "numerical_features.isnull().sum()"
      ]
    },
    {
      "cell_type": "markdown",
      "metadata": {
        "id": "MMWjjsjXp2Ir"
      },
      "source": [
        "we will deal with missing values later\n"
      ]
    },
    {
      "cell_type": "markdown",
      "metadata": {
        "id": "98naJgROtF4M"
      },
      "source": [
        "# Now lets look at the categorical features"
      ]
    },
    {
      "cell_type": "code",
      "execution_count": 16,
      "metadata": {
        "colab": {
          "base_uri": "https://localhost:8080/"
        },
        "id": "uIwBtdrjq8E2",
        "outputId": "0c8fa441-d0bb-4411-9c0f-6340a65a224b"
      },
      "outputs": [
        {
          "data": {
            "text/plain": [
              "Index(['customer_id', 'street', 'type', 'suburb', 'full_address'], dtype='object')"
            ]
          },
          "execution_count": 16,
          "metadata": {},
          "output_type": "execute_result"
        }
      ],
      "source": [
        "categorical_columns = df.select_dtypes(include=['object','bool']).columns\n",
        "categorical_columns"
      ]
    },
    {
      "cell_type": "code",
      "execution_count": 17,
      "metadata": {
        "colab": {
          "base_uri": "https://localhost:8080/",
          "height": 206
        },
        "id": "4o8H0JKOtMe0",
        "outputId": "9e55f041-4c21-453e-da04-cde3a2c122d3"
      },
      "outputs": [
        {
          "data": {
            "application/vnd.microsoft.datawrangler.viewer.v0+json": {
              "columns": [
                {
                  "name": "index",
                  "rawType": "int64",
                  "type": "integer"
                },
                {
                  "name": "customer_id",
                  "rawType": "object",
                  "type": "string"
                },
                {
                  "name": "street",
                  "rawType": "object",
                  "type": "string"
                },
                {
                  "name": "type",
                  "rawType": "object",
                  "type": "string"
                },
                {
                  "name": "suburb",
                  "rawType": "object",
                  "type": "string"
                },
                {
                  "name": "full_address",
                  "rawType": "object",
                  "type": "string"
                }
              ],
              "ref": "14f0d69a-3972-4229-a663-e4dd97104e53",
              "rows": [
                [
                  "0",
                  "d36b3782-86b2-4f7e-97f4-19751cf735b1",
                  "Chandler Gardens",
                  "Park",
                  "Smithchester",
                  "Suite 159 4 Chandler Gardens Park, Smithchester  ACT,  6683"
                ],
                [
                  "1",
                  "c16a23a6-c001-4846-b16a-e681692d861b",
                  "Tara Alleyway",
                  "Avenue",
                  "Mayberg",
                  "Flat 31 247 Tara Alleyway Avenue, Mayberg  QLD,  2629"
                ],
                [
                  "2",
                  "f044a91f-3eeb-4342-9c96-2be28927a8a9",
                  "Sullivan Reserve",
                  "Reach",
                  "Vegamouth",
                  "Level 5 591 Sullivan Reserve Reach, Vegamouth  QLD,  2790"
                ],
                [
                  "3",
                  "36096d1a-4f30-4c1c-8453-3db3ea81692c",
                  "Daniel Parade",
                  "Break",
                  "East Matthewfurt",
                  "Unit 09 7 Daniel Parade Break, East Matthewfurt  NSW,  2839"
                ],
                [
                  "4",
                  "7484593e-4ff2-44d6-9de6-7e3bd9fe8b19",
                  "Charles Driveway",
                  "River",
                  "New Shannon",
                  "720/460 Charles Driveway River, New Shannon  WA,  2611"
                ]
              ],
              "shape": {
                "columns": 5,
                "rows": 5
              }
            },
            "text/html": [
              "<div>\n",
              "<style scoped>\n",
              "    .dataframe tbody tr th:only-of-type {\n",
              "        vertical-align: middle;\n",
              "    }\n",
              "\n",
              "    .dataframe tbody tr th {\n",
              "        vertical-align: top;\n",
              "    }\n",
              "\n",
              "    .dataframe thead th {\n",
              "        text-align: right;\n",
              "    }\n",
              "</style>\n",
              "<table border=\"1\" class=\"dataframe\">\n",
              "  <thead>\n",
              "    <tr style=\"text-align: right;\">\n",
              "      <th></th>\n",
              "      <th>customer_id</th>\n",
              "      <th>street</th>\n",
              "      <th>type</th>\n",
              "      <th>suburb</th>\n",
              "      <th>full_address</th>\n",
              "    </tr>\n",
              "  </thead>\n",
              "  <tbody>\n",
              "    <tr>\n",
              "      <th>0</th>\n",
              "      <td>d36b3782-86b2-4f7e-97f4-19751cf735b1</td>\n",
              "      <td>Chandler Gardens</td>\n",
              "      <td>Park</td>\n",
              "      <td>Smithchester</td>\n",
              "      <td>Suite 159 4 Chandler Gardens Park, Smithcheste...</td>\n",
              "    </tr>\n",
              "    <tr>\n",
              "      <th>1</th>\n",
              "      <td>c16a23a6-c001-4846-b16a-e681692d861b</td>\n",
              "      <td>Tara Alleyway</td>\n",
              "      <td>Avenue</td>\n",
              "      <td>Mayberg</td>\n",
              "      <td>Flat 31 247 Tara Alleyway Avenue, Mayberg  QLD...</td>\n",
              "    </tr>\n",
              "    <tr>\n",
              "      <th>2</th>\n",
              "      <td>f044a91f-3eeb-4342-9c96-2be28927a8a9</td>\n",
              "      <td>Sullivan Reserve</td>\n",
              "      <td>Reach</td>\n",
              "      <td>Vegamouth</td>\n",
              "      <td>Level 5 591 Sullivan Reserve Reach, Vegamouth ...</td>\n",
              "    </tr>\n",
              "    <tr>\n",
              "      <th>3</th>\n",
              "      <td>36096d1a-4f30-4c1c-8453-3db3ea81692c</td>\n",
              "      <td>Daniel Parade</td>\n",
              "      <td>Break</td>\n",
              "      <td>East Matthewfurt</td>\n",
              "      <td>Unit 09 7 Daniel Parade Break, East Matthewfur...</td>\n",
              "    </tr>\n",
              "    <tr>\n",
              "      <th>4</th>\n",
              "      <td>7484593e-4ff2-44d6-9de6-7e3bd9fe8b19</td>\n",
              "      <td>Charles Driveway</td>\n",
              "      <td>River</td>\n",
              "      <td>New Shannon</td>\n",
              "      <td>720/460 Charles Driveway River, New Shannon  W...</td>\n",
              "    </tr>\n",
              "  </tbody>\n",
              "</table>\n",
              "</div>"
            ],
            "text/plain": [
              "                            customer_id            street    type  \\\n",
              "0  d36b3782-86b2-4f7e-97f4-19751cf735b1  Chandler Gardens    Park   \n",
              "1  c16a23a6-c001-4846-b16a-e681692d861b     Tara Alleyway  Avenue   \n",
              "2  f044a91f-3eeb-4342-9c96-2be28927a8a9  Sullivan Reserve   Reach   \n",
              "3  36096d1a-4f30-4c1c-8453-3db3ea81692c     Daniel Parade   Break   \n",
              "4  7484593e-4ff2-44d6-9de6-7e3bd9fe8b19  Charles Driveway   River   \n",
              "\n",
              "             suburb                                       full_address  \n",
              "0      Smithchester  Suite 159 4 Chandler Gardens Park, Smithcheste...  \n",
              "1           Mayberg  Flat 31 247 Tara Alleyway Avenue, Mayberg  QLD...  \n",
              "2         Vegamouth  Level 5 591 Sullivan Reserve Reach, Vegamouth ...  \n",
              "3  East Matthewfurt  Unit 09 7 Daniel Parade Break, East Matthewfur...  \n",
              "4       New Shannon  720/460 Charles Driveway River, New Shannon  W...  "
            ]
          },
          "execution_count": 17,
          "metadata": {},
          "output_type": "execute_result"
        }
      ],
      "source": [
        "categorical_features=df[categorical_columns]\n",
        "categorical_features.head()"
      ]
    },
    {
      "cell_type": "markdown",
      "metadata": {
        "id": "TNfGODdotprM"
      },
      "source": [
        "lets check for missing values"
      ]
    },
    {
      "cell_type": "code",
      "execution_count": 18,
      "metadata": {
        "colab": {
          "base_uri": "https://localhost:8080/",
          "height": 241
        },
        "id": "iqGMbfEUwYFo",
        "outputId": "62fc4ca4-605b-4779-d45a-0bdd55b502a7"
      },
      "outputs": [
        {
          "data": {
            "application/vnd.microsoft.datawrangler.viewer.v0+json": {
              "columns": [
                {
                  "name": "index",
                  "rawType": "object",
                  "type": "string"
                },
                {
                  "name": "0",
                  "rawType": "int64",
                  "type": "integer"
                }
              ],
              "ref": "f015e544-9103-4d2d-a1f3-85d2c7bafd9c",
              "rows": [
                [
                  "customer_id",
                  "7845"
                ],
                [
                  "street",
                  "7189"
                ],
                [
                  "type",
                  "200"
                ],
                [
                  "suburb",
                  "5667"
                ],
                [
                  "full_address",
                  "6136"
                ]
              ],
              "shape": {
                "columns": 1,
                "rows": 5
              }
            },
            "text/plain": [
              "customer_id     7845\n",
              "street          7189\n",
              "type             200\n",
              "suburb          5667\n",
              "full_address    6136\n",
              "dtype: int64"
            ]
          },
          "execution_count": 18,
          "metadata": {},
          "output_type": "execute_result"
        }
      ],
      "source": [
        "categorical_features.nunique()"
      ]
    },
    {
      "cell_type": "code",
      "execution_count": 19,
      "metadata": {
        "colab": {
          "base_uri": "https://localhost:8080/",
          "height": 241
        },
        "id": "su6_-F4ytMMj",
        "outputId": "963ee255-d04e-4bd7-a5e8-f2a6d5032702"
      },
      "outputs": [
        {
          "data": {
            "application/vnd.microsoft.datawrangler.viewer.v0+json": {
              "columns": [
                {
                  "name": "index",
                  "rawType": "object",
                  "type": "string"
                },
                {
                  "name": "0",
                  "rawType": "int64",
                  "type": "integer"
                }
              ],
              "ref": "7c4a508d-1520-4331-b07a-b53a6b9b4410",
              "rows": [
                [
                  "customer_id",
                  "0"
                ],
                [
                  "street",
                  "0"
                ],
                [
                  "type",
                  "0"
                ],
                [
                  "suburb",
                  "1461"
                ],
                [
                  "full_address",
                  "2675"
                ]
              ],
              "shape": {
                "columns": 1,
                "rows": 5
              }
            },
            "text/plain": [
              "customer_id        0\n",
              "street             0\n",
              "type               0\n",
              "suburb          1461\n",
              "full_address    2675\n",
              "dtype: int64"
            ]
          },
          "execution_count": 19,
          "metadata": {},
          "output_type": "execute_result"
        }
      ],
      "source": [
        "categorical_features.isnull().sum()"
      ]
    },
    {
      "cell_type": "markdown",
      "metadata": {
        "id": "ZVc5oHHmtub9"
      },
      "source": [
        "we will deal with this later\n",
        "\n",
        "> Add blockquote\n",
        "\n"
      ]
    },
    {
      "cell_type": "markdown",
      "metadata": {
        "id": "AqatfPMT_F26"
      },
      "source": []
    },
    {
      "cell_type": "code",
      "execution_count": 20,
      "metadata": {
        "colab": {
          "base_uri": "https://localhost:8080/",
          "height": 556
        },
        "id": "g90cYqTltMJI",
        "outputId": "e8770f90-c81a-4bdc-fd06-e5154a862a15"
      },
      "outputs": [
        {
          "data": {
            "image/png": "[encoded data removed]",
            "text/plain": [
              "<Figure size 800x500 with 1 Axes>"
            ]
          },
          "metadata": {},
          "output_type": "display_data"
        },
        {
          "name": "stdout",
          "output_type": "stream",
          "text": [
            "Data types of columns with null values:\n",
            "suburb          object\n",
            "full_address    object\n",
            "dtype: object\n"
          ]
        }
      ],
      "source": [
        "# Selecting columns with null values\n",
        "null_counts = categorical_features.isnull().sum()\n",
        "null_counts = null_counts[null_counts > 0]  # Keep only columns with null values\n",
        "\n",
        "# Plotting the bar chart\n",
        "plt.figure(figsize=(8, 5))\n",
        "null_counts.plot(kind='bar', color='salmon')\n",
        "plt.xlabel('Columns')\n",
        "plt.ylabel('Count of Null Values')\n",
        "plt.title('Null Value Count per Column')\n",
        "plt.xticks(rotation=0)\n",
        "\n",
        "plt.show()\n",
        "\n",
        "\n",
        "# Displaying data types of columns with null values\n",
        "print(\"Data types of columns with null values:\")\n",
        "print(df[null_counts.index].dtypes)"
      ]
    },
    {
      "cell_type": "code",
      "execution_count": 21,
      "metadata": {
        "colab": {
          "base_uri": "https://localhost:8080/"
        },
        "id": "ju-vleMDtMF6",
        "outputId": "4220f759-f160-43b3-9732-94cfa020a19d"
      },
      "outputs": [
        {
          "data": {
            "text/plain": [
              "5667"
            ]
          },
          "execution_count": 21,
          "metadata": {},
          "output_type": "execute_result"
        }
      ],
      "source": [
        "categorical_features.suburb.nunique()"
      ]
    },
    {
      "cell_type": "markdown",
      "metadata": {
        "id": "xBuk2qaquR2R"
      },
      "source": [
        "we will deal with these later"
      ]
    },
    {
      "cell_type": "code",
      "execution_count": null,
      "metadata": {
        "id": "2qDDwUIXtL-o"
      },
      "outputs": [],
      "source": []
    },
    {
      "cell_type": "code",
      "execution_count": 22,
      "metadata": {
        "id": "kzGZ6vpHAgKG"
      },
      "outputs": [],
      "source": [
        "\n",
        "dataset_insights = \"\"\"\n",
        "\n",
        "\n",
        "\n",
        "Identified the index column and removed the unnecessary Unnamed: 0 column to clean the dataset structure.\n",
        "\n",
        "####Duplicate Values Detected\n",
        "\n",
        "Checked for duplicates and found repeated values, which will be addressed in the cleaning phase.\n",
        "\n",
        "####Missing Values Analysis\n",
        "\n",
        "Examined all columns for missing values and discovered that suburb, full address, postcode column contains missing entries which will be addressed in the cleaning phase.\"\"\"\n",
        "\n"
      ]
    },
    {
      "cell_type": "code",
      "execution_count": 23,
      "metadata": {
        "colab": {
          "base_uri": "https://localhost:8080/",
          "height": 101
        },
        "id": "FB8N1nNMAgNF",
        "outputId": "163951ad-f173-46ce-f117-73e58bfa3cc7"
      },
      "outputs": [
        {
          "data": {
            "text/html": [
              "<div style='margin:10px 0;'><h3 style='display:inline; color:#2a4d69; margin-right:10px;'>dataset_insights:</h3><span style='font-size:1.2em; color:#4b86b4;'>\n",
              "\n",
              "\n",
              "\n",
              "Identified the index column and removed the unnecessary Unnamed: 0 column to clean the dataset structure.\n",
              "\n",
              "####Duplicate Values Detected\n",
              "\n",
              "Checked for duplicates and found repeated values, which will be addressed in the cleaning phase.\n",
              "\n",
              "####Missing Values Analysis\n",
              "\n",
              "Examined all columns for missing values and discovered that suburb, full address, postcode column contains missing entries which will be addressed in the cleaning phase.</span></div>"
            ],
            "text/plain": [
              "<IPython.core.display.HTML object>"
            ]
          },
          "metadata": {},
          "output_type": "display_data"
        }
      ],
      "source": [
        "# Do not modify this code\n",
        "print_tile(size=\"h3\", key='dataset_insights', value=dataset_insights)"
      ]
    },
    {
      "cell_type": "markdown",
      "metadata": {
        "id": "Ig93bpyM2RGY"
      },
      "source": [
        "### B.3 Explore Feature of Interest 1\n",
        "\n",
        "> full_address'\n",
        "\n",
        "Customer’s full address"
      ]
    },
    {
      "cell_type": "code",
      "execution_count": 24,
      "metadata": {
        "colab": {
          "base_uri": "https://localhost:8080/",
          "height": 206
        },
        "id": "nCLOV4MWHUk9",
        "outputId": "dfdeae76-5a33-4d40-c12c-53c13c6e6cc8"
      },
      "outputs": [
        {
          "data": {
            "application/vnd.microsoft.datawrangler.viewer.v0+json": {
              "columns": [
                {
                  "name": "index",
                  "rawType": "int64",
                  "type": "integer"
                },
                {
                  "name": "customer_id",
                  "rawType": "object",
                  "type": "string"
                },
                {
                  "name": "street",
                  "rawType": "object",
                  "type": "string"
                },
                {
                  "name": "type",
                  "rawType": "object",
                  "type": "string"
                },
                {
                  "name": "suburb",
                  "rawType": "object",
                  "type": "string"
                },
                {
                  "name": "postcode",
                  "rawType": "float64",
                  "type": "float"
                },
                {
                  "name": "full_address",
                  "rawType": "object",
                  "type": "string"
                }
              ],
              "ref": "4f6890d2-b746-49f6-adc8-226a9b276128",
              "rows": [
                [
                  "0",
                  "d36b3782-86b2-4f7e-97f4-19751cf735b1",
                  "Chandler Gardens",
                  "Park",
                  "Smithchester",
                  "6683.0",
                  "Suite 159 4 Chandler Gardens Park, Smithchester  ACT,  6683"
                ],
                [
                  "1",
                  "c16a23a6-c001-4846-b16a-e681692d861b",
                  "Tara Alleyway",
                  "Avenue",
                  "Mayberg",
                  "2629.0",
                  "Flat 31 247 Tara Alleyway Avenue, Mayberg  QLD,  2629"
                ],
                [
                  "2",
                  "f044a91f-3eeb-4342-9c96-2be28927a8a9",
                  "Sullivan Reserve",
                  "Reach",
                  "Vegamouth",
                  "2790.0",
                  "Level 5 591 Sullivan Reserve Reach, Vegamouth  QLD,  2790"
                ],
                [
                  "3",
                  "36096d1a-4f30-4c1c-8453-3db3ea81692c",
                  "Daniel Parade",
                  "Break",
                  "East Matthewfurt",
                  null,
                  "Unit 09 7 Daniel Parade Break, East Matthewfurt  NSW,  2839"
                ],
                [
                  "4",
                  "7484593e-4ff2-44d6-9de6-7e3bd9fe8b19",
                  "Charles Driveway",
                  "River",
                  "New Shannon",
                  "2611.0",
                  "720/460 Charles Driveway River, New Shannon  WA,  2611"
                ]
              ],
              "shape": {
                "columns": 6,
                "rows": 5
              }
            },
            "text/html": [
              "<div>\n",
              "<style scoped>\n",
              "    .dataframe tbody tr th:only-of-type {\n",
              "        vertical-align: middle;\n",
              "    }\n",
              "\n",
              "    .dataframe tbody tr th {\n",
              "        vertical-align: top;\n",
              "    }\n",
              "\n",
              "    .dataframe thead th {\n",
              "        text-align: right;\n",
              "    }\n",
              "</style>\n",
              "<table border=\"1\" class=\"dataframe\">\n",
              "  <thead>\n",
              "    <tr style=\"text-align: right;\">\n",
              "      <th></th>\n",
              "      <th>customer_id</th>\n",
              "      <th>street</th>\n",
              "      <th>type</th>\n",
              "      <th>suburb</th>\n",
              "      <th>postcode</th>\n",
              "      <th>full_address</th>\n",
              "    </tr>\n",
              "  </thead>\n",
              "  <tbody>\n",
              "    <tr>\n",
              "      <th>0</th>\n",
              "      <td>d36b3782-86b2-4f7e-97f4-19751cf735b1</td>\n",
              "      <td>Chandler Gardens</td>\n",
              "      <td>Park</td>\n",
              "      <td>Smithchester</td>\n",
              "      <td>6683.0</td>\n",
              "      <td>Suite 159 4 Chandler Gardens Park, Smithcheste...</td>\n",
              "    </tr>\n",
              "    <tr>\n",
              "      <th>1</th>\n",
              "      <td>c16a23a6-c001-4846-b16a-e681692d861b</td>\n",
              "      <td>Tara Alleyway</td>\n",
              "      <td>Avenue</td>\n",
              "      <td>Mayberg</td>\n",
              "      <td>2629.0</td>\n",
              "      <td>Flat 31 247 Tara Alleyway Avenue, Mayberg  QLD...</td>\n",
              "    </tr>\n",
              "    <tr>\n",
              "      <th>2</th>\n",
              "      <td>f044a91f-3eeb-4342-9c96-2be28927a8a9</td>\n",
              "      <td>Sullivan Reserve</td>\n",
              "      <td>Reach</td>\n",
              "      <td>Vegamouth</td>\n",
              "      <td>2790.0</td>\n",
              "      <td>Level 5 591 Sullivan Reserve Reach, Vegamouth ...</td>\n",
              "    </tr>\n",
              "    <tr>\n",
              "      <th>3</th>\n",
              "      <td>36096d1a-4f30-4c1c-8453-3db3ea81692c</td>\n",
              "      <td>Daniel Parade</td>\n",
              "      <td>Break</td>\n",
              "      <td>East Matthewfurt</td>\n",
              "      <td>NaN</td>\n",
              "      <td>Unit 09 7 Daniel Parade Break, East Matthewfur...</td>\n",
              "    </tr>\n",
              "    <tr>\n",
              "      <th>4</th>\n",
              "      <td>7484593e-4ff2-44d6-9de6-7e3bd9fe8b19</td>\n",
              "      <td>Charles Driveway</td>\n",
              "      <td>River</td>\n",
              "      <td>New Shannon</td>\n",
              "      <td>2611.0</td>\n",
              "      <td>720/460 Charles Driveway River, New Shannon  W...</td>\n",
              "    </tr>\n",
              "  </tbody>\n",
              "</table>\n",
              "</div>"
            ],
            "text/plain": [
              "                            customer_id            street    type  \\\n",
              "0  d36b3782-86b2-4f7e-97f4-19751cf735b1  Chandler Gardens    Park   \n",
              "1  c16a23a6-c001-4846-b16a-e681692d861b     Tara Alleyway  Avenue   \n",
              "2  f044a91f-3eeb-4342-9c96-2be28927a8a9  Sullivan Reserve   Reach   \n",
              "3  36096d1a-4f30-4c1c-8453-3db3ea81692c     Daniel Parade   Break   \n",
              "4  7484593e-4ff2-44d6-9de6-7e3bd9fe8b19  Charles Driveway   River   \n",
              "\n",
              "             suburb  postcode  \\\n",
              "0      Smithchester    6683.0   \n",
              "1           Mayberg    2629.0   \n",
              "2         Vegamouth    2790.0   \n",
              "3  East Matthewfurt       NaN   \n",
              "4       New Shannon    2611.0   \n",
              "\n",
              "                                        full_address  \n",
              "0  Suite 159 4 Chandler Gardens Park, Smithcheste...  \n",
              "1  Flat 31 247 Tara Alleyway Avenue, Mayberg  QLD...  \n",
              "2  Level 5 591 Sullivan Reserve Reach, Vegamouth ...  \n",
              "3  Unit 09 7 Daniel Parade Break, East Matthewfur...  \n",
              "4  720/460 Charles Driveway River, New Shannon  W...  "
            ]
          },
          "execution_count": 24,
          "metadata": {},
          "output_type": "execute_result"
        }
      ],
      "source": [
        "df.head()"
      ]
    },
    {
      "cell_type": "markdown",
      "metadata": {
        "id": "WIbTRLbgHV8N"
      },
      "source": [
        "Seems like we can extract most of the other columns from the full_address column"
      ]
    },
    {
      "cell_type": "code",
      "execution_count": 25,
      "metadata": {
        "colab": {
          "base_uri": "https://localhost:8080/"
        },
        "id": "6HhEmadgFVjh",
        "outputId": "fa3a5bea-7754-4c97-c15a-bec05aa052b1"
      },
      "outputs": [
        {
          "data": {
            "text/plain": [
              "np.int64(2675)"
            ]
          },
          "execution_count": 25,
          "metadata": {},
          "output_type": "execute_result"
        }
      ],
      "source": [
        "df.full_address.isnull().sum()"
      ]
    },
    {
      "cell_type": "markdown",
      "metadata": {
        "id": "XWzhGCngHRGW"
      },
      "source": [
        "Lets analyse and see the missing values for full_address"
      ]
    },
    {
      "cell_type": "code",
      "execution_count": 26,
      "metadata": {
        "colab": {
          "base_uri": "https://localhost:8080/",
          "height": 272
        },
        "id": "bW-owFcxFVee",
        "outputId": "aa8374b1-0029-4fd1-a09f-c7bd78e500b9"
      },
      "outputs": [
        {
          "data": {
            "application/vnd.microsoft.datawrangler.viewer.v0+json": {
              "columns": [
                {
                  "name": "index",
                  "rawType": "object",
                  "type": "string"
                },
                {
                  "name": "0",
                  "rawType": "int64",
                  "type": "integer"
                }
              ],
              "ref": "c23952c6-de0c-4e46-a18b-c23492f5ccff",
              "rows": [
                [
                  "customer_id",
                  "0"
                ],
                [
                  "street",
                  "0"
                ],
                [
                  "type",
                  "0"
                ],
                [
                  "suburb",
                  "411"
                ],
                [
                  "postcode",
                  "1156"
                ],
                [
                  "full_address",
                  "2675"
                ]
              ],
              "shape": {
                "columns": 1,
                "rows": 6
              }
            },
            "text/plain": [
              "customer_id        0\n",
              "street             0\n",
              "type               0\n",
              "suburb           411\n",
              "postcode        1156\n",
              "full_address    2675\n",
              "dtype: int64"
            ]
          },
          "execution_count": 26,
          "metadata": {},
          "output_type": "execute_result"
        }
      ],
      "source": [
        "missing_address_df=df[df.full_address.isnull()]\n",
        "missing_address_df.isnull().sum()"
      ]
    },
    {
      "cell_type": "markdown",
      "metadata": {
        "id": "2UlTYtUvT2Uw"
      },
      "source": [
        "Now lets addrss then missing values for suburb column\n",
        "- try to fill the suburb misssing values from the full_address column"
      ]
    },
    {
      "cell_type": "code",
      "execution_count": null,
      "metadata": {
        "id": "EzdSKt-PTvWD"
      },
      "outputs": [],
      "source": []
    },
    {
      "cell_type": "markdown",
      "metadata": {
        "id": "ZYBxPpvfIHCu"
      },
      "source": [
        "Lets first see the columns with missing full_address and suburb values"
      ]
    },
    {
      "cell_type": "code",
      "execution_count": 27,
      "metadata": {
        "colab": {
          "base_uri": "https://localhost:8080/",
          "height": 424
        },
        "id": "MU251DZNFVaR",
        "outputId": "3d8e8c19-adba-42b1-ab5f-487611963b26"
      },
      "outputs": [
        {
          "data": {
            "application/vnd.microsoft.datawrangler.viewer.v0+json": {
              "columns": [
                {
                  "name": "index",
                  "rawType": "int64",
                  "type": "integer"
                },
                {
                  "name": "customer_id",
                  "rawType": "object",
                  "type": "string"
                },
                {
                  "name": "street",
                  "rawType": "object",
                  "type": "string"
                },
                {
                  "name": "type",
                  "rawType": "object",
                  "type": "string"
                },
                {
                  "name": "suburb",
                  "rawType": "object",
                  "type": "unknown"
                },
                {
                  "name": "postcode",
                  "rawType": "float64",
                  "type": "float"
                },
                {
                  "name": "full_address",
                  "rawType": "object",
                  "type": "unknown"
                }
              ],
              "ref": "279ffa8c-f62c-4822-9858-a783b93c117a",
              "rows": [
                [
                  "109",
                  "6d99d4e6-0c83-447e-95c7-53840163d1a7",
                  "Owens Anchorage",
                  "Beach",
                  null,
                  null,
                  null
                ],
                [
                  "110",
                  "5f6bdce0-f672-4a5c-bc2b-4ff62cda9137",
                  "Lee Byway",
                  "Arcade",
                  null,
                  "2994.0",
                  null
                ],
                [
                  "138",
                  "f0a0d3fa-f758-4fb9-8d11-8defe11689c5",
                  "Green Plaza",
                  "Ride",
                  null,
                  "2920.0",
                  null
                ],
                [
                  "209",
                  "46a78d3a-943d-4ff2-ba0a-d0eb48cd1d42",
                  "Marcus Motorway",
                  "Run",
                  null,
                  null,
                  null
                ],
                [
                  "268",
                  "13f37df4-6546-419b-95dd-729b19093431",
                  "Kimberly Formation",
                  "Circuit",
                  null,
                  null,
                  null
                ],
                [
                  "280",
                  "38f428de-adf7-421a-b63f-769abd6dfd4d",
                  "Haynes Viaduct",
                  "Line",
                  null,
                  null,
                  null
                ],
                [
                  "288",
                  "244c5b3c-8f3a-4a40-a39a-4698f2fbc143",
                  "Patrick Roadway",
                  "Vista",
                  null,
                  "2629.0",
                  null
                ],
                [
                  "291",
                  "4ac41356-5ad4-418c-aff3-7a1adf58c7ca",
                  "Mckenzie Grove",
                  "Corner",
                  null,
                  "2679.0",
                  null
                ],
                [
                  "316",
                  "2647089e-c066-458b-bbec-35bd0927948c",
                  "Jennifer Front",
                  "Range",
                  null,
                  "2948.0",
                  null
                ],
                [
                  "381",
                  "25c43211-7230-4c95-ae24-1175c4a4ca81",
                  "Smith Cul-de-sac",
                  "Cruiseway",
                  null,
                  null,
                  null
                ],
                [
                  "391",
                  "16c5c187-056c-4802-a4dd-0290ce256927",
                  "Rodney Riviera",
                  "Retreat",
                  null,
                  null,
                  null
                ],
                [
                  "423",
                  "ff58c8c3-c17b-49d6-8d5c-0dfabd28366d",
                  "Moore Turn",
                  "Byway",
                  null,
                  null,
                  null
                ],
                [
                  "433",
                  "55ce2a58-971c-44b7-8afc-09a41f14ec60",
                  "Kenneth Roads",
                  "Thoroughfare",
                  null,
                  "2920.0",
                  null
                ],
                [
                  "434",
                  "18b3844e-9e87-4308-a58c-838b1743a390",
                  "Norris Basin",
                  "Anchorage",
                  null,
                  null,
                  null
                ],
                [
                  "438",
                  "a0302742-4244-477d-99db-38633dccb070",
                  "Alan Parade",
                  "Common",
                  null,
                  "2940.0",
                  null
                ],
                [
                  "441",
                  "70837240-1f6a-4a04-9e6d-e37b4f98a78a",
                  "David Circlet",
                  "Key",
                  null,
                  "882.0",
                  null
                ],
                [
                  "447",
                  "a0b3affa-7f9f-47d0-af8c-a7fae0baabfb",
                  "Wood Little",
                  "Lane",
                  null,
                  null,
                  null
                ],
                [
                  "452",
                  "838ac4d6-49b0-4988-b607-1192ccaa8f7e",
                  "Robinson Crossroad",
                  "Track",
                  null,
                  "2619.0",
                  null
                ],
                [
                  "531",
                  "25a92034-1f32-47a6-bddf-77d83efbeb12",
                  "Bush Gate",
                  "Triangle",
                  null,
                  null,
                  null
                ],
                [
                  "592",
                  "385f5d72-fd81-41ee-8224-a0af9f3b7d52",
                  "Walker Gardens",
                  "Tollway",
                  null,
                  "8004.0",
                  null
                ],
                [
                  "654",
                  "5210f1a2-ff76-46cd-a5c0-3686666da585",
                  "Cherry Bend",
                  "Common",
                  null,
                  null,
                  null
                ],
                [
                  "736",
                  "38f428de-adf7-421a-b63f-769abd6dfd4d",
                  "Haynes Viaduct",
                  "Line",
                  null,
                  null,
                  null
                ],
                [
                  "784",
                  "110fbe48-5c3d-4cfa-b603-1a73fd4e61da",
                  "Dodson Round",
                  "Bridge",
                  null,
                  "5750.0",
                  null
                ],
                [
                  "796",
                  "a0302742-4244-477d-99db-38633dccb070",
                  "Alan Parade",
                  "Common",
                  null,
                  "2940.0",
                  null
                ],
                [
                  "804",
                  "2596ec70-c0ae-4f71-8e3e-10db6d124ea9",
                  "Jason Formation",
                  "Motorway",
                  null,
                  "8175.0",
                  null
                ],
                [
                  "822",
                  "3bbdc2f4-a1c0-498c-bef7-207c46dd252d",
                  "Jefferson Circle",
                  "Tarn",
                  null,
                  null,
                  null
                ],
                [
                  "847",
                  "a0302742-4244-477d-99db-38633dccb070",
                  "Alan Parade",
                  "Common",
                  null,
                  "2940.0",
                  null
                ],
                [
                  "857",
                  "1138ed11-871d-4fea-9fa1-08e1136611fd",
                  "Sean Motorway",
                  "Freeway",
                  null,
                  null,
                  null
                ],
                [
                  "867",
                  "e9e996a1-c166-4141-91c5-4091ad03dd70",
                  "Crawford Common",
                  "Meander",
                  null,
                  null,
                  null
                ],
                [
                  "911",
                  "743d2c5e-e10b-440c-8438-6ecef57deb6f",
                  "Ross Foreshore",
                  "Footway",
                  null,
                  "2753.0",
                  null
                ],
                [
                  "919",
                  "2753c513-f360-4a4d-be84-0d87d349a672",
                  "William Basin",
                  "Drive",
                  null,
                  null,
                  null
                ],
                [
                  "937",
                  "cbd2d418-1569-44ab-bf37-deac93a76c34",
                  "Dana Ring",
                  "Riviera",
                  null,
                  null,
                  null
                ],
                [
                  "946",
                  "85f7afe3-f724-451a-8495-00afa07dbf7e",
                  "Seth Link",
                  "Freeway",
                  null,
                  null,
                  null
                ],
                [
                  "970",
                  "a0302742-4244-477d-99db-38633dccb070",
                  "Alan Parade",
                  "Common",
                  null,
                  "2940.0",
                  null
                ],
                [
                  "1021",
                  "16c5c187-056c-4802-a4dd-0290ce256927",
                  "Rodney Riviera",
                  "Retreat",
                  null,
                  null,
                  null
                ],
                [
                  "1037",
                  "294a6486-06ac-47d2-b71d-7609661014ec",
                  "Ryan Mews",
                  "Ground",
                  null,
                  null,
                  null
                ],
                [
                  "1076",
                  "21b31fea-1b55-4fff-a64e-c90e2e972fb1",
                  "Anderson Reserve",
                  "Outlook",
                  null,
                  "5625.0",
                  null
                ],
                [
                  "1092",
                  "2344598b-1571-4bb5-85ee-79c6100dfe75",
                  "Jeffrey Quadrangle",
                  "Broadway",
                  null,
                  null,
                  null
                ],
                [
                  "1104",
                  "07fb7378-b9b5-4d4c-8748-75ee58b319a6",
                  "Max Path",
                  "Gully",
                  null,
                  "2011.0",
                  null
                ],
                [
                  "1126",
                  "356e0e2e-ce14-40af-a7b3-bc9d681fa0ed",
                  "Susan Upper",
                  "Walkway",
                  null,
                  "2079.0",
                  null
                ],
                [
                  "1180",
                  "38f428de-adf7-421a-b63f-769abd6dfd4d",
                  "Haynes Viaduct",
                  "Line",
                  null,
                  null,
                  null
                ],
                [
                  "1188",
                  "fae2faec-b290-4b51-8a96-78d3686d7ff9",
                  "Stanley Circlet",
                  "Meander",
                  null,
                  null,
                  null
                ],
                [
                  "1204",
                  "47c3f43b-4574-49f5-ac32-d31683e93473",
                  "Silva Plaza",
                  "Courtyard",
                  null,
                  "2936.0",
                  null
                ],
                [
                  "1216",
                  "2680fa3e-82ca-45ca-ad59-f32fe9bd9e2a",
                  "Ferguson Place",
                  "Quadrant",
                  null,
                  null,
                  null
                ],
                [
                  "1254",
                  "c3ae4ff4-6140-439a-9590-a076b6e42e74",
                  "Gray Steps",
                  "Walkway",
                  null,
                  "856.0",
                  null
                ],
                [
                  "1300",
                  "19a53620-941b-45ce-8faa-3c91681bd3d7",
                  "William Cutting",
                  "Garden",
                  null,
                  "2667.0",
                  null
                ],
                [
                  "1322",
                  "9f375fed-f377-442b-a6d9-2817580016cd",
                  "Jones Outlook",
                  "Crescent",
                  null,
                  null,
                  null
                ],
                [
                  "1361",
                  "b6b487c1-d0c8-4dae-821b-7d8b0669ee43",
                  "Victoria Rue",
                  "Glade",
                  null,
                  "2977.0",
                  null
                ],
                [
                  "1365",
                  "6e993bdb-987d-4875-9331-9541653541cf",
                  "Aguilar Junction",
                  "Court",
                  null,
                  "2429.0",
                  null
                ],
                [
                  "1370",
                  "66ced23c-b1fa-4395-a3cb-46ce329849cb",
                  "Patterson Towers",
                  "Tarn",
                  null,
                  "2633.0",
                  null
                ]
              ],
              "shape": {
                "columns": 6,
                "rows": 411
              }
            },
            "text/html": [
              "<div>\n",
              "<style scoped>\n",
              "    .dataframe tbody tr th:only-of-type {\n",
              "        vertical-align: middle;\n",
              "    }\n",
              "\n",
              "    .dataframe tbody tr th {\n",
              "        vertical-align: top;\n",
              "    }\n",
              "\n",
              "    .dataframe thead th {\n",
              "        text-align: right;\n",
              "    }\n",
              "</style>\n",
              "<table border=\"1\" class=\"dataframe\">\n",
              "  <thead>\n",
              "    <tr style=\"text-align: right;\">\n",
              "      <th></th>\n",
              "      <th>customer_id</th>\n",
              "      <th>street</th>\n",
              "      <th>type</th>\n",
              "      <th>suburb</th>\n",
              "      <th>postcode</th>\n",
              "      <th>full_address</th>\n",
              "    </tr>\n",
              "  </thead>\n",
              "  <tbody>\n",
              "    <tr>\n",
              "      <th>109</th>\n",
              "      <td>6d99d4e6-0c83-447e-95c7-53840163d1a7</td>\n",
              "      <td>Owens Anchorage</td>\n",
              "      <td>Beach</td>\n",
              "      <td>NaN</td>\n",
              "      <td>NaN</td>\n",
              "      <td>NaN</td>\n",
              "    </tr>\n",
              "    <tr>\n",
              "      <th>110</th>\n",
              "      <td>5f6bdce0-f672-4a5c-bc2b-4ff62cda9137</td>\n",
              "      <td>Lee Byway</td>\n",
              "      <td>Arcade</td>\n",
              "      <td>NaN</td>\n",
              "      <td>2994.0</td>\n",
              "      <td>NaN</td>\n",
              "    </tr>\n",
              "    <tr>\n",
              "      <th>138</th>\n",
              "      <td>f0a0d3fa-f758-4fb9-8d11-8defe11689c5</td>\n",
              "      <td>Green Plaza</td>\n",
              "      <td>Ride</td>\n",
              "      <td>NaN</td>\n",
              "      <td>2920.0</td>\n",
              "      <td>NaN</td>\n",
              "    </tr>\n",
              "    <tr>\n",
              "      <th>209</th>\n",
              "      <td>46a78d3a-943d-4ff2-ba0a-d0eb48cd1d42</td>\n",
              "      <td>Marcus Motorway</td>\n",
              "      <td>Run</td>\n",
              "      <td>NaN</td>\n",
              "      <td>NaN</td>\n",
              "      <td>NaN</td>\n",
              "    </tr>\n",
              "    <tr>\n",
              "      <th>268</th>\n",
              "      <td>13f37df4-6546-419b-95dd-729b19093431</td>\n",
              "      <td>Kimberly Formation</td>\n",
              "      <td>Circuit</td>\n",
              "      <td>NaN</td>\n",
              "      <td>NaN</td>\n",
              "      <td>NaN</td>\n",
              "    </tr>\n",
              "    <tr>\n",
              "      <th>...</th>\n",
              "      <td>...</td>\n",
              "      <td>...</td>\n",
              "      <td>...</td>\n",
              "      <td>...</td>\n",
              "      <td>...</td>\n",
              "      <td>...</td>\n",
              "    </tr>\n",
              "    <tr>\n",
              "      <th>11277</th>\n",
              "      <td>1bdbe4af-fa3e-4460-a175-f170757c6f4c</td>\n",
              "      <td>Jacobs Circuit</td>\n",
              "      <td>Close</td>\n",
              "      <td>NaN</td>\n",
              "      <td>NaN</td>\n",
              "      <td>NaN</td>\n",
              "    </tr>\n",
              "    <tr>\n",
              "      <th>11281</th>\n",
              "      <td>f0ffd9a8-ac1d-4e63-ba99-807e7f02fb3d</td>\n",
              "      <td>Rachel Block</td>\n",
              "      <td>Square</td>\n",
              "      <td>NaN</td>\n",
              "      <td>2603.0</td>\n",
              "      <td>NaN</td>\n",
              "    </tr>\n",
              "    <tr>\n",
              "      <th>11284</th>\n",
              "      <td>6d99d4e6-0c83-447e-95c7-53840163d1a7</td>\n",
              "      <td>Owens Anchorage</td>\n",
              "      <td>Beach</td>\n",
              "      <td>NaN</td>\n",
              "      <td>NaN</td>\n",
              "      <td>NaN</td>\n",
              "    </tr>\n",
              "    <tr>\n",
              "      <th>11327</th>\n",
              "      <td>9b080584-6203-4071-8113-acb140377ac0</td>\n",
              "      <td>Terry Plaza</td>\n",
              "      <td>Concourse</td>\n",
              "      <td>NaN</td>\n",
              "      <td>NaN</td>\n",
              "      <td>NaN</td>\n",
              "    </tr>\n",
              "    <tr>\n",
              "      <th>11338</th>\n",
              "      <td>734fc657-90c7-448c-b0d2-c77d0cef7bcd</td>\n",
              "      <td>Brenda Sound</td>\n",
              "      <td>Tollway</td>\n",
              "      <td>NaN</td>\n",
              "      <td>227.0</td>\n",
              "      <td>NaN</td>\n",
              "    </tr>\n",
              "  </tbody>\n",
              "</table>\n",
              "<p>411 rows × 6 columns</p>\n",
              "</div>"
            ],
            "text/plain": [
              "                                customer_id              street       type  \\\n",
              "109    6d99d4e6-0c83-447e-95c7-53840163d1a7     Owens Anchorage      Beach   \n",
              "110    5f6bdce0-f672-4a5c-bc2b-4ff62cda9137           Lee Byway     Arcade   \n",
              "138    f0a0d3fa-f758-4fb9-8d11-8defe11689c5         Green Plaza       Ride   \n",
              "209    46a78d3a-943d-4ff2-ba0a-d0eb48cd1d42     Marcus Motorway        Run   \n",
              "268    13f37df4-6546-419b-95dd-729b19093431  Kimberly Formation    Circuit   \n",
              "...                                     ...                 ...        ...   \n",
              "11277  1bdbe4af-fa3e-4460-a175-f170757c6f4c      Jacobs Circuit      Close   \n",
              "11281  f0ffd9a8-ac1d-4e63-ba99-807e7f02fb3d        Rachel Block     Square   \n",
              "11284  6d99d4e6-0c83-447e-95c7-53840163d1a7     Owens Anchorage      Beach   \n",
              "11327  9b080584-6203-4071-8113-acb140377ac0         Terry Plaza  Concourse   \n",
              "11338  734fc657-90c7-448c-b0d2-c77d0cef7bcd        Brenda Sound    Tollway   \n",
              "\n",
              "      suburb  postcode full_address  \n",
              "109      NaN       NaN          NaN  \n",
              "110      NaN    2994.0          NaN  \n",
              "138      NaN    2920.0          NaN  \n",
              "209      NaN       NaN          NaN  \n",
              "268      NaN       NaN          NaN  \n",
              "...      ...       ...          ...  \n",
              "11277    NaN       NaN          NaN  \n",
              "11281    NaN    2603.0          NaN  \n",
              "11284    NaN       NaN          NaN  \n",
              "11327    NaN       NaN          NaN  \n",
              "11338    NaN     227.0          NaN  \n",
              "\n",
              "[411 rows x 6 columns]"
            ]
          },
          "execution_count": 27,
          "metadata": {},
          "output_type": "execute_result"
        }
      ],
      "source": [
        "missing_address_df[missing_address_df.suburb.isnull()]"
      ]
    },
    {
      "cell_type": "markdown",
      "metadata": {
        "id": "k1W5FTkqJhSt"
      },
      "source": [
        "Lets see if each postcode uniquely corresponds to a single suburb"
      ]
    },
    {
      "cell_type": "code",
      "execution_count": 28,
      "metadata": {
        "colab": {
          "base_uri": "https://localhost:8080/"
        },
        "id": "dxxDOY63FVWn",
        "outputId": "32ccedbc-309f-4871-a423-49f080db6d3a"
      },
      "outputs": [
        {
          "name": "stdout",
          "output_type": "stream",
          "text": [
            "The following postcodes correspond to multiple suburbs:\n",
            "postcode\n",
            "202.0     4\n",
            "204.0     2\n",
            "205.0     2\n",
            "209.0     2\n",
            "213.0     3\n",
            "         ..\n",
            "9240.0    2\n",
            "9264.0    3\n",
            "9489.0    2\n",
            "9659.0    2\n",
            "9853.0    2\n",
            "Name: suburb, Length: 645, dtype: int64\n"
          ]
        }
      ],
      "source": [
        "# Group by 'postcode' and count unique 'suburb' values\n",
        "postcode_suburb_counts = df.groupby('postcode')['suburb'].nunique()\n",
        "\n",
        "# Find postcodes that map to more than one suburb\n",
        "non_unique_postcodes = postcode_suburb_counts[postcode_suburb_counts > 1]\n",
        "\n",
        "# Display the result\n",
        "if non_unique_postcodes.empty:\n",
        "    print(\"Each postcode uniquely corresponds to a single suburb.\")\n",
        "else:\n",
        "    print(\"The following postcodes correspond to multiple suburbs:\")\n",
        "    print(non_unique_postcodes)\n"
      ]
    },
    {
      "cell_type": "markdown",
      "metadata": {
        "id": "C-xOV4MOJqD3"
      },
      "source": [
        "does not seems like it so lets try using mulitple columns to identify the suburb column"
      ]
    },
    {
      "cell_type": "markdown",
      "metadata": {
        "id": "moDLZyViKykp"
      },
      "source": [
        "now lets check whether a combination of postcode and street can uniquely identify suburb"
      ]
    },
    {
      "cell_type": "code",
      "execution_count": 29,
      "metadata": {
        "colab": {
          "base_uri": "https://localhost:8080/"
        },
        "id": "82j_zb_wJpmt",
        "outputId": "c618d314-2fd4-493d-e7a0-1d0c3f9544d5"
      },
      "outputs": [
        {
          "name": "stdout",
          "output_type": "stream",
          "text": [
            "Each postcode and street combination uniquely corresponds to a single suburb.\n"
          ]
        }
      ],
      "source": [
        "# Group by 'postcode' and 'street' and count unique 'suburb' values\n",
        "postcode_street_suburb_counts = df.groupby(['postcode', 'street'])['suburb'].nunique()\n",
        "\n",
        "# Find entries where the combination is not unique\n",
        "non_unique_postcode_street = postcode_street_suburb_counts[postcode_street_suburb_counts > 1]\n",
        "\n",
        "# Display the result\n",
        "if non_unique_postcode_street.empty:\n",
        "    print(\"Each postcode and street combination uniquely corresponds to a single suburb.\")\n",
        "else:\n",
        "    print(\"The following postcode and street combinations correspond to multiple suburbs:\")\n",
        "    print(non_unique_postcode_street)\n"
      ]
    },
    {
      "cell_type": "markdown",
      "metadata": {
        "id": "l47UItbxK20a"
      },
      "source": [
        "it did"
      ]
    },
    {
      "cell_type": "markdown",
      "metadata": {
        "id": "cfTjbRT_NEsr"
      },
      "source": [
        "Now lets see whether suburb and street together uniquely determine postcode"
      ]
    },
    {
      "cell_type": "code",
      "execution_count": null,
      "metadata": {
        "id": "vHtzfWvwFVS1"
      },
      "outputs": [],
      "source": []
    },
    {
      "cell_type": "code",
      "execution_count": 30,
      "metadata": {
        "colab": {
          "base_uri": "https://localhost:8080/"
        },
        "id": "bzgGX0Y30Efw",
        "outputId": "aa746b7f-ccff-488f-de52-5d68e726df6e"
      },
      "outputs": [
        {
          "name": "stdout",
          "output_type": "stream",
          "text": [
            "Each suburb and street combination uniquely corresponds to a single postcode.\n"
          ]
        }
      ],
      "source": [
        "# Group by 'suburb' and 'street' and count unique 'postcode' values\n",
        "suburb_street_postcode_counts = df.groupby(['suburb', 'street'])['postcode'].nunique()\n",
        "\n",
        "# Identify entries where the combination is not unique\n",
        "non_unique_suburb_street = suburb_street_postcode_counts[suburb_street_postcode_counts > 1]\n",
        "\n",
        "# Display the results\n",
        "if non_unique_suburb_street.empty:\n",
        "    print(\"Each suburb and street combination uniquely corresponds to a single postcode.\")\n",
        "else:\n",
        "    print(\"The following suburb and street combinations correspond to multiple postcodes:\")\n",
        "    print(non_unique_suburb_street)\n"
      ]
    },
    {
      "cell_type": "markdown",
      "metadata": {
        "id": "qnmzpYX0NWe8"
      },
      "source": [
        "It does so we can use this to remove the missing values from the dataset."
      ]
    },
    {
      "cell_type": "markdown",
      "metadata": {
        "id": "fAV6VeeD_1ek"
      },
      "source": []
    },
    {
      "cell_type": "code",
      "execution_count": null,
      "metadata": {
        "id": "Id7Iy9NO_zRg"
      },
      "outputs": [],
      "source": []
    },
    {
      "cell_type": "markdown",
      "metadata": {
        "id": "ZkBQ2i6fCORq"
      },
      "source": []
    },
    {
      "cell_type": "code",
      "execution_count": null,
      "metadata": {
        "id": "6k3NXs_7_zH4"
      },
      "outputs": [],
      "source": []
    },
    {
      "cell_type": "code",
      "execution_count": 31,
      "metadata": {
        "id": "2fGiDQebAj8U"
      },
      "outputs": [],
      "source": [
        "\n",
        "feature1_insights = \"\"\"\n",
        "\n",
        "#### Identified Missing Values\n",
        "\n",
        "Discovered approximately 2,600 null values in the dataset.\n",
        "\n",
        "Addressing these missing values is crucial to maintaining data integrity.\n",
        "\n",
        "#### Explored Alternative Filling Methods for Suburb\n",
        "\n",
        "Investigated whether missing suburb values could be filled using other available columns.\n",
        "\n",
        "Found that each postcode and street combination uniquely corresponds to a distinct suburb.\n",
        "\n",
        "This allowed for an accurate method to impute missing suburb entries.\n",
        "\n",
        "#### Validated Imputation for Postcode Using Suburb & Street\n",
        "\n",
        "Similarly, examined whether a combination of suburb and street could accurately fill in missing postcode values.\n",
        "\n",
        "Confirmed that each suburb-street pair uniquely maps to a postcode, making it a reliable approach for imputation.\n",
        "\n",
        "\"\"\""
      ]
    },
    {
      "cell_type": "code",
      "execution_count": 32,
      "metadata": {
        "colab": {
          "base_uri": "https://localhost:8080/",
          "height": 122
        },
        "id": "KzYXffa-Aj_Z",
        "outputId": "98d84a0c-0a52-4e4e-ab77-a90d2ffd5cdf"
      },
      "outputs": [
        {
          "data": {
            "text/html": [
              "<div style='margin:10px 0;'><h3 style='display:inline; color:#2a4d69; margin-right:10px;'>feature1_insights:</h3><span style='font-size:1.2em; color:#4b86b4;'>\n",
              "\n",
              "#### Identified Missing Values\n",
              "\n",
              "Discovered approximately 2,600 null values in the dataset.\n",
              "\n",
              "Addressing these missing values is crucial to maintaining data integrity.\n",
              "\n",
              "#### Explored Alternative Filling Methods for Suburb\n",
              "\n",
              "Investigated whether missing suburb values could be filled using other available columns.\n",
              "\n",
              "Found that each postcode and street combination uniquely corresponds to a distinct suburb.\n",
              "\n",
              "This allowed for an accurate method to impute missing suburb entries.\n",
              "\n",
              "#### Validated Imputation for Postcode Using Suburb & Street\n",
              "\n",
              "Similarly, examined whether a combination of suburb and street could accurately fill in missing postcode values.\n",
              "\n",
              "Confirmed that each suburb-street pair uniquely maps to a postcode, making it a reliable approach for imputation.\n",
              "\n",
              "</span></div>"
            ],
            "text/plain": [
              "<IPython.core.display.HTML object>"
            ]
          },
          "metadata": {},
          "output_type": "display_data"
        }
      ],
      "source": [
        "# Do not modify this code\n",
        "print_tile(size=\"h3\", key='feature1_insights', value=feature1_insights)"
      ]
    },
    {
      "cell_type": "markdown",
      "metadata": {
        "id": "XXKemD6aAqr-"
      },
      "source": [
        "### B.4 Explore Feature of Interest 2\n",
        "\n",
        "> You can add more cells in this section"
      ]
    },
    {
      "cell_type": "code",
      "execution_count": 33,
      "metadata": {
        "colab": {
          "base_uri": "https://localhost:8080/",
          "height": 241
        },
        "id": "mHL7J4ShD6GB",
        "outputId": "10c2761a-1047-429e-856b-3f5c8bd4fba7"
      },
      "outputs": [
        {
          "data": {
            "application/vnd.microsoft.datawrangler.viewer.v0+json": {
              "columns": [
                {
                  "name": "index",
                  "rawType": "int64",
                  "type": "integer"
                },
                {
                  "name": "suburb",
                  "rawType": "object",
                  "type": "string"
                }
              ],
              "ref": "0b266a43-47ff-404a-a16a-cc1a9db45ad1",
              "rows": [
                [
                  "0",
                  "Smithchester"
                ],
                [
                  "1",
                  "Mayberg"
                ],
                [
                  "2",
                  "Vegamouth"
                ],
                [
                  "3",
                  "East Matthewfurt"
                ],
                [
                  "4",
                  "New Shannon"
                ]
              ],
              "shape": {
                "columns": 1,
                "rows": 5
              }
            },
            "text/plain": [
              "0        Smithchester\n",
              "1             Mayberg\n",
              "2           Vegamouth\n",
              "3    East Matthewfurt\n",
              "4         New Shannon\n",
              "Name: suburb, dtype: object"
            ]
          },
          "execution_count": 33,
          "metadata": {},
          "output_type": "execute_result"
        }
      ],
      "source": [
        "df.suburb.head()"
      ]
    },
    {
      "cell_type": "code",
      "execution_count": 34,
      "metadata": {
        "colab": {
          "base_uri": "https://localhost:8080/"
        },
        "id": "YO8Yh4uGGbCd",
        "outputId": "dce160c2-39ec-4e03-84ec-250689691bcf"
      },
      "outputs": [
        {
          "data": {
            "text/plain": [
              "5667"
            ]
          },
          "execution_count": 34,
          "metadata": {},
          "output_type": "execute_result"
        }
      ],
      "source": [
        "df.suburb.nunique()"
      ]
    },
    {
      "cell_type": "code",
      "execution_count": 35,
      "metadata": {
        "colab": {
          "base_uri": "https://localhost:8080/",
          "height": 210
        },
        "id": "HLKzBseWGa-m",
        "outputId": "f663e2dd-e98e-496e-d221-9c0dbfd459a4"
      },
      "outputs": [
        {
          "data": {
            "application/vnd.microsoft.datawrangler.viewer.v0+json": {
              "columns": [
                {
                  "name": "index",
                  "rawType": "object",
                  "type": "string"
                },
                {
                  "name": "suburb",
                  "rawType": "object",
                  "type": "unknown"
                }
              ],
              "ref": "c2c8c458-6633-40be-83ee-8f998b4ebb47",
              "rows": [
                [
                  "count",
                  "9904"
                ],
                [
                  "unique",
                  "5667"
                ],
                [
                  "top",
                  "Johnsonmouth"
                ],
                [
                  "freq",
                  "15"
                ]
              ],
              "shape": {
                "columns": 1,
                "rows": 4
              }
            },
            "text/plain": [
              "count             9904\n",
              "unique            5667\n",
              "top       Johnsonmouth\n",
              "freq                15\n",
              "Name: suburb, dtype: object"
            ]
          },
          "execution_count": 35,
          "metadata": {},
          "output_type": "execute_result"
        }
      ],
      "source": [
        "df.suburb.describe(include=['object'])"
      ]
    },
    {
      "cell_type": "code",
      "execution_count": 36,
      "metadata": {
        "colab": {
          "base_uri": "https://localhost:8080/"
        },
        "id": "bUK4nFwCGa7E",
        "outputId": "bd684c4b-0497-49de-afd0-d4794068b263"
      },
      "outputs": [
        {
          "data": {
            "text/plain": [
              "np.int64(1461)"
            ]
          },
          "execution_count": 36,
          "metadata": {},
          "output_type": "execute_result"
        }
      ],
      "source": [
        "df.suburb.isnull().sum()"
      ]
    },
    {
      "cell_type": "markdown",
      "metadata": {
        "id": "KP7WmOSPWK2d"
      },
      "source": [
        "Checking if the missign suburb has full address values to fill the missing values"
      ]
    },
    {
      "cell_type": "code",
      "execution_count": 37,
      "metadata": {
        "colab": {
          "base_uri": "https://localhost:8080/",
          "height": 424
        },
        "id": "UYxCJfNsD5zh",
        "outputId": "647ab881-2455-442b-e0b4-faed5ad7d2d1"
      },
      "outputs": [
        {
          "data": {
            "application/vnd.microsoft.datawrangler.viewer.v0+json": {
              "columns": [
                {
                  "name": "index",
                  "rawType": "int64",
                  "type": "integer"
                },
                {
                  "name": "customer_id",
                  "rawType": "object",
                  "type": "string"
                },
                {
                  "name": "full_address",
                  "rawType": "object",
                  "type": "unknown"
                }
              ],
              "ref": "f86f7482-3ae0-447c-898e-9ccc7020ec74",
              "rows": [
                [
                  "27",
                  "c55d5d08-678f-422a-8d11-41a5d4095433",
                  "Flat 53 5 Spencer Riverway Freeway, Lewisport  ACT,  2972"
                ],
                [
                  "30",
                  "a5015049-d55a-4df0-8902-b20d40bc7ae0",
                  "040/45 Rodney Right Of Way Flat, Jefferymouth  TAS,  2692"
                ],
                [
                  "33",
                  "ed157c5c-8d24-4392-9b07-5608a2f1480e",
                  "Suite 068 62 Harrison Siding Mews, North Paulville  NSW,  2919"
                ],
                [
                  "38",
                  "fb60ec77-b356-4e27-982e-6ca7c61063f3",
                  "Apt. 365 37 Chambers Lower Service Way, Browntown  NSW,  2985"
                ],
                [
                  "44",
                  "c3fe806e-1024-477e-82fd-e0b73459edf1",
                  "Flat 83 8 Jason Walkway Lane, New William  SA,  2906"
                ],
                [
                  "66",
                  "6c59c94f-7185-4806-b0bd-f1acf4480a51",
                  "374/734 Daniel Break Trunkway, East Melissaport  ACT,  2381"
                ],
                [
                  "109",
                  "6d99d4e6-0c83-447e-95c7-53840163d1a7",
                  null
                ],
                [
                  "110",
                  "5f6bdce0-f672-4a5c-bc2b-4ff62cda9137",
                  null
                ],
                [
                  "113",
                  "3d3418d0-eee1-42d0-807b-82a6866fa3b7",
                  "Level 6 869 Kent Copse Point, Lake Derek  NT,  2130"
                ],
                [
                  "125",
                  "a8aac3f5-45fb-43b9-ad30-468c9970896c",
                  "Unit 88 5 Kyle Walk Anchorage, Port Lauraborough  WA,  2677"
                ],
                [
                  "132",
                  "36e2a471-48b8-433a-95d0-6aa69b816ce5",
                  "Apt. 974 66 Juan Trunkway Row, Cherylstad  NSW,  2883"
                ],
                [
                  "138",
                  "f0a0d3fa-f758-4fb9-8d11-8defe11689c5",
                  null
                ],
                [
                  "142",
                  "0d7f8031-bfc2-480c-89bc-2f0abb097a96",
                  "Flat 64 05 Paula Triangle Foreshore, Granttown  SA,  4417"
                ],
                [
                  "143",
                  "0964deec-2bc7-4e1a-8b8a-82a5f761a546",
                  "Apt. 918 90 Duane Elbow Fairway, Steinland  TAS,  2653"
                ],
                [
                  "153",
                  "f6bf39cb-adf1-4fb0-8420-d6af55898d69",
                  "Suite 219 975 Chavez Landing Meander, Lake Danielberg  WA,  2661"
                ],
                [
                  "154",
                  "ac2652e3-3447-4ed0-8314-a1b3dd5b3d80",
                  "662/72 Reese Mews Lower, Robertfurt  ACT,  2920"
                ],
                [
                  "156",
                  "379a8918-3122-4997-8a8d-196d78824dbd",
                  "Flat 16 41 Allen Reserve Boulevard, Lake Jacobfort  WA,  2520"
                ],
                [
                  "172",
                  "cb1bdd82-6347-4189-8639-5fe00e9dcb66",
                  "Unit 92 18 Ramsey Run Ronde, West Justinchester  VIC,  2932"
                ],
                [
                  "209",
                  "46a78d3a-943d-4ff2-ba0a-d0eb48cd1d42",
                  null
                ],
                [
                  "234",
                  "a971e472-7672-4dca-9c38-409b204a8f3d",
                  "7/9 Williams Circlet Ramp, Churchshire  ACT,  2748"
                ],
                [
                  "268",
                  "13f37df4-6546-419b-95dd-729b19093431",
                  null
                ],
                [
                  "272",
                  "12cc231f-aa03-4095-9c56-76cd8d8457ab",
                  "44/00 Wyatt Ridge Rosebowl, Wallport  NT,  2448"
                ],
                [
                  "280",
                  "38f428de-adf7-421a-b63f-769abd6dfd4d",
                  null
                ],
                [
                  "288",
                  "244c5b3c-8f3a-4a40-a39a-4698f2fbc143",
                  null
                ],
                [
                  "291",
                  "4ac41356-5ad4-418c-aff3-7a1adf58c7ca",
                  null
                ],
                [
                  "316",
                  "2647089e-c066-458b-bbec-35bd0927948c",
                  null
                ],
                [
                  "325",
                  "c4cde1ad-e10d-4306-9dff-ec8067d27a7b",
                  "Suite 363 619 Richard Quadrangle Sound, New Marybury  WA,  2679"
                ],
                [
                  "328",
                  "5b4ef7c8-353e-4d49-ab0c-dc0817b46a1b",
                  "Suite 974 402 Steven Square Turn, Port Emma  VIC,  2993"
                ],
                [
                  "334",
                  "7dad512d-cec7-402a-9fbe-719fc5e16d5c",
                  "4/33 Ramirez State Highway Entrance, New Thomas  VIC,  1178"
                ],
                [
                  "347",
                  "7b6a4b47-3ff5-4082-888a-28d6f4a08953",
                  "Flat 84 4 Lam Ridge Circlet, East Shawnton  VIC,  2652"
                ],
                [
                  "361",
                  "c0a1f778-7082-4876-a8d5-511c68136378",
                  "Level 8 4 Fletcher Common Firetrail, Lake Kimberlyland  TAS,  0283"
                ],
                [
                  "366",
                  "52f790ea-c71d-4874-9085-5ca7bbde2ba9",
                  "Unit 41 875 Gibbs Pass Strand, Evansmouth  NSW,  2380"
                ],
                [
                  "372",
                  "30710adf-8e89-4e5d-936a-4fdc2cabac4b",
                  "3/421 Mark Service Way Break, Brittneyville  TAS,  2600"
                ],
                [
                  "381",
                  "25c43211-7230-4c95-ae24-1175c4a4ca81",
                  null
                ],
                [
                  "391",
                  "16c5c187-056c-4802-a4dd-0290ce256927",
                  null
                ],
                [
                  "407",
                  "18f2be70-6cee-4bdb-ac79-4e76264c8988",
                  "4/354 Zachary Access Frontage, Christianborough  NSW,  2992"
                ],
                [
                  "419",
                  "bd89d76a-36d0-456a-a3d7-1f4e624e92d2",
                  "Unit 96 73 Rodriguez Flat Brow, Port Markborough  NT,  2823"
                ],
                [
                  "423",
                  "ff58c8c3-c17b-49d6-8d5c-0dfabd28366d",
                  null
                ],
                [
                  "433",
                  "55ce2a58-971c-44b7-8afc-09a41f14ec60",
                  null
                ],
                [
                  "434",
                  "18b3844e-9e87-4308-a58c-838b1743a390",
                  null
                ],
                [
                  "435",
                  "8a0c97f2-7586-4908-a661-5b05ba20d2bd",
                  "830/877 Jason Vale Round, St. Codyborough  QLD,  6301"
                ],
                [
                  "438",
                  "a0302742-4244-477d-99db-38633dccb070",
                  null
                ],
                [
                  "441",
                  "70837240-1f6a-4a04-9e6d-e37b4f98a78a",
                  null
                ],
                [
                  "447",
                  "a0b3affa-7f9f-47d0-af8c-a7fae0baabfb",
                  null
                ],
                [
                  "450",
                  "c92f29f1-00b3-4c4f-881a-08b13e7f0173",
                  "Level 3 06 Katie Turn Crest, Murphyland  WA,  2956"
                ],
                [
                  "452",
                  "838ac4d6-49b0-4988-b607-1192ccaa8f7e",
                  null
                ],
                [
                  "456",
                  "71465aa8-9a44-404a-a17c-d3885cc609dd",
                  "2/65 Rita Drive Nook, St. Amytown  SA,  2814"
                ],
                [
                  "462",
                  "5b4ef7c8-353e-4d49-ab0c-dc0817b46a1b",
                  "Suite 974 402 Steven Square Turn, Port Emma  VIC,  2993"
                ],
                [
                  "467",
                  "c05c5b06-02b3-4f20-976b-ce1b8a977d6b",
                  "Apt. 277 81 Johnson Bypass Track, East Rickyport  VIC,  0214"
                ],
                [
                  "470",
                  "13765241-2de1-4981-907e-d20c7661f961",
                  "6/09 Berry Towers Lane, Denisetown  TAS,  2364"
                ]
              ],
              "shape": {
                "columns": 2,
                "rows": 1461
              }
            },
            "text/html": [
              "<div>\n",
              "<style scoped>\n",
              "    .dataframe tbody tr th:only-of-type {\n",
              "        vertical-align: middle;\n",
              "    }\n",
              "\n",
              "    .dataframe tbody tr th {\n",
              "        vertical-align: top;\n",
              "    }\n",
              "\n",
              "    .dataframe thead th {\n",
              "        text-align: right;\n",
              "    }\n",
              "</style>\n",
              "<table border=\"1\" class=\"dataframe\">\n",
              "  <thead>\n",
              "    <tr style=\"text-align: right;\">\n",
              "      <th></th>\n",
              "      <th>customer_id</th>\n",
              "      <th>full_address</th>\n",
              "    </tr>\n",
              "  </thead>\n",
              "  <tbody>\n",
              "    <tr>\n",
              "      <th>27</th>\n",
              "      <td>c55d5d08-678f-422a-8d11-41a5d4095433</td>\n",
              "      <td>Flat 53 5 Spencer Riverway Freeway, Lewisport ...</td>\n",
              "    </tr>\n",
              "    <tr>\n",
              "      <th>30</th>\n",
              "      <td>a5015049-d55a-4df0-8902-b20d40bc7ae0</td>\n",
              "      <td>040/45 Rodney Right Of Way Flat, Jefferymouth ...</td>\n",
              "    </tr>\n",
              "    <tr>\n",
              "      <th>33</th>\n",
              "      <td>ed157c5c-8d24-4392-9b07-5608a2f1480e</td>\n",
              "      <td>Suite 068 62 Harrison Siding Mews, North Paulv...</td>\n",
              "    </tr>\n",
              "    <tr>\n",
              "      <th>38</th>\n",
              "      <td>fb60ec77-b356-4e27-982e-6ca7c61063f3</td>\n",
              "      <td>Apt. 365 37 Chambers Lower Service Way, Brownt...</td>\n",
              "    </tr>\n",
              "    <tr>\n",
              "      <th>44</th>\n",
              "      <td>c3fe806e-1024-477e-82fd-e0b73459edf1</td>\n",
              "      <td>Flat 83 8 Jason Walkway Lane, New William  SA,...</td>\n",
              "    </tr>\n",
              "    <tr>\n",
              "      <th>...</th>\n",
              "      <td>...</td>\n",
              "      <td>...</td>\n",
              "    </tr>\n",
              "    <tr>\n",
              "      <th>11331</th>\n",
              "      <td>947a68f5-a50f-4666-8094-118ab0bde76d</td>\n",
              "      <td>Unit 11 0 Ana Rue Crest, Michellebury  NSW,  2976</td>\n",
              "    </tr>\n",
              "    <tr>\n",
              "      <th>11338</th>\n",
              "      <td>734fc657-90c7-448c-b0d2-c77d0cef7bcd</td>\n",
              "      <td>NaN</td>\n",
              "    </tr>\n",
              "    <tr>\n",
              "      <th>11339</th>\n",
              "      <td>bb44a5d0-b580-4719-a5e9-991da93be1fa</td>\n",
              "      <td>722/7 Tommy Dell Fire Track, Cannonchester  NT...</td>\n",
              "    </tr>\n",
              "    <tr>\n",
              "      <th>11353</th>\n",
              "      <td>74727321-5874-41d1-91db-ebae043b0c05</td>\n",
              "      <td>931/75 Randy Drive Access, Meganland  QLD,  2934</td>\n",
              "    </tr>\n",
              "    <tr>\n",
              "      <th>11356</th>\n",
              "      <td>10858e28-f65b-406e-bea3-fd4f1893f936</td>\n",
              "      <td>Flat 50 845 Emily Walkway Basin, Lewismouth  N...</td>\n",
              "    </tr>\n",
              "  </tbody>\n",
              "</table>\n",
              "<p>1461 rows × 2 columns</p>\n",
              "</div>"
            ],
            "text/plain": [
              "                                customer_id  \\\n",
              "27     c55d5d08-678f-422a-8d11-41a5d4095433   \n",
              "30     a5015049-d55a-4df0-8902-b20d40bc7ae0   \n",
              "33     ed157c5c-8d24-4392-9b07-5608a2f1480e   \n",
              "38     fb60ec77-b356-4e27-982e-6ca7c61063f3   \n",
              "44     c3fe806e-1024-477e-82fd-e0b73459edf1   \n",
              "...                                     ...   \n",
              "11331  947a68f5-a50f-4666-8094-118ab0bde76d   \n",
              "11338  734fc657-90c7-448c-b0d2-c77d0cef7bcd   \n",
              "11339  bb44a5d0-b580-4719-a5e9-991da93be1fa   \n",
              "11353  74727321-5874-41d1-91db-ebae043b0c05   \n",
              "11356  10858e28-f65b-406e-bea3-fd4f1893f936   \n",
              "\n",
              "                                            full_address  \n",
              "27     Flat 53 5 Spencer Riverway Freeway, Lewisport ...  \n",
              "30     040/45 Rodney Right Of Way Flat, Jefferymouth ...  \n",
              "33     Suite 068 62 Harrison Siding Mews, North Paulv...  \n",
              "38     Apt. 365 37 Chambers Lower Service Way, Brownt...  \n",
              "44     Flat 83 8 Jason Walkway Lane, New William  SA,...  \n",
              "...                                                  ...  \n",
              "11331  Unit 11 0 Ana Rue Crest, Michellebury  NSW,  2976  \n",
              "11338                                                NaN  \n",
              "11339  722/7 Tommy Dell Fire Track, Cannonchester  NT...  \n",
              "11353   931/75 Randy Drive Access, Meganland  QLD,  2934  \n",
              "11356  Flat 50 845 Emily Walkway Basin, Lewismouth  N...  \n",
              "\n",
              "[1461 rows x 2 columns]"
            ]
          },
          "execution_count": 37,
          "metadata": {},
          "output_type": "execute_result"
        }
      ],
      "source": [
        "# Filter rows where 'suburb' is missing\n",
        "missing_suburb_df = df[df['suburb'].isnull()]\n",
        "\n",
        "# Display the 'full_address' column for these rows\n",
        "missing_suburb_df[['customer_id','full_address']]\n"
      ]
    },
    {
      "cell_type": "markdown",
      "metadata": {
        "id": "J9frRyCGHAq4"
      },
      "source": [
        "we can extract the subrub column from the address using string manipulation we will do this later .\n",
        "Similarly we can extract multiple missing values in the different columns from the address column"
      ]
    },
    {
      "cell_type": "code",
      "execution_count": null,
      "metadata": {
        "id": "f6mzHPgdD5vY"
      },
      "outputs": [],
      "source": []
    },
    {
      "cell_type": "code",
      "execution_count": null,
      "metadata": {
        "id": "s5uwYkTcD5rI"
      },
      "outputs": [],
      "source": []
    },
    {
      "cell_type": "code",
      "execution_count": 38,
      "metadata": {
        "id": "WcGhHW9eAtBA"
      },
      "outputs": [],
      "source": [
        "\n",
        "feature_2_insights = \"\"\"\n",
        "\n",
        "#### High Number of Unique Suburbs\n",
        "\n",
        "The dataset contains approximately 5,600 unique suburb names, showcasing diverse geographic coverage.\n",
        "\n",
        "### Most Common Suburb: Johnsonmouth\n",
        "\n",
        "Johnsonmouth appears 15 times, making it the most frequently occurring suburb in the dataset.\n",
        "\n",
        "This could indicate a higher concentration of customers in this area.\n",
        "\n",
        "### Missing Values Exist\n",
        "\n",
        "Around 1,400 missing values were identified in the suburb column, requiring careful handling for completeness.\n",
        "\n",
        "### Potential for Imputation\n",
        "\n",
        "Some missing suburb values can be extracted from the full_address column, offering a reliable method for filling gaps.\n",
        "\n",
        "\"\"\""
      ]
    },
    {
      "cell_type": "code",
      "execution_count": 39,
      "metadata": {
        "colab": {
          "base_uri": "https://localhost:8080/",
          "height": 122
        },
        "id": "4fj5PBwAAtNh",
        "outputId": "80416dd6-2679-43de-95ff-bee7556dc5ce"
      },
      "outputs": [
        {
          "data": {
            "text/html": [
              "<div style='margin:10px 0;'><h3 style='display:inline; color:#2a4d69; margin-right:10px;'>feature_2_insights:</h3><span style='font-size:1.2em; color:#4b86b4;'>\n",
              "\n",
              "#### High Number of Unique Suburbs\n",
              "\n",
              "The dataset contains approximately 5,600 unique suburb names, showcasing diverse geographic coverage.\n",
              "\n",
              "### Most Common Suburb: Johnsonmouth\n",
              "\n",
              "Johnsonmouth appears 15 times, making it the most frequently occurring suburb in the dataset.\n",
              "\n",
              "This could indicate a higher concentration of customers in this area.\n",
              "\n",
              "### Missing Values Exist\n",
              "\n",
              "Around 1,400 missing values were identified in the suburb column, requiring careful handling for completeness.\n",
              "\n",
              "### Potential for Imputation\n",
              "\n",
              "Some missing suburb values can be extracted from the full_address column, offering a reliable method for filling gaps.\n",
              "\n",
              "</span></div>"
            ],
            "text/plain": [
              "<IPython.core.display.HTML object>"
            ]
          },
          "metadata": {},
          "output_type": "display_data"
        }
      ],
      "source": [
        "# Do not modify this code\n",
        "print_tile(size=\"h3\", key='feature_2_insights', value=feature_2_insights)"
      ]
    },
    {
      "cell_type": "markdown",
      "metadata": {
        "id": "ErH_bh604mOe"
      },
      "source": [
        "---\n",
        "## C. Data Cleaning"
      ]
    },
    {
      "cell_type": "markdown",
      "metadata": {
        "id": "miQ6SiKlscLx"
      },
      "source": [
        "### C.1 Copy Dataset"
      ]
    },
    {
      "cell_type": "code",
      "execution_count": 40,
      "metadata": {
        "id": "HrXR7NCLtwxB"
      },
      "outputs": [],
      "source": [
        "# Do not modify this code\n",
        "df_clean = df.copy()\n",
        "try:\n",
        "  df_clean = df.copy()\n",
        "except Exception as e:\n",
        "  print(e)"
      ]
    },
    {
      "cell_type": "code",
      "execution_count": 41,
      "metadata": {
        "colab": {
          "base_uri": "https://localhost:8080/",
          "height": 272
        },
        "id": "gzFOzyZtwG4R",
        "outputId": "0fc77f31-ab65-407b-fedd-e91f77f7ba8b"
      },
      "outputs": [
        {
          "data": {
            "application/vnd.microsoft.datawrangler.viewer.v0+json": {
              "columns": [
                {
                  "name": "index",
                  "rawType": "object",
                  "type": "string"
                },
                {
                  "name": "0",
                  "rawType": "object",
                  "type": "unknown"
                }
              ],
              "ref": "b382d944-fb38-4bcf-bbd9-27a53e174237",
              "rows": [
                [
                  "customer_id",
                  "object"
                ],
                [
                  "street",
                  "object"
                ],
                [
                  "type",
                  "object"
                ],
                [
                  "suburb",
                  "object"
                ],
                [
                  "postcode",
                  "float64"
                ],
                [
                  "full_address",
                  "object"
                ]
              ],
              "shape": {
                "columns": 1,
                "rows": 6
              }
            },
            "text/plain": [
              "customer_id      object\n",
              "street           object\n",
              "type             object\n",
              "suburb           object\n",
              "postcode        float64\n",
              "full_address     object\n",
              "dtype: object"
            ]
          },
          "execution_count": 41,
          "metadata": {},
          "output_type": "execute_result"
        }
      ],
      "source": [
        "#delme\n",
        "df_clean.dtypes"
      ]
    },
    {
      "cell_type": "markdown",
      "metadata": {
        "id": "bII_PglX5E-r"
      },
      "source": [
        "### C.2 Fixing \"Removing the Duplicates\"\n",
        "\n",
        "* duplicate values lead to inaccurate conclusions\n",
        "* they introduce bias and reduce the accuracy of the model\n",
        "* they increase the size of the dataset slowing down the processing and model training"
      ]
    },
    {
      "cell_type": "code",
      "execution_count": null,
      "metadata": {
        "id": "rGUiUhQEPSN5"
      },
      "outputs": [],
      "source": []
    },
    {
      "cell_type": "code",
      "execution_count": 42,
      "metadata": {
        "colab": {
          "base_uri": "https://localhost:8080/",
          "height": 206
        },
        "id": "mqdsXJjOkdGe",
        "outputId": "b64ce0fc-d0ec-47e6-bf24-5029f93988d4"
      },
      "outputs": [
        {
          "data": {
            "application/vnd.microsoft.datawrangler.viewer.v0+json": {
              "columns": [
                {
                  "name": "index",
                  "rawType": "int64",
                  "type": "integer"
                },
                {
                  "name": "customer_id",
                  "rawType": "object",
                  "type": "string"
                },
                {
                  "name": "street",
                  "rawType": "object",
                  "type": "string"
                },
                {
                  "name": "type",
                  "rawType": "object",
                  "type": "string"
                },
                {
                  "name": "suburb",
                  "rawType": "object",
                  "type": "unknown"
                },
                {
                  "name": "postcode",
                  "rawType": "float64",
                  "type": "float"
                },
                {
                  "name": "full_address",
                  "rawType": "object",
                  "type": "string"
                }
              ],
              "ref": "bb9074ef-984b-4677-9625-d0caa958f35a",
              "rows": [
                [
                  "1747",
                  "001d7af4-9227-4d52-89e6-b89b04f55224",
                  "Graham Arcade",
                  "Dell",
                  null,
                  "2612.0",
                  "960/71 Graham Arcade Dell, St. Shannonchester  QLD,  2612"
                ],
                [
                  "7712",
                  "001d7af4-9227-4d52-89e6-b89b04f55224",
                  "Graham Arcade",
                  "Dell",
                  null,
                  "2612.0",
                  "960/71 Graham Arcade Dell, St. Shannonchester  QLD,  2612"
                ],
                [
                  "5070",
                  "00256988-b4d0-45f3-9351-be803389701e",
                  "Price Nook",
                  "Tor",
                  "South Xavierton",
                  null,
                  "Level 9 241 Price Nook Tor, South Xavierton  QLD,  2410"
                ],
                [
                  "4483",
                  "00256988-b4d0-45f3-9351-be803389701e",
                  "Price Nook",
                  "Tor",
                  "South Xavierton",
                  null,
                  "Level 9 241 Price Nook Tor, South Xavierton  QLD,  2410"
                ],
                [
                  "4369",
                  "0041651a-8a49-4df1-8c6c-23eeaf673a4b",
                  "Amy Centre",
                  "Broadway",
                  "Dannyfurt",
                  "9968.0",
                  "6/7 Amy Centre Broadway, Dannyfurt  WA,  9968"
                ]
              ],
              "shape": {
                "columns": 6,
                "rows": 5
              }
            },
            "text/html": [
              "<div>\n",
              "<style scoped>\n",
              "    .dataframe tbody tr th:only-of-type {\n",
              "        vertical-align: middle;\n",
              "    }\n",
              "\n",
              "    .dataframe tbody tr th {\n",
              "        vertical-align: top;\n",
              "    }\n",
              "\n",
              "    .dataframe thead th {\n",
              "        text-align: right;\n",
              "    }\n",
              "</style>\n",
              "<table border=\"1\" class=\"dataframe\">\n",
              "  <thead>\n",
              "    <tr style=\"text-align: right;\">\n",
              "      <th></th>\n",
              "      <th>customer_id</th>\n",
              "      <th>street</th>\n",
              "      <th>type</th>\n",
              "      <th>suburb</th>\n",
              "      <th>postcode</th>\n",
              "      <th>full_address</th>\n",
              "    </tr>\n",
              "  </thead>\n",
              "  <tbody>\n",
              "    <tr>\n",
              "      <th>1747</th>\n",
              "      <td>001d7af4-9227-4d52-89e6-b89b04f55224</td>\n",
              "      <td>Graham Arcade</td>\n",
              "      <td>Dell</td>\n",
              "      <td>NaN</td>\n",
              "      <td>2612.0</td>\n",
              "      <td>960/71 Graham Arcade Dell, St. Shannonchester ...</td>\n",
              "    </tr>\n",
              "    <tr>\n",
              "      <th>7712</th>\n",
              "      <td>001d7af4-9227-4d52-89e6-b89b04f55224</td>\n",
              "      <td>Graham Arcade</td>\n",
              "      <td>Dell</td>\n",
              "      <td>NaN</td>\n",
              "      <td>2612.0</td>\n",
              "      <td>960/71 Graham Arcade Dell, St. Shannonchester ...</td>\n",
              "    </tr>\n",
              "    <tr>\n",
              "      <th>5070</th>\n",
              "      <td>00256988-b4d0-45f3-9351-be803389701e</td>\n",
              "      <td>Price Nook</td>\n",
              "      <td>Tor</td>\n",
              "      <td>South Xavierton</td>\n",
              "      <td>NaN</td>\n",
              "      <td>Level 9 241 Price Nook Tor, South Xavierton  Q...</td>\n",
              "    </tr>\n",
              "    <tr>\n",
              "      <th>4483</th>\n",
              "      <td>00256988-b4d0-45f3-9351-be803389701e</td>\n",
              "      <td>Price Nook</td>\n",
              "      <td>Tor</td>\n",
              "      <td>South Xavierton</td>\n",
              "      <td>NaN</td>\n",
              "      <td>Level 9 241 Price Nook Tor, South Xavierton  Q...</td>\n",
              "    </tr>\n",
              "    <tr>\n",
              "      <th>4369</th>\n",
              "      <td>0041651a-8a49-4df1-8c6c-23eeaf673a4b</td>\n",
              "      <td>Amy Centre</td>\n",
              "      <td>Broadway</td>\n",
              "      <td>Dannyfurt</td>\n",
              "      <td>9968.0</td>\n",
              "      <td>6/7 Amy Centre Broadway, Dannyfurt  WA,  9968</td>\n",
              "    </tr>\n",
              "  </tbody>\n",
              "</table>\n",
              "</div>"
            ],
            "text/plain": [
              "                               customer_id         street      type  \\\n",
              "1747  001d7af4-9227-4d52-89e6-b89b04f55224  Graham Arcade      Dell   \n",
              "7712  001d7af4-9227-4d52-89e6-b89b04f55224  Graham Arcade      Dell   \n",
              "5070  00256988-b4d0-45f3-9351-be803389701e     Price Nook       Tor   \n",
              "4483  00256988-b4d0-45f3-9351-be803389701e     Price Nook       Tor   \n",
              "4369  0041651a-8a49-4df1-8c6c-23eeaf673a4b     Amy Centre  Broadway   \n",
              "\n",
              "               suburb  postcode  \\\n",
              "1747              NaN    2612.0   \n",
              "7712              NaN    2612.0   \n",
              "5070  South Xavierton       NaN   \n",
              "4483  South Xavierton       NaN   \n",
              "4369        Dannyfurt    9968.0   \n",
              "\n",
              "                                           full_address  \n",
              "1747  960/71 Graham Arcade Dell, St. Shannonchester ...  \n",
              "7712  960/71 Graham Arcade Dell, St. Shannonchester ...  \n",
              "5070  Level 9 241 Price Nook Tor, South Xavierton  Q...  \n",
              "4483  Level 9 241 Price Nook Tor, South Xavierton  Q...  \n",
              "4369      6/7 Amy Centre Broadway, Dannyfurt  WA,  9968  "
            ]
          },
          "execution_count": 42,
          "metadata": {},
          "output_type": "execute_result"
        }
      ],
      "source": [
        "\n",
        "\n",
        "df_clean_duplicates = df_clean[df_clean.duplicated(subset=['customer_id'], keep=False)]\n",
        "\n",
        "\n",
        "# Display duplicate rows\n",
        "df_clean_duplicates.head()# Sorting duplicate rows by 'customer_id' as an object (string)\n",
        "df_clean_duplicates_sorted = df_clean_duplicates.sort_values(by='customer_id', key=lambda x: x.astype(str))\n",
        "\n",
        "# Display the sorted duplicate rows\n",
        "df_clean_duplicates_sorted.head()\n"
      ]
    },
    {
      "cell_type": "code",
      "execution_count": 43,
      "metadata": {
        "colab": {
          "base_uri": "https://localhost:8080/",
          "height": 272
        },
        "id": "ikH5c-zfwacW",
        "outputId": "c67b5f07-b4f0-483d-abd2-113088b00a20"
      },
      "outputs": [
        {
          "data": {
            "application/vnd.microsoft.datawrangler.viewer.v0+json": {
              "columns": [
                {
                  "name": "index",
                  "rawType": "object",
                  "type": "string"
                },
                {
                  "name": "0",
                  "rawType": "object",
                  "type": "unknown"
                }
              ],
              "ref": "142c1873-392c-4e50-95ee-7a0eff20571c",
              "rows": [
                [
                  "customer_id",
                  "object"
                ],
                [
                  "street",
                  "object"
                ],
                [
                  "type",
                  "object"
                ],
                [
                  "suburb",
                  "object"
                ],
                [
                  "postcode",
                  "float64"
                ],
                [
                  "full_address",
                  "object"
                ]
              ],
              "shape": {
                "columns": 1,
                "rows": 6
              }
            },
            "text/plain": [
              "customer_id      object\n",
              "street           object\n",
              "type             object\n",
              "suburb           object\n",
              "postcode        float64\n",
              "full_address     object\n",
              "dtype: object"
            ]
          },
          "execution_count": 43,
          "metadata": {},
          "output_type": "execute_result"
        }
      ],
      "source": [
        "#delme\n",
        "df_clean.dtypes"
      ]
    },
    {
      "cell_type": "code",
      "execution_count": 44,
      "metadata": {
        "colab": {
          "base_uri": "https://localhost:8080/"
        },
        "id": "uK4AMty4YsaT",
        "outputId": "c09d415b-ef7c-4c58-ae9b-233633ddfcf9"
      },
      "outputs": [
        {
          "data": {
            "text/plain": [
              "11365"
            ]
          },
          "execution_count": 44,
          "metadata": {},
          "output_type": "execute_result"
        }
      ],
      "source": [
        "prev=df_clean.shape[0]\n",
        "prev"
      ]
    },
    {
      "cell_type": "code",
      "execution_count": null,
      "metadata": {
        "id": "yQoug0VYYvKa"
      },
      "outputs": [],
      "source": []
    },
    {
      "cell_type": "code",
      "execution_count": null,
      "metadata": {
        "id": "Lt-w-9YvYvGA"
      },
      "outputs": [],
      "source": []
    },
    {
      "cell_type": "code",
      "execution_count": 45,
      "metadata": {
        "id": "zRMzqz8_6J_N"
      },
      "outputs": [],
      "source": [
        "df_clean = df_clean.drop_duplicates(keep='first', ignore_index=True)\n"
      ]
    },
    {
      "cell_type": "code",
      "execution_count": 46,
      "metadata": {
        "colab": {
          "base_uri": "https://localhost:8080/"
        },
        "id": "rJfxY9PrYwp3",
        "outputId": "8adcadce-5ce7-464a-f918-029d2b1676ea"
      },
      "outputs": [
        {
          "data": {
            "text/plain": [
              "7845"
            ]
          },
          "execution_count": 46,
          "metadata": {},
          "output_type": "execute_result"
        }
      ],
      "source": [
        "current=df_clean.shape[0]\n",
        "current\n"
      ]
    },
    {
      "cell_type": "markdown",
      "metadata": {
        "id": "UK-6CWriY76C"
      },
      "source": [
        "number duplicate values removed"
      ]
    },
    {
      "cell_type": "code",
      "execution_count": 47,
      "metadata": {
        "colab": {
          "base_uri": "https://localhost:8080/"
        },
        "id": "M_FjAfDAYwjA",
        "outputId": "d6bbb93e-6bf4-4009-b897-6d2bbb5b857e"
      },
      "outputs": [
        {
          "data": {
            "text/plain": [
              "3520"
            ]
          },
          "execution_count": 47,
          "metadata": {},
          "output_type": "execute_result"
        }
      ],
      "source": [
        "prev-current"
      ]
    },
    {
      "cell_type": "code",
      "execution_count": 48,
      "metadata": {
        "colab": {
          "base_uri": "https://localhost:8080/",
          "height": 53
        },
        "id": "gm-8gpLI6J7m",
        "outputId": "b5e8e838-8437-4b6c-bcb8-a76a150c6e1f"
      },
      "outputs": [
        {
          "data": {
            "application/vnd.microsoft.datawrangler.viewer.v0+json": {
              "columns": [
                {
                  "name": "index",
                  "rawType": "int64",
                  "type": "integer"
                },
                {
                  "name": "customer_id",
                  "rawType": "object",
                  "type": "string"
                },
                {
                  "name": "street",
                  "rawType": "object",
                  "type": "string"
                },
                {
                  "name": "type",
                  "rawType": "object",
                  "type": "string"
                },
                {
                  "name": "suburb",
                  "rawType": "object",
                  "type": "string"
                },
                {
                  "name": "postcode",
                  "rawType": "float64",
                  "type": "float"
                },
                {
                  "name": "full_address",
                  "rawType": "object",
                  "type": "string"
                }
              ],
              "ref": "3111269c-65f9-4968-9bfc-9a3f255ae280",
              "rows": [],
              "shape": {
                "columns": 6,
                "rows": 0
              }
            },
            "text/html": [
              "<div>\n",
              "<style scoped>\n",
              "    .dataframe tbody tr th:only-of-type {\n",
              "        vertical-align: middle;\n",
              "    }\n",
              "\n",
              "    .dataframe tbody tr th {\n",
              "        vertical-align: top;\n",
              "    }\n",
              "\n",
              "    .dataframe thead th {\n",
              "        text-align: right;\n",
              "    }\n",
              "</style>\n",
              "<table border=\"1\" class=\"dataframe\">\n",
              "  <thead>\n",
              "    <tr style=\"text-align: right;\">\n",
              "      <th></th>\n",
              "      <th>customer_id</th>\n",
              "      <th>street</th>\n",
              "      <th>type</th>\n",
              "      <th>suburb</th>\n",
              "      <th>postcode</th>\n",
              "      <th>full_address</th>\n",
              "    </tr>\n",
              "  </thead>\n",
              "  <tbody>\n",
              "  </tbody>\n",
              "</table>\n",
              "</div>"
            ],
            "text/plain": [
              "Empty DataFrame\n",
              "Columns: [customer_id, street, type, suburb, postcode, full_address]\n",
              "Index: []"
            ]
          },
          "execution_count": 48,
          "metadata": {},
          "output_type": "execute_result"
        }
      ],
      "source": [
        "\n",
        "\n",
        "df_clean_duplicates = df_clean[df_clean.duplicated(subset=['customer_id'], keep=False)]\n",
        "\n",
        "\n",
        "# Display duplicate rows\n",
        "df_clean_duplicates.head()# Sorting duplicate rows by 'customer_id' as an object (string)\n",
        "df_clean_duplicates_sorted = df_clean_duplicates.sort_values(by='customer_id', key=lambda x: x.astype(str))\n",
        "\n",
        "# Display the sorted duplicate rows\n",
        "df_clean_duplicates_sorted.head()\n"
      ]
    },
    {
      "cell_type": "code",
      "execution_count": null,
      "metadata": {
        "id": "SPO5QGaKV3tt"
      },
      "outputs": [],
      "source": []
    },
    {
      "cell_type": "code",
      "execution_count": null,
      "metadata": {
        "id": "Xzx_INte6Jr0"
      },
      "outputs": [],
      "source": []
    },
    {
      "cell_type": "code",
      "execution_count": null,
      "metadata": {
        "id": "PIqTubkxkczd"
      },
      "outputs": [],
      "source": []
    },
    {
      "cell_type": "code",
      "execution_count": 49,
      "metadata": {
        "id": "I1X7fuzKBAY4"
      },
      "outputs": [],
      "source": [
        "\n",
        "data_cleaning_1_explanations = \"\"\"\n",
        "\n",
        "\n",
        "Identified and removed approximately 7,000 duplicate records based on customer_id, ensuring data integrity.\n",
        "\n",
        "Kept only the first occurrence of each duplicate to maintain relevant customer information while eliminating redundancy.\n",
        "\n",
        "\n",
        "\"\"\""
      ]
    },
    {
      "cell_type": "code",
      "execution_count": 50,
      "metadata": {
        "colab": {
          "base_uri": "https://localhost:8080/",
          "height": 81
        },
        "id": "cp0KsXWrBAbb",
        "outputId": "5f1e5446-b6db-4d7e-eead-2af0b5c3e7bd"
      },
      "outputs": [
        {
          "data": {
            "text/html": [
              "<div style='margin:10px 0;'><h3 style='display:inline; color:#2a4d69; margin-right:10px;'>data_cleaning_1_explanations:</h3><span style='font-size:1.2em; color:#4b86b4;'>\n",
              "\n",
              "\n",
              "Identified and removed approximately 7,000 duplicate records based on customer_id, ensuring data integrity.\n",
              "\n",
              "Kept only the first occurrence of each duplicate to maintain relevant customer information while eliminating redundancy.\n",
              "\n",
              "\n",
              "</span></div>"
            ],
            "text/plain": [
              "<IPython.core.display.HTML object>"
            ]
          },
          "metadata": {},
          "output_type": "display_data"
        }
      ],
      "source": [
        "# Do not modify this code\n",
        "print_tile(size=\"h3\", key='data_cleaning_1_explanations', value=data_cleaning_1_explanations)"
      ]
    },
    {
      "cell_type": "markdown",
      "metadata": {
        "id": "wRJ6Ql1F5ODe"
      },
      "source": [
        "### C.3 Fixing \"Dealing with the missing values\"\n",
        "\n",
        "> This approach enhances data completeness by filling missing values, ultimately improving data quality. It also ensures that the model training process is more reliable and effective, leading to better predictive performance.\n"
      ]
    },
    {
      "cell_type": "code",
      "execution_count": 51,
      "metadata": {
        "colab": {
          "base_uri": "https://localhost:8080/",
          "height": 206
        },
        "id": "DsTzKV3bhez4",
        "outputId": "ac2cac3e-603d-403f-a814-442d1f08a8ad"
      },
      "outputs": [
        {
          "data": {
            "application/vnd.microsoft.datawrangler.viewer.v0+json": {
              "columns": [
                {
                  "name": "index",
                  "rawType": "int64",
                  "type": "integer"
                },
                {
                  "name": "customer_id",
                  "rawType": "object",
                  "type": "string"
                },
                {
                  "name": "street",
                  "rawType": "object",
                  "type": "string"
                },
                {
                  "name": "type",
                  "rawType": "object",
                  "type": "string"
                },
                {
                  "name": "suburb",
                  "rawType": "object",
                  "type": "string"
                },
                {
                  "name": "postcode",
                  "rawType": "float64",
                  "type": "float"
                },
                {
                  "name": "full_address",
                  "rawType": "object",
                  "type": "string"
                }
              ],
              "ref": "2854a395-ec87-4c8d-bcca-5291637a82c1",
              "rows": [
                [
                  "0",
                  "d36b3782-86b2-4f7e-97f4-19751cf735b1",
                  "Chandler Gardens",
                  "Park",
                  "Smithchester",
                  "6683.0",
                  "Suite 159 4 Chandler Gardens Park, Smithchester  ACT,  6683"
                ],
                [
                  "1",
                  "c16a23a6-c001-4846-b16a-e681692d861b",
                  "Tara Alleyway",
                  "Avenue",
                  "Mayberg",
                  "2629.0",
                  "Flat 31 247 Tara Alleyway Avenue, Mayberg  QLD,  2629"
                ],
                [
                  "2",
                  "f044a91f-3eeb-4342-9c96-2be28927a8a9",
                  "Sullivan Reserve",
                  "Reach",
                  "Vegamouth",
                  "2790.0",
                  "Level 5 591 Sullivan Reserve Reach, Vegamouth  QLD,  2790"
                ],
                [
                  "3",
                  "36096d1a-4f30-4c1c-8453-3db3ea81692c",
                  "Daniel Parade",
                  "Break",
                  "East Matthewfurt",
                  null,
                  "Unit 09 7 Daniel Parade Break, East Matthewfurt  NSW,  2839"
                ],
                [
                  "4",
                  "7484593e-4ff2-44d6-9de6-7e3bd9fe8b19",
                  "Charles Driveway",
                  "River",
                  "New Shannon",
                  "2611.0",
                  "720/460 Charles Driveway River, New Shannon  WA,  2611"
                ]
              ],
              "shape": {
                "columns": 6,
                "rows": 5
              }
            },
            "text/html": [
              "<div>\n",
              "<style scoped>\n",
              "    .dataframe tbody tr th:only-of-type {\n",
              "        vertical-align: middle;\n",
              "    }\n",
              "\n",
              "    .dataframe tbody tr th {\n",
              "        vertical-align: top;\n",
              "    }\n",
              "\n",
              "    .dataframe thead th {\n",
              "        text-align: right;\n",
              "    }\n",
              "</style>\n",
              "<table border=\"1\" class=\"dataframe\">\n",
              "  <thead>\n",
              "    <tr style=\"text-align: right;\">\n",
              "      <th></th>\n",
              "      <th>customer_id</th>\n",
              "      <th>street</th>\n",
              "      <th>type</th>\n",
              "      <th>suburb</th>\n",
              "      <th>postcode</th>\n",
              "      <th>full_address</th>\n",
              "    </tr>\n",
              "  </thead>\n",
              "  <tbody>\n",
              "    <tr>\n",
              "      <th>0</th>\n",
              "      <td>d36b3782-86b2-4f7e-97f4-19751cf735b1</td>\n",
              "      <td>Chandler Gardens</td>\n",
              "      <td>Park</td>\n",
              "      <td>Smithchester</td>\n",
              "      <td>6683.0</td>\n",
              "      <td>Suite 159 4 Chandler Gardens Park, Smithcheste...</td>\n",
              "    </tr>\n",
              "    <tr>\n",
              "      <th>1</th>\n",
              "      <td>c16a23a6-c001-4846-b16a-e681692d861b</td>\n",
              "      <td>Tara Alleyway</td>\n",
              "      <td>Avenue</td>\n",
              "      <td>Mayberg</td>\n",
              "      <td>2629.0</td>\n",
              "      <td>Flat 31 247 Tara Alleyway Avenue, Mayberg  QLD...</td>\n",
              "    </tr>\n",
              "    <tr>\n",
              "      <th>2</th>\n",
              "      <td>f044a91f-3eeb-4342-9c96-2be28927a8a9</td>\n",
              "      <td>Sullivan Reserve</td>\n",
              "      <td>Reach</td>\n",
              "      <td>Vegamouth</td>\n",
              "      <td>2790.0</td>\n",
              "      <td>Level 5 591 Sullivan Reserve Reach, Vegamouth ...</td>\n",
              "    </tr>\n",
              "    <tr>\n",
              "      <th>3</th>\n",
              "      <td>36096d1a-4f30-4c1c-8453-3db3ea81692c</td>\n",
              "      <td>Daniel Parade</td>\n",
              "      <td>Break</td>\n",
              "      <td>East Matthewfurt</td>\n",
              "      <td>NaN</td>\n",
              "      <td>Unit 09 7 Daniel Parade Break, East Matthewfur...</td>\n",
              "    </tr>\n",
              "    <tr>\n",
              "      <th>4</th>\n",
              "      <td>7484593e-4ff2-44d6-9de6-7e3bd9fe8b19</td>\n",
              "      <td>Charles Driveway</td>\n",
              "      <td>River</td>\n",
              "      <td>New Shannon</td>\n",
              "      <td>2611.0</td>\n",
              "      <td>720/460 Charles Driveway River, New Shannon  W...</td>\n",
              "    </tr>\n",
              "  </tbody>\n",
              "</table>\n",
              "</div>"
            ],
            "text/plain": [
              "                            customer_id            street    type  \\\n",
              "0  d36b3782-86b2-4f7e-97f4-19751cf735b1  Chandler Gardens    Park   \n",
              "1  c16a23a6-c001-4846-b16a-e681692d861b     Tara Alleyway  Avenue   \n",
              "2  f044a91f-3eeb-4342-9c96-2be28927a8a9  Sullivan Reserve   Reach   \n",
              "3  36096d1a-4f30-4c1c-8453-3db3ea81692c     Daniel Parade   Break   \n",
              "4  7484593e-4ff2-44d6-9de6-7e3bd9fe8b19  Charles Driveway   River   \n",
              "\n",
              "             suburb  postcode  \\\n",
              "0      Smithchester    6683.0   \n",
              "1           Mayberg    2629.0   \n",
              "2         Vegamouth    2790.0   \n",
              "3  East Matthewfurt       NaN   \n",
              "4       New Shannon    2611.0   \n",
              "\n",
              "                                        full_address  \n",
              "0  Suite 159 4 Chandler Gardens Park, Smithcheste...  \n",
              "1  Flat 31 247 Tara Alleyway Avenue, Mayberg  QLD...  \n",
              "2  Level 5 591 Sullivan Reserve Reach, Vegamouth ...  \n",
              "3  Unit 09 7 Daniel Parade Break, East Matthewfur...  \n",
              "4  720/460 Charles Driveway River, New Shannon  W...  "
            ]
          },
          "execution_count": 51,
          "metadata": {},
          "output_type": "execute_result"
        }
      ],
      "source": [
        "df_clean.head()\n"
      ]
    },
    {
      "cell_type": "markdown",
      "metadata": {
        "id": "gAii5aeK2XUU"
      },
      "source": [
        "Extracting the suburb missing values from the full_address column\n"
      ]
    },
    {
      "cell_type": "code",
      "execution_count": 52,
      "metadata": {
        "colab": {
          "base_uri": "https://localhost:8080/"
        },
        "id": "q5IKYbqs173Z",
        "outputId": "4b23b5d6-3ac5-4eb9-ecff-2d78ff0bf8a6"
      },
      "outputs": [
        {
          "name": "stdout",
          "output_type": "stream",
          "text": [
            "                                           full_address            suburb\n",
            "0     Suite 159 4 Chandler Gardens Park, Smithcheste...      Smithchester\n",
            "1     Flat 31 247 Tara Alleyway Avenue, Mayberg  QLD...           Mayberg\n",
            "2     Level 5 591 Sullivan Reserve Reach, Vegamouth ...         Vegamouth\n",
            "3     Unit 09 7 Daniel Parade Break, East Matthewfur...  East Matthewfurt\n",
            "4     720/460 Charles Driveway River, New Shannon  W...       New Shannon\n",
            "...                                                 ...               ...\n",
            "7840  Level 0 6 Monica Triangle Grange, East Josephh...  East Josephhaven\n",
            "7841  91/5 Peter Riviera Glen, New Keithmouth  WA,  ...    New Keithmouth\n",
            "7842  Apt. 882 134 Powers Mount Path, Garciaton  QLD...         Garciaton\n",
            "7843  Flat 44 13 Gomez Port Path, Adamsburgh  NT,  0935        Adamsburgh\n",
            "7844                                                NaN        Tracimouth\n",
            "\n",
            "[7845 rows x 2 columns]\n"
          ]
        }
      ],
      "source": [
        "# Function to extract suburb from full_address\n",
        "def extract_suburb(row):\n",
        "    if pd.notnull(row['suburb']):  # If suburb is not missing, keep it\n",
        "        return row['suburb']\n",
        "    elif pd.notnull(row['full_address']):  # If suburb is missing, extract from full_address\n",
        "        address_parts = row['full_address'].split(',')\n",
        "        if len(address_parts) > 1:\n",
        "            suburb_with_state = address_parts[-2].strip()  # Extract second-to-last part as suburb\n",
        "            return re.sub(r'\\s[A-Z]{2,3}$', '', suburb_with_state)  # Remove state abbreviation\n",
        "    return None  # If no data available, return None\n",
        "\n",
        "# Apply function to fill missing suburb values\n",
        "df_clean['suburb'] = df_clean.apply(extract_suburb, axis=1)\n",
        "\n",
        "# Display results\n",
        "print(df_clean[['full_address', 'suburb']])\n"
      ]
    },
    {
      "cell_type": "markdown",
      "metadata": {
        "id": "I87t63Ua2hkb"
      },
      "source": [
        "Extracting post code from the addresss column"
      ]
    },
    {
      "cell_type": "code",
      "execution_count": 53,
      "metadata": {
        "colab": {
          "base_uri": "https://localhost:8080/"
        },
        "id": "5s7B3-Xx2fLC",
        "outputId": "f0579b10-e64b-4b3f-fc58-6796f37a92e5"
      },
      "outputs": [
        {
          "name": "stdout",
          "output_type": "stream",
          "text": [
            "                                           full_address postcode\n",
            "0     Suite 159 4 Chandler Gardens Park, Smithcheste...   6683.0\n",
            "1     Flat 31 247 Tara Alleyway Avenue, Mayberg  QLD...   2629.0\n",
            "2     Level 5 591 Sullivan Reserve Reach, Vegamouth ...   2790.0\n",
            "3     Unit 09 7 Daniel Parade Break, East Matthewfur...     2839\n",
            "4     720/460 Charles Driveway River, New Shannon  W...   2611.0\n",
            "...                                                 ...      ...\n",
            "7840  Level 0 6 Monica Triangle Grange, East Josephh...   5353.0\n",
            "7841  91/5 Peter Riviera Glen, New Keithmouth  WA,  ...   2910.0\n",
            "7842  Apt. 882 134 Powers Mount Path, Garciaton  QLD...   8214.0\n",
            "7843  Flat 44 13 Gomez Port Path, Adamsburgh  NT,  0935     0935\n",
            "7844                                                NaN    919.0\n",
            "\n",
            "[7845 rows x 2 columns]\n"
          ]
        }
      ],
      "source": [
        "# Function to extract postcode using commas\n",
        "def extract_postcode(row):\n",
        "    if pd.notnull(row['postcode']):  # Correct check for a single value\n",
        "        return row['postcode']\n",
        "    elif isinstance(row['full_address'], str):  # Ensure full_address is a string\n",
        "        address_parts = row['full_address'].split(',')  # Split the address by commas\n",
        "        if len(address_parts) > 1:\n",
        "            return address_parts[-1].strip()  # Extract last part (postcode)\n",
        "    return None  # If no valid postcode found\n",
        "\n",
        "# Apply function to fill missing postcode values\n",
        "df_clean['postcode'] = df_clean.apply(extract_postcode, axis=1)\n",
        "\n",
        "# Display the updated DataFrame\n",
        "print(df_clean[['full_address', 'postcode']])\n"
      ]
    },
    {
      "cell_type": "markdown",
      "metadata": {
        "id": "_g7GvdkFhmm5"
      },
      "source": [
        ". Uniquely Determine Postcode Using Suburb and Street"
      ]
    },
    {
      "cell_type": "code",
      "execution_count": 54,
      "metadata": {
        "colab": {
          "base_uri": "https://localhost:8080/"
        },
        "id": "l61Vaaingn21",
        "outputId": "47dc03a8-6bb3-4a65-f88a-2c176f370ef1"
      },
      "outputs": [
        {
          "name": "stdout",
          "output_type": "stream",
          "text": [
            "Missing postcode values successfully filled using suburb and street.\n"
          ]
        }
      ],
      "source": [
        "# Create mapping for postcode using suburb and street\n",
        "postcode_mapping = df_clean.groupby(['suburb', 'street'])['postcode'].first().reset_index()\n",
        "\n",
        "# Fill only missing postcode values\n",
        "df_clean.loc[df_clean['postcode'].isna(), 'postcode'] = df_clean.loc[df_clean['postcode'].isna()].merge(postcode_mapping, on=['suburb', 'street'], how='left')['postcode_y']\n",
        "\n",
        "print(\"Missing postcode values successfully filled using suburb and street.\")\n"
      ]
    },
    {
      "cell_type": "markdown",
      "metadata": {
        "id": "pXqdXeUdjIxQ"
      },
      "source": [
        "Uniquely Determine Suburb Using Postcode and Street"
      ]
    },
    {
      "cell_type": "code",
      "execution_count": 55,
      "metadata": {
        "colab": {
          "base_uri": "https://localhost:8080/"
        },
        "id": "tAIkt5COh_TI",
        "outputId": "979e2d7e-4f28-46df-d326-59644eb076ba"
      },
      "outputs": [
        {
          "name": "stdout",
          "output_type": "stream",
          "text": [
            "Missing suburb values successfully filled using postcode and street.\n"
          ]
        }
      ],
      "source": [
        "# Create mapping for suburb using postcode and street\n",
        "suburb_mapping = df_clean.groupby(['postcode', 'street'])['suburb'].first().reset_index()\n",
        "\n",
        "# Fill only missing suburb values\n",
        "df_clean.loc[df_clean['suburb'].isna(), 'suburb'] = df_clean.loc[df_clean['suburb'].isna()].merge(suburb_mapping, on=['postcode', 'street'], how='left')['suburb_y']\n",
        "\n",
        "print(\"Missing suburb values successfully filled using postcode and street.\")\n"
      ]
    },
    {
      "cell_type": "code",
      "execution_count": 56,
      "metadata": {
        "colab": {
          "base_uri": "https://localhost:8080/",
          "height": 272
        },
        "id": "87PXaw0tgnxi",
        "outputId": "f65b548f-e420-426d-d472-03b7d4170b7d"
      },
      "outputs": [
        {
          "data": {
            "application/vnd.microsoft.datawrangler.viewer.v0+json": {
              "columns": [
                {
                  "name": "index",
                  "rawType": "object",
                  "type": "string"
                },
                {
                  "name": "0",
                  "rawType": "int64",
                  "type": "integer"
                }
              ],
              "ref": "e0c9ec95-587e-460c-b362-46f1bbe4b1e3",
              "rows": [
                [
                  "customer_id",
                  "0"
                ],
                [
                  "street",
                  "0"
                ],
                [
                  "type",
                  "0"
                ],
                [
                  "suburb",
                  "178"
                ],
                [
                  "postcode",
                  "525"
                ],
                [
                  "full_address",
                  "1507"
                ]
              ],
              "shape": {
                "columns": 1,
                "rows": 6
              }
            },
            "text/plain": [
              "customer_id        0\n",
              "street             0\n",
              "type               0\n",
              "suburb           178\n",
              "postcode         525\n",
              "full_address    1507\n",
              "dtype: int64"
            ]
          },
          "execution_count": 56,
          "metadata": {},
          "output_type": "execute_result"
        }
      ],
      "source": [
        "df_clean.isnull().sum()"
      ]
    },
    {
      "cell_type": "code",
      "execution_count": null,
      "metadata": {
        "id": "DCoWvQjGgnft"
      },
      "outputs": [],
      "source": []
    },
    {
      "cell_type": "code",
      "execution_count": 57,
      "metadata": {
        "id": "Dbhyu9ybBFVH"
      },
      "outputs": [],
      "source": [
        "\n",
        "data_cleaning_2_explanations = \"\"\"\n",
        "\n",
        "### Successful Extraction of Missing Suburb Values\n",
        "\n",
        "Missing suburb entries were effectively retrieved from the full_address column, improving data completeness.\n",
        "\n",
        "This approach ensures accurate mapping of customer locations, reducing potential errors in geographic analysis.\n",
        "\n",
        "### Postcode Imputation Using Address Data\n",
        "\n",
        "Missing postcode values were extracted from the full_address column, ensuring consistency and correctness in the dataset.\n",
        "\n",
        "This step enhances data reliability for future location-based segmentation and customer analytics.\n",
        "\n",
        "Uniquely Determine Suburb Using Postcode and Street\n",
        "\n",
        "Uniquely Determine Postcode Using Suburb and Street\n",
        "\n",
        "\n",
        "\"\"\""
      ]
    },
    {
      "cell_type": "code",
      "execution_count": 58,
      "metadata": {
        "colab": {
          "base_uri": "https://localhost:8080/",
          "height": 122
        },
        "id": "oecD8SWsBFcz",
        "outputId": "342c18a6-067a-43b5-bfa7-8633b00a1c0a"
      },
      "outputs": [
        {
          "data": {
            "text/html": [
              "<div style='margin:10px 0;'><h3 style='display:inline; color:#2a4d69; margin-right:10px;'>data_cleaning_2_explanations:</h3><span style='font-size:1.2em; color:#4b86b4;'>\n",
              "\n",
              "### Successful Extraction of Missing Suburb Values\n",
              "\n",
              "Missing suburb entries were effectively retrieved from the full_address column, improving data completeness.\n",
              "\n",
              "This approach ensures accurate mapping of customer locations, reducing potential errors in geographic analysis.\n",
              "\n",
              "### Postcode Imputation Using Address Data\n",
              "\n",
              "Missing postcode values were extracted from the full_address column, ensuring consistency and correctness in the dataset.\n",
              "\n",
              "This step enhances data reliability for future location-based segmentation and customer analytics.\n",
              "\n",
              "Uniquely Determine Suburb Using Postcode and Street\n",
              "\n",
              "Uniquely Determine Postcode Using Suburb and Street\n",
              "\n",
              "\n",
              "</span></div>"
            ],
            "text/plain": [
              "<IPython.core.display.HTML object>"
            ]
          },
          "metadata": {},
          "output_type": "display_data"
        }
      ],
      "source": [
        "# Do not modify this code\n",
        "print_tile(size=\"h3\", key='data_cleaning_2_explanations', value=data_cleaning_2_explanations)"
      ]
    },
    {
      "cell_type": "markdown",
      "metadata": {
        "id": "qhu0LRMi5PgV"
      },
      "source": [
        "### C.4 Fixing \"Dealing with the left over missing values\"\n",
        "\n",
        "> since we cannot find any relevant data from the missing value fo the full address column so we will deal with them right now"
      ]
    },
    {
      "cell_type": "code",
      "execution_count": 59,
      "metadata": {
        "colab": {
          "base_uri": "https://localhost:8080/",
          "height": 272
        },
        "id": "eJh1KWoF5Qze",
        "outputId": "5bbcbe12-b64c-4a03-fca0-af27eef7d33a"
      },
      "outputs": [
        {
          "data": {
            "application/vnd.microsoft.datawrangler.viewer.v0+json": {
              "columns": [
                {
                  "name": "index",
                  "rawType": "object",
                  "type": "string"
                },
                {
                  "name": "0",
                  "rawType": "int64",
                  "type": "integer"
                }
              ],
              "ref": "344e7631-e532-4956-8997-52441d0fc2b7",
              "rows": [
                [
                  "customer_id",
                  "0"
                ],
                [
                  "street",
                  "0"
                ],
                [
                  "type",
                  "0"
                ],
                [
                  "suburb",
                  "178"
                ],
                [
                  "postcode",
                  "525"
                ],
                [
                  "full_address",
                  "1507"
                ]
              ],
              "shape": {
                "columns": 1,
                "rows": 6
              }
            },
            "text/plain": [
              "customer_id        0\n",
              "street             0\n",
              "type               0\n",
              "suburb           178\n",
              "postcode         525\n",
              "full_address    1507\n",
              "dtype: int64"
            ]
          },
          "execution_count": 59,
          "metadata": {},
          "output_type": "execute_result"
        }
      ],
      "source": [
        "missing_address_df_clean=df_clean[df_clean.full_address.isnull()]\n",
        "missing_address_df_clean.isnull().sum()"
      ]
    },
    {
      "cell_type": "markdown",
      "metadata": {
        "id": "zJRcUf-U_rO9"
      },
      "source": [
        "Since 1507 data points have no address so we cannot extract the values for other columns. such data points represent around 13 percent of the data points so we can drop them so that our train well"
      ]
    },
    {
      "cell_type": "code",
      "execution_count": 60,
      "metadata": {
        "id": "kzhpyqJ-_ocA"
      },
      "outputs": [],
      "source": [
        "# Drop rows where 'full_address' is missing\n",
        "df_clean_filtered = df_clean.dropna(subset=['full_address'])\n",
        "\n"
      ]
    },
    {
      "cell_type": "code",
      "execution_count": 61,
      "metadata": {
        "colab": {
          "base_uri": "https://localhost:8080/",
          "height": 272
        },
        "id": "dz2uJcC__oXf",
        "outputId": "2dc70120-ff3e-42b2-dc3b-42fd232d9133"
      },
      "outputs": [
        {
          "data": {
            "application/vnd.microsoft.datawrangler.viewer.v0+json": {
              "columns": [
                {
                  "name": "index",
                  "rawType": "object",
                  "type": "string"
                },
                {
                  "name": "0",
                  "rawType": "int64",
                  "type": "integer"
                }
              ],
              "ref": "c9715df9-2f9b-43ff-b9a2-f0e845fcb2dd",
              "rows": [
                [
                  "customer_id",
                  "0"
                ],
                [
                  "street",
                  "0"
                ],
                [
                  "type",
                  "0"
                ],
                [
                  "suburb",
                  "178"
                ],
                [
                  "postcode",
                  "525"
                ],
                [
                  "full_address",
                  "1507"
                ]
              ],
              "shape": {
                "columns": 1,
                "rows": 6
              }
            },
            "text/plain": [
              "customer_id        0\n",
              "street             0\n",
              "type               0\n",
              "suburb           178\n",
              "postcode         525\n",
              "full_address    1507\n",
              "dtype: int64"
            ]
          },
          "execution_count": 61,
          "metadata": {},
          "output_type": "execute_result"
        }
      ],
      "source": [
        "missing_address_df_clean=df_clean[df_clean.full_address.isnull()]\n",
        "missing_address_df_clean.isnull().sum()"
      ]
    },
    {
      "cell_type": "code",
      "execution_count": null,
      "metadata": {
        "id": "_tvnPFPs3MaL"
      },
      "outputs": [],
      "source": []
    },
    {
      "cell_type": "code",
      "execution_count": 62,
      "metadata": {
        "id": "lZgUavx-BKck"
      },
      "outputs": [],
      "source": [
        "\n",
        "data_cleaning_3_explanations = \"\"\"\n",
        "since we were not able to find any relevant data from the missing value fo the full address column so we will deal with them right now\n",
        "\n",
        "Since 1507 data points have no address so we cannot extract the values for other columns. such data points represent around 13 percent of the data points so we can drop them\n",
        "\n",
        "\"\"\""
      ]
    },
    {
      "cell_type": "code",
      "execution_count": 63,
      "metadata": {
        "colab": {
          "base_uri": "https://localhost:8080/",
          "height": 101
        },
        "id": "8S0C7Qu_BKfd",
        "outputId": "d48dac03-c6b5-4aa9-9de7-0a1c5b40397c"
      },
      "outputs": [
        {
          "data": {
            "text/html": [
              "<div style='margin:10px 0;'><h3 style='display:inline; color:#2a4d69; margin-right:10px;'>data_cleaning_3_explanations:</h3><span style='font-size:1.2em; color:#4b86b4;'>\n",
              "since we were not able to find any relevant data from the missing value fo the full address column so we will deal with them right now\n",
              "\n",
              "Since 1507 data points have no address so we cannot extract the values for other columns. such data points represent around 13 percent of the data points so we can drop them\n",
              "\n",
              "</span></div>"
            ],
            "text/plain": [
              "<IPython.core.display.HTML object>"
            ]
          },
          "metadata": {},
          "output_type": "display_data"
        }
      ],
      "source": [
        "# Do not modify this code\n",
        "print_tile(size=\"h3\", key='data_cleaning_3_explanations', value=data_cleaning_3_explanations)"
      ]
    },
    {
      "cell_type": "markdown",
      "metadata": {
        "id": "Z9jsWz-z5-XS"
      },
      "source": [
        "---\n",
        "## D. Feature Engineering"
      ]
    },
    {
      "cell_type": "markdown",
      "metadata": {
        "id": "DMN-Plpk6EPF"
      },
      "source": [
        "### D.1 Copy Datasets"
      ]
    },
    {
      "cell_type": "code",
      "execution_count": 64,
      "metadata": {
        "id": "viLWliu76Fm6"
      },
      "outputs": [],
      "source": [
        "# Do not modify this code\n",
        "try:\n",
        "  df_eng = df_clean.copy()\n",
        "except Exception as e:\n",
        "  print(e)"
      ]
    },
    {
      "cell_type": "markdown",
      "metadata": {
        "id": "imwl7ISs6O0t"
      },
      "source": [
        "### D.2 New Feature \"Postcode_binning\"\n",
        "\n",
        "Raw postcodes have high cardinality, making them difficult for predictive models to process effectively.\n",
        "\n",
        "Binning reduces the number of unique values, improving model efficiency and interpretability.\n",
        "\n",
        "Allows businesses to compare customer behaviors based on postcode bins (e.g., urban vs. suburban vs. rural trends)."
      ]
    },
    {
      "cell_type": "code",
      "execution_count": 65,
      "metadata": {
        "colab": {
          "base_uri": "https://localhost:8080/",
          "height": 206
        },
        "id": "t5RVBQKW6mJj",
        "outputId": "381497ad-e0bb-4e88-ee05-1387a6af322a"
      },
      "outputs": [
        {
          "data": {
            "application/vnd.microsoft.datawrangler.viewer.v0+json": {
              "columns": [
                {
                  "name": "index",
                  "rawType": "int64",
                  "type": "integer"
                },
                {
                  "name": "customer_id",
                  "rawType": "object",
                  "type": "string"
                },
                {
                  "name": "street",
                  "rawType": "object",
                  "type": "string"
                },
                {
                  "name": "type",
                  "rawType": "object",
                  "type": "string"
                },
                {
                  "name": "suburb",
                  "rawType": "object",
                  "type": "string"
                },
                {
                  "name": "postcode",
                  "rawType": "object",
                  "type": "unknown"
                },
                {
                  "name": "full_address",
                  "rawType": "object",
                  "type": "string"
                }
              ],
              "ref": "49011116-66b5-4162-98a0-a022f60fcb9f",
              "rows": [
                [
                  "0",
                  "d36b3782-86b2-4f7e-97f4-19751cf735b1",
                  "Chandler Gardens",
                  "Park",
                  "Smithchester",
                  "6683.0",
                  "Suite 159 4 Chandler Gardens Park, Smithchester  ACT,  6683"
                ],
                [
                  "1",
                  "c16a23a6-c001-4846-b16a-e681692d861b",
                  "Tara Alleyway",
                  "Avenue",
                  "Mayberg",
                  "2629.0",
                  "Flat 31 247 Tara Alleyway Avenue, Mayberg  QLD,  2629"
                ],
                [
                  "2",
                  "f044a91f-3eeb-4342-9c96-2be28927a8a9",
                  "Sullivan Reserve",
                  "Reach",
                  "Vegamouth",
                  "2790.0",
                  "Level 5 591 Sullivan Reserve Reach, Vegamouth  QLD,  2790"
                ],
                [
                  "3",
                  "36096d1a-4f30-4c1c-8453-3db3ea81692c",
                  "Daniel Parade",
                  "Break",
                  "East Matthewfurt",
                  "2839",
                  "Unit 09 7 Daniel Parade Break, East Matthewfurt  NSW,  2839"
                ],
                [
                  "4",
                  "7484593e-4ff2-44d6-9de6-7e3bd9fe8b19",
                  "Charles Driveway",
                  "River",
                  "New Shannon",
                  "2611.0",
                  "720/460 Charles Driveway River, New Shannon  WA,  2611"
                ]
              ],
              "shape": {
                "columns": 6,
                "rows": 5
              }
            },
            "text/html": [
              "<div>\n",
              "<style scoped>\n",
              "    .dataframe tbody tr th:only-of-type {\n",
              "        vertical-align: middle;\n",
              "    }\n",
              "\n",
              "    .dataframe tbody tr th {\n",
              "        vertical-align: top;\n",
              "    }\n",
              "\n",
              "    .dataframe thead th {\n",
              "        text-align: right;\n",
              "    }\n",
              "</style>\n",
              "<table border=\"1\" class=\"dataframe\">\n",
              "  <thead>\n",
              "    <tr style=\"text-align: right;\">\n",
              "      <th></th>\n",
              "      <th>customer_id</th>\n",
              "      <th>street</th>\n",
              "      <th>type</th>\n",
              "      <th>suburb</th>\n",
              "      <th>postcode</th>\n",
              "      <th>full_address</th>\n",
              "    </tr>\n",
              "  </thead>\n",
              "  <tbody>\n",
              "    <tr>\n",
              "      <th>0</th>\n",
              "      <td>d36b3782-86b2-4f7e-97f4-19751cf735b1</td>\n",
              "      <td>Chandler Gardens</td>\n",
              "      <td>Park</td>\n",
              "      <td>Smithchester</td>\n",
              "      <td>6683.0</td>\n",
              "      <td>Suite 159 4 Chandler Gardens Park, Smithcheste...</td>\n",
              "    </tr>\n",
              "    <tr>\n",
              "      <th>1</th>\n",
              "      <td>c16a23a6-c001-4846-b16a-e681692d861b</td>\n",
              "      <td>Tara Alleyway</td>\n",
              "      <td>Avenue</td>\n",
              "      <td>Mayberg</td>\n",
              "      <td>2629.0</td>\n",
              "      <td>Flat 31 247 Tara Alleyway Avenue, Mayberg  QLD...</td>\n",
              "    </tr>\n",
              "    <tr>\n",
              "      <th>2</th>\n",
              "      <td>f044a91f-3eeb-4342-9c96-2be28927a8a9</td>\n",
              "      <td>Sullivan Reserve</td>\n",
              "      <td>Reach</td>\n",
              "      <td>Vegamouth</td>\n",
              "      <td>2790.0</td>\n",
              "      <td>Level 5 591 Sullivan Reserve Reach, Vegamouth ...</td>\n",
              "    </tr>\n",
              "    <tr>\n",
              "      <th>3</th>\n",
              "      <td>36096d1a-4f30-4c1c-8453-3db3ea81692c</td>\n",
              "      <td>Daniel Parade</td>\n",
              "      <td>Break</td>\n",
              "      <td>East Matthewfurt</td>\n",
              "      <td>2839</td>\n",
              "      <td>Unit 09 7 Daniel Parade Break, East Matthewfur...</td>\n",
              "    </tr>\n",
              "    <tr>\n",
              "      <th>4</th>\n",
              "      <td>7484593e-4ff2-44d6-9de6-7e3bd9fe8b19</td>\n",
              "      <td>Charles Driveway</td>\n",
              "      <td>River</td>\n",
              "      <td>New Shannon</td>\n",
              "      <td>2611.0</td>\n",
              "      <td>720/460 Charles Driveway River, New Shannon  W...</td>\n",
              "    </tr>\n",
              "  </tbody>\n",
              "</table>\n",
              "</div>"
            ],
            "text/plain": [
              "                            customer_id            street    type  \\\n",
              "0  d36b3782-86b2-4f7e-97f4-19751cf735b1  Chandler Gardens    Park   \n",
              "1  c16a23a6-c001-4846-b16a-e681692d861b     Tara Alleyway  Avenue   \n",
              "2  f044a91f-3eeb-4342-9c96-2be28927a8a9  Sullivan Reserve   Reach   \n",
              "3  36096d1a-4f30-4c1c-8453-3db3ea81692c     Daniel Parade   Break   \n",
              "4  7484593e-4ff2-44d6-9de6-7e3bd9fe8b19  Charles Driveway   River   \n",
              "\n",
              "             suburb postcode  \\\n",
              "0      Smithchester   6683.0   \n",
              "1           Mayberg   2629.0   \n",
              "2         Vegamouth   2790.0   \n",
              "3  East Matthewfurt     2839   \n",
              "4       New Shannon   2611.0   \n",
              "\n",
              "                                        full_address  \n",
              "0  Suite 159 4 Chandler Gardens Park, Smithcheste...  \n",
              "1  Flat 31 247 Tara Alleyway Avenue, Mayberg  QLD...  \n",
              "2  Level 5 591 Sullivan Reserve Reach, Vegamouth ...  \n",
              "3  Unit 09 7 Daniel Parade Break, East Matthewfur...  \n",
              "4  720/460 Charles Driveway River, New Shannon  W...  "
            ]
          },
          "execution_count": 65,
          "metadata": {},
          "output_type": "execute_result"
        }
      ],
      "source": [
        "\n",
        "df_eng.head()"
      ]
    },
    {
      "cell_type": "code",
      "execution_count": 66,
      "metadata": {
        "colab": {
          "base_uri": "https://localhost:8080/",
          "height": 210
        },
        "id": "jZNBh2fCJQNg",
        "outputId": "f4a4199c-b74c-4946-88fe-03c3f20b02ea"
      },
      "outputs": [
        {
          "data": {
            "application/vnd.microsoft.datawrangler.viewer.v0+json": {
              "columns": [
                {
                  "name": "index",
                  "rawType": "object",
                  "type": "string"
                },
                {
                  "name": "postcode",
                  "rawType": "float64",
                  "type": "float"
                }
              ],
              "ref": "4fbfe375-939e-4110-b92b-0b03acf7562e",
              "rows": [
                [
                  "count",
                  "7320.0"
                ],
                [
                  "unique",
                  "2851.0"
                ],
                [
                  "top",
                  "2619.0"
                ],
                [
                  "freq",
                  "162.0"
                ]
              ],
              "shape": {
                "columns": 1,
                "rows": 4
              }
            },
            "text/plain": [
              "count     7320.0\n",
              "unique    2851.0\n",
              "top       2619.0\n",
              "freq       162.0\n",
              "Name: postcode, dtype: float64"
            ]
          },
          "execution_count": 66,
          "metadata": {},
          "output_type": "execute_result"
        }
      ],
      "source": [
        "df_eng.postcode.describe()"
      ]
    },
    {
      "cell_type": "code",
      "execution_count": 67,
      "metadata": {
        "colab": {
          "base_uri": "https://localhost:8080/"
        },
        "id": "YOnHRt_GLlTy",
        "outputId": "e641be1b-429d-47ff-cd2a-04a6fce1d12a"
      },
      "outputs": [
        {
          "name": "stdout",
          "output_type": "stream",
          "text": [
            "customer_id      object\n",
            "street           object\n",
            "type             object\n",
            "suburb           object\n",
            "postcode        float64\n",
            "full_address     object\n",
            "dtype: object\n"
          ]
        }
      ],
      "source": [
        "\n",
        "# Function to safely convert postcodes  while handling NoneType and NaN values\n",
        "def safe_convert(value):\n",
        "    try:\n",
        "        if pd.notna(value):  # Check if value is not NaN\n",
        "            return int(value)  # Convert valid number to integer\n",
        "        else:\n",
        "            return np.nan  # Preserve NaN values\n",
        "    except (ValueError, TypeError):\n",
        "        print(f\"Cannot convert: {value}\")  # Print problematic values\n",
        "        return np.nan  # Keep NaN values intact\n",
        "\n",
        "# Apply the function to the postcode column\n",
        "df_eng['postcode'] = df_eng['postcode'].apply(safe_convert)\n",
        "\n",
        "# Display the updated DataFrame and data types\n",
        "print(df_eng.dtypes)\n"
      ]
    },
    {
      "cell_type": "code",
      "execution_count": 68,
      "metadata": {
        "colab": {
          "base_uri": "https://localhost:8080/"
        },
        "id": "FJF-pQhOJQIv",
        "outputId": "8825b69c-92fe-47fd-e695-0808135c8336"
      },
      "outputs": [
        {
          "name": "stdout",
          "output_type": "stream",
          "text": [
            "   postcode  postcode_bin\n",
            "0      6683           6.0\n",
            "1      2629           2.0\n",
            "2      2790           2.0\n",
            "3      2839           2.0\n",
            "4      2611           2.0\n"
          ]
        }
      ],
      "source": [
        "# Convert postcode column to integer while preserving NaN values\n",
        "df_eng['postcode'] = df_eng['postcode'].astype(\"Int64\")\n",
        "# Determine range of postcodes\n",
        "min_postcode = df_eng['postcode'].min()\n",
        "max_postcode = df_eng['postcode'].max()\n",
        "\n",
        "# Define number of bins (adjust based on data distribution)\n",
        "num_bins = 10  # Example: Dividing postcodes into 10 groups\n",
        "\n",
        "# Compute bin edges automatically\n",
        "postcode_bins = pd.cut(df_eng['postcode'], bins=num_bins, labels=False)  # Numeric bin labels\n",
        "\n",
        "# Add binning column to DataFrame\n",
        "df_eng['postcode_bin'] = postcode_bins\n",
        "\n",
        "# Display results\n",
        "print(df_eng[['postcode', 'postcode_bin']].head())\n"
      ]
    },
    {
      "cell_type": "code",
      "execution_count": 69,
      "metadata": {
        "colab": {
          "base_uri": "https://localhost:8080/",
          "height": 206
        },
        "id": "CVHKWCvkXvqX",
        "outputId": "e31e27e6-7bb4-40ad-fc5e-a2bbac6f74af"
      },
      "outputs": [
        {
          "data": {
            "application/vnd.microsoft.datawrangler.viewer.v0+json": {
              "columns": [
                {
                  "name": "index",
                  "rawType": "int64",
                  "type": "integer"
                },
                {
                  "name": "customer_id",
                  "rawType": "object",
                  "type": "string"
                },
                {
                  "name": "street",
                  "rawType": "object",
                  "type": "string"
                },
                {
                  "name": "type",
                  "rawType": "object",
                  "type": "string"
                },
                {
                  "name": "suburb",
                  "rawType": "object",
                  "type": "string"
                },
                {
                  "name": "postcode",
                  "rawType": "Int64",
                  "type": "integer"
                },
                {
                  "name": "full_address",
                  "rawType": "object",
                  "type": "string"
                },
                {
                  "name": "postcode_bin",
                  "rawType": "float64",
                  "type": "float"
                }
              ],
              "ref": "ef69bb92-a5ac-4855-9421-f7fdb7986f64",
              "rows": [
                [
                  "0",
                  "d36b3782-86b2-4f7e-97f4-19751cf735b1",
                  "Chandler Gardens",
                  "Park",
                  "Smithchester",
                  "6683",
                  "Suite 159 4 Chandler Gardens Park, Smithchester  ACT,  6683",
                  "6.0"
                ],
                [
                  "1",
                  "c16a23a6-c001-4846-b16a-e681692d861b",
                  "Tara Alleyway",
                  "Avenue",
                  "Mayberg",
                  "2629",
                  "Flat 31 247 Tara Alleyway Avenue, Mayberg  QLD,  2629",
                  "2.0"
                ],
                [
                  "2",
                  "f044a91f-3eeb-4342-9c96-2be28927a8a9",
                  "Sullivan Reserve",
                  "Reach",
                  "Vegamouth",
                  "2790",
                  "Level 5 591 Sullivan Reserve Reach, Vegamouth  QLD,  2790",
                  "2.0"
                ],
                [
                  "3",
                  "36096d1a-4f30-4c1c-8453-3db3ea81692c",
                  "Daniel Parade",
                  "Break",
                  "East Matthewfurt",
                  "2839",
                  "Unit 09 7 Daniel Parade Break, East Matthewfurt  NSW,  2839",
                  "2.0"
                ],
                [
                  "4",
                  "7484593e-4ff2-44d6-9de6-7e3bd9fe8b19",
                  "Charles Driveway",
                  "River",
                  "New Shannon",
                  "2611",
                  "720/460 Charles Driveway River, New Shannon  WA,  2611",
                  "2.0"
                ]
              ],
              "shape": {
                "columns": 7,
                "rows": 5
              }
            },
            "text/html": [
              "<div>\n",
              "<style scoped>\n",
              "    .dataframe tbody tr th:only-of-type {\n",
              "        vertical-align: middle;\n",
              "    }\n",
              "\n",
              "    .dataframe tbody tr th {\n",
              "        vertical-align: top;\n",
              "    }\n",
              "\n",
              "    .dataframe thead th {\n",
              "        text-align: right;\n",
              "    }\n",
              "</style>\n",
              "<table border=\"1\" class=\"dataframe\">\n",
              "  <thead>\n",
              "    <tr style=\"text-align: right;\">\n",
              "      <th></th>\n",
              "      <th>customer_id</th>\n",
              "      <th>street</th>\n",
              "      <th>type</th>\n",
              "      <th>suburb</th>\n",
              "      <th>postcode</th>\n",
              "      <th>full_address</th>\n",
              "      <th>postcode_bin</th>\n",
              "    </tr>\n",
              "  </thead>\n",
              "  <tbody>\n",
              "    <tr>\n",
              "      <th>0</th>\n",
              "      <td>d36b3782-86b2-4f7e-97f4-19751cf735b1</td>\n",
              "      <td>Chandler Gardens</td>\n",
              "      <td>Park</td>\n",
              "      <td>Smithchester</td>\n",
              "      <td>6683</td>\n",
              "      <td>Suite 159 4 Chandler Gardens Park, Smithcheste...</td>\n",
              "      <td>6.0</td>\n",
              "    </tr>\n",
              "    <tr>\n",
              "      <th>1</th>\n",
              "      <td>c16a23a6-c001-4846-b16a-e681692d861b</td>\n",
              "      <td>Tara Alleyway</td>\n",
              "      <td>Avenue</td>\n",
              "      <td>Mayberg</td>\n",
              "      <td>2629</td>\n",
              "      <td>Flat 31 247 Tara Alleyway Avenue, Mayberg  QLD...</td>\n",
              "      <td>2.0</td>\n",
              "    </tr>\n",
              "    <tr>\n",
              "      <th>2</th>\n",
              "      <td>f044a91f-3eeb-4342-9c96-2be28927a8a9</td>\n",
              "      <td>Sullivan Reserve</td>\n",
              "      <td>Reach</td>\n",
              "      <td>Vegamouth</td>\n",
              "      <td>2790</td>\n",
              "      <td>Level 5 591 Sullivan Reserve Reach, Vegamouth ...</td>\n",
              "      <td>2.0</td>\n",
              "    </tr>\n",
              "    <tr>\n",
              "      <th>3</th>\n",
              "      <td>36096d1a-4f30-4c1c-8453-3db3ea81692c</td>\n",
              "      <td>Daniel Parade</td>\n",
              "      <td>Break</td>\n",
              "      <td>East Matthewfurt</td>\n",
              "      <td>2839</td>\n",
              "      <td>Unit 09 7 Daniel Parade Break, East Matthewfur...</td>\n",
              "      <td>2.0</td>\n",
              "    </tr>\n",
              "    <tr>\n",
              "      <th>4</th>\n",
              "      <td>7484593e-4ff2-44d6-9de6-7e3bd9fe8b19</td>\n",
              "      <td>Charles Driveway</td>\n",
              "      <td>River</td>\n",
              "      <td>New Shannon</td>\n",
              "      <td>2611</td>\n",
              "      <td>720/460 Charles Driveway River, New Shannon  W...</td>\n",
              "      <td>2.0</td>\n",
              "    </tr>\n",
              "  </tbody>\n",
              "</table>\n",
              "</div>"
            ],
            "text/plain": [
              "                            customer_id            street    type  \\\n",
              "0  d36b3782-86b2-4f7e-97f4-19751cf735b1  Chandler Gardens    Park   \n",
              "1  c16a23a6-c001-4846-b16a-e681692d861b     Tara Alleyway  Avenue   \n",
              "2  f044a91f-3eeb-4342-9c96-2be28927a8a9  Sullivan Reserve   Reach   \n",
              "3  36096d1a-4f30-4c1c-8453-3db3ea81692c     Daniel Parade   Break   \n",
              "4  7484593e-4ff2-44d6-9de6-7e3bd9fe8b19  Charles Driveway   River   \n",
              "\n",
              "             suburb  postcode  \\\n",
              "0      Smithchester      6683   \n",
              "1           Mayberg      2629   \n",
              "2         Vegamouth      2790   \n",
              "3  East Matthewfurt      2839   \n",
              "4       New Shannon      2611   \n",
              "\n",
              "                                        full_address  postcode_bin  \n",
              "0  Suite 159 4 Chandler Gardens Park, Smithcheste...           6.0  \n",
              "1  Flat 31 247 Tara Alleyway Avenue, Mayberg  QLD...           2.0  \n",
              "2  Level 5 591 Sullivan Reserve Reach, Vegamouth ...           2.0  \n",
              "3  Unit 09 7 Daniel Parade Break, East Matthewfur...           2.0  \n",
              "4  720/460 Charles Driveway River, New Shannon  W...           2.0  "
            ]
          },
          "execution_count": 69,
          "metadata": {},
          "output_type": "execute_result"
        }
      ],
      "source": [
        "df_eng.head()"
      ]
    },
    {
      "cell_type": "code",
      "execution_count": 70,
      "metadata": {
        "colab": {
          "base_uri": "https://localhost:8080/",
          "height": 576
        },
        "id": "8qkflOBlJQCx",
        "outputId": "3231cfb1-279c-48ab-fef1-0721b8b77431"
      },
      "outputs": [
        {
          "data": {
            "image/png": "[encoded data removed]",
            "text/plain": [
              "<Figure size 1200x600 with 1 Axes>"
            ]
          },
          "metadata": {},
          "output_type": "display_data"
        }
      ],
      "source": [
        "\n",
        "\n",
        "# Aggregate data: sum of type occurrences per postcode_bin\n",
        "postcode_type_sum = df_eng.groupby('postcode_bin')['type'].count().reset_index()\n",
        "\n",
        "# Rename columns for clarity\n",
        "postcode_type_sum.columns = ['postcode_bin', 'total_type_count']\n",
        "\n",
        "# Plot bar chart\n",
        "plt.figure(figsize=(12, 6))\n",
        "sns.barplot(x='postcode_bin', y='total_type_count', data=postcode_type_sum, palette='coolwarm')\n",
        "\n",
        "plt.xlabel(\"Postcode Bin\")\n",
        "plt.ylabel(\"Total Count of Types\")\n",
        "plt.title(\"Sum of Type Occurrences Across Postcode Bins\")\n",
        "plt.xticks(rotation=45)\n",
        "plt.show()\n"
      ]
    },
    {
      "cell_type": "code",
      "execution_count": 71,
      "metadata": {
        "colab": {
          "base_uri": "https://localhost:8080/",
          "height": 206
        },
        "id": "4BfFvZKx11dD",
        "outputId": "693069f9-4ea4-4750-a8b6-ba2b8e170631"
      },
      "outputs": [
        {
          "data": {
            "application/vnd.microsoft.datawrangler.viewer.v0+json": {
              "columns": [
                {
                  "name": "index",
                  "rawType": "int64",
                  "type": "integer"
                },
                {
                  "name": "customer_id",
                  "rawType": "object",
                  "type": "string"
                },
                {
                  "name": "street",
                  "rawType": "object",
                  "type": "string"
                },
                {
                  "name": "type",
                  "rawType": "object",
                  "type": "string"
                },
                {
                  "name": "suburb",
                  "rawType": "object",
                  "type": "string"
                },
                {
                  "name": "postcode",
                  "rawType": "Int64",
                  "type": "integer"
                },
                {
                  "name": "full_address",
                  "rawType": "object",
                  "type": "string"
                },
                {
                  "name": "postcode_bin",
                  "rawType": "float64",
                  "type": "float"
                }
              ],
              "ref": "0674422a-9194-4c57-97ea-f33b4aad3a6c",
              "rows": [
                [
                  "0",
                  "d36b3782-86b2-4f7e-97f4-19751cf735b1",
                  "Chandler Gardens",
                  "Park",
                  "Smithchester",
                  "6683",
                  "Suite 159 4 Chandler Gardens Park, Smithchester  ACT,  6683",
                  "6.0"
                ],
                [
                  "1",
                  "c16a23a6-c001-4846-b16a-e681692d861b",
                  "Tara Alleyway",
                  "Avenue",
                  "Mayberg",
                  "2629",
                  "Flat 31 247 Tara Alleyway Avenue, Mayberg  QLD,  2629",
                  "2.0"
                ],
                [
                  "2",
                  "f044a91f-3eeb-4342-9c96-2be28927a8a9",
                  "Sullivan Reserve",
                  "Reach",
                  "Vegamouth",
                  "2790",
                  "Level 5 591 Sullivan Reserve Reach, Vegamouth  QLD,  2790",
                  "2.0"
                ],
                [
                  "3",
                  "36096d1a-4f30-4c1c-8453-3db3ea81692c",
                  "Daniel Parade",
                  "Break",
                  "East Matthewfurt",
                  "2839",
                  "Unit 09 7 Daniel Parade Break, East Matthewfurt  NSW,  2839",
                  "2.0"
                ],
                [
                  "4",
                  "7484593e-4ff2-44d6-9de6-7e3bd9fe8b19",
                  "Charles Driveway",
                  "River",
                  "New Shannon",
                  "2611",
                  "720/460 Charles Driveway River, New Shannon  WA,  2611",
                  "2.0"
                ]
              ],
              "shape": {
                "columns": 7,
                "rows": 5
              }
            },
            "text/html": [
              "<div>\n",
              "<style scoped>\n",
              "    .dataframe tbody tr th:only-of-type {\n",
              "        vertical-align: middle;\n",
              "    }\n",
              "\n",
              "    .dataframe tbody tr th {\n",
              "        vertical-align: top;\n",
              "    }\n",
              "\n",
              "    .dataframe thead th {\n",
              "        text-align: right;\n",
              "    }\n",
              "</style>\n",
              "<table border=\"1\" class=\"dataframe\">\n",
              "  <thead>\n",
              "    <tr style=\"text-align: right;\">\n",
              "      <th></th>\n",
              "      <th>customer_id</th>\n",
              "      <th>street</th>\n",
              "      <th>type</th>\n",
              "      <th>suburb</th>\n",
              "      <th>postcode</th>\n",
              "      <th>full_address</th>\n",
              "      <th>postcode_bin</th>\n",
              "    </tr>\n",
              "  </thead>\n",
              "  <tbody>\n",
              "    <tr>\n",
              "      <th>0</th>\n",
              "      <td>d36b3782-86b2-4f7e-97f4-19751cf735b1</td>\n",
              "      <td>Chandler Gardens</td>\n",
              "      <td>Park</td>\n",
              "      <td>Smithchester</td>\n",
              "      <td>6683</td>\n",
              "      <td>Suite 159 4 Chandler Gardens Park, Smithcheste...</td>\n",
              "      <td>6.0</td>\n",
              "    </tr>\n",
              "    <tr>\n",
              "      <th>1</th>\n",
              "      <td>c16a23a6-c001-4846-b16a-e681692d861b</td>\n",
              "      <td>Tara Alleyway</td>\n",
              "      <td>Avenue</td>\n",
              "      <td>Mayberg</td>\n",
              "      <td>2629</td>\n",
              "      <td>Flat 31 247 Tara Alleyway Avenue, Mayberg  QLD...</td>\n",
              "      <td>2.0</td>\n",
              "    </tr>\n",
              "    <tr>\n",
              "      <th>2</th>\n",
              "      <td>f044a91f-3eeb-4342-9c96-2be28927a8a9</td>\n",
              "      <td>Sullivan Reserve</td>\n",
              "      <td>Reach</td>\n",
              "      <td>Vegamouth</td>\n",
              "      <td>2790</td>\n",
              "      <td>Level 5 591 Sullivan Reserve Reach, Vegamouth ...</td>\n",
              "      <td>2.0</td>\n",
              "    </tr>\n",
              "    <tr>\n",
              "      <th>3</th>\n",
              "      <td>36096d1a-4f30-4c1c-8453-3db3ea81692c</td>\n",
              "      <td>Daniel Parade</td>\n",
              "      <td>Break</td>\n",
              "      <td>East Matthewfurt</td>\n",
              "      <td>2839</td>\n",
              "      <td>Unit 09 7 Daniel Parade Break, East Matthewfur...</td>\n",
              "      <td>2.0</td>\n",
              "    </tr>\n",
              "    <tr>\n",
              "      <th>4</th>\n",
              "      <td>7484593e-4ff2-44d6-9de6-7e3bd9fe8b19</td>\n",
              "      <td>Charles Driveway</td>\n",
              "      <td>River</td>\n",
              "      <td>New Shannon</td>\n",
              "      <td>2611</td>\n",
              "      <td>720/460 Charles Driveway River, New Shannon  W...</td>\n",
              "      <td>2.0</td>\n",
              "    </tr>\n",
              "  </tbody>\n",
              "</table>\n",
              "</div>"
            ],
            "text/plain": [
              "                            customer_id            street    type  \\\n",
              "0  d36b3782-86b2-4f7e-97f4-19751cf735b1  Chandler Gardens    Park   \n",
              "1  c16a23a6-c001-4846-b16a-e681692d861b     Tara Alleyway  Avenue   \n",
              "2  f044a91f-3eeb-4342-9c96-2be28927a8a9  Sullivan Reserve   Reach   \n",
              "3  36096d1a-4f30-4c1c-8453-3db3ea81692c     Daniel Parade   Break   \n",
              "4  7484593e-4ff2-44d6-9de6-7e3bd9fe8b19  Charles Driveway   River   \n",
              "\n",
              "             suburb  postcode  \\\n",
              "0      Smithchester      6683   \n",
              "1           Mayberg      2629   \n",
              "2         Vegamouth      2790   \n",
              "3  East Matthewfurt      2839   \n",
              "4       New Shannon      2611   \n",
              "\n",
              "                                        full_address  postcode_bin  \n",
              "0  Suite 159 4 Chandler Gardens Park, Smithcheste...           6.0  \n",
              "1  Flat 31 247 Tara Alleyway Avenue, Mayberg  QLD...           2.0  \n",
              "2  Level 5 591 Sullivan Reserve Reach, Vegamouth ...           2.0  \n",
              "3  Unit 09 7 Daniel Parade Break, East Matthewfur...           2.0  \n",
              "4  720/460 Charles Driveway River, New Shannon  W...           2.0  "
            ]
          },
          "execution_count": 71,
          "metadata": {},
          "output_type": "execute_result"
        }
      ],
      "source": [
        "df_eng.head()"
      ]
    },
    {
      "cell_type": "code",
      "execution_count": 72,
      "metadata": {
        "id": "A0yJ6JFxBYAp"
      },
      "outputs": [],
      "source": [
        "\n",
        "feature_engineering_1_explanations = \"\"\"\n",
        "\n",
        "Postcode Bin 2.0 overwhelmingly dominates the distribution with a total count of types exceeding 5000.\n",
        "The spike in bin 2.0 indicate a key area of interest, such as a population or activity hub.\n",
        "Raw postcodes have high cardinality, making them difficult for predictive models to process effectively.\n",
        "\n",
        "Binning reduces the number of unique values, improving model efficiency and interpretability.\n",
        "\n",
        "Allows businesses to compare customer behaviors based on postcode bins (e.g., urban vs. suburban vs. rural trends).\n",
        "\"\"\""
      ]
    },
    {
      "cell_type": "code",
      "execution_count": 73,
      "metadata": {
        "colab": {
          "base_uri": "https://localhost:8080/",
          "height": 101
        },
        "id": "OcA_nw0HBYDZ",
        "outputId": "9684da46-f691-45c8-9ec2-cfa3840cf950"
      },
      "outputs": [
        {
          "data": {
            "text/html": [
              "<div style='margin:10px 0;'><h3 style='display:inline; color:#2a4d69; margin-right:10px;'>feature_engineering_1_explanations:</h3><span style='font-size:1.2em; color:#4b86b4;'>\n",
              "\n",
              "Postcode Bin 2.0 overwhelmingly dominates the distribution with a total count of types exceeding 5000.\n",
              "The spike in bin 2.0 indicate a key area of interest, such as a population or activity hub.\n",
              "Raw postcodes have high cardinality, making them difficult for predictive models to process effectively.\n",
              "\n",
              "Binning reduces the number of unique values, improving model efficiency and interpretability.\n",
              "\n",
              "Allows businesses to compare customer behaviors based on postcode bins (e.g., urban vs. suburban vs. rural trends).\n",
              "</span></div>"
            ],
            "text/plain": [
              "<IPython.core.display.HTML object>"
            ]
          },
          "metadata": {},
          "output_type": "display_data"
        }
      ],
      "source": [
        "# Do not modify this code\n",
        "print_tile(size=\"h3\", key='feature_engineering_1_explanations', value=feature_engineering_1_explanations)"
      ]
    },
    {
      "cell_type": "markdown",
      "metadata": {
        "id": "jYxCnW3C6zJj"
      },
      "source": [
        "### D.3 New Feature \"State\"\n",
        "\n",
        "> State-level analysis can assist in predicting demand trends based on location.\n",
        "> Customers from different states may exhibit distinct purchasing behaviors due to regional preferences, economic conditions, or demographics.\n"
      ]
    },
    {
      "cell_type": "code",
      "execution_count": 74,
      "metadata": {
        "colab": {
          "base_uri": "https://localhost:8080/"
        },
        "id": "BiUmw2x-MCul",
        "outputId": "0097ab58-c188-4ec4-8abe-1e813df33ccf"
      },
      "outputs": [
        {
          "name": "stdout",
          "output_type": "stream",
          "text": [
            "                                        full_address state\n",
            "0  Suite 159 4 Chandler Gardens Park, Smithcheste...   ACT\n",
            "1  Flat 31 247 Tara Alleyway Avenue, Mayberg  QLD...   QLD\n",
            "2  Level 5 591 Sullivan Reserve Reach, Vegamouth ...   QLD\n",
            "3  Unit 09 7 Daniel Parade Break, East Matthewfur...   NSW\n",
            "4  720/460 Charles Driveway River, New Shannon  W...    WA\n"
          ]
        }
      ],
      "source": [
        "\n",
        "\n",
        "# Function to extract the state abbreviation from full_address\n",
        "def extract_state(address):\n",
        "    try:\n",
        "        return address.split(',')[-2].split()[-1]  # Extracts the last word before postcode\n",
        "    except (IndexError, AttributeError):\n",
        "        return None  # Handle missing or improperly formatted addresses\n",
        "\n",
        "# Apply function to create a new state column\n",
        "df_eng['state'] = df_eng['full_address'].apply(extract_state)\n",
        "\n",
        "# Display the updated DataFrame\n",
        "print(df_eng[['full_address', 'state']].head())\n"
      ]
    },
    {
      "cell_type": "code",
      "execution_count": 75,
      "metadata": {
        "colab": {
          "base_uri": "https://localhost:8080/"
        },
        "id": "r-85l63cMBzu",
        "outputId": "32527bfe-d0fd-4a49-d45c-002482ef989c"
      },
      "outputs": [
        {
          "name": "stdout",
          "output_type": "stream",
          "text": [
            "  state  count\n",
            "0   TAS    828\n",
            "1   VIC    822\n",
            "2    NT    814\n",
            "3    WA    812\n",
            "4   ACT    784\n",
            "5   NSW    781\n",
            "6   QLD    775\n",
            "7    SA    722\n"
          ]
        }
      ],
      "source": [
        "\n",
        "\n",
        "# Count occurrences of each state\n",
        "state_counts = df_eng['state'].value_counts().reset_index()\n",
        "\n",
        "# Rename columns for clarity\n",
        "state_counts.columns = ['state', 'count']\n",
        "\n",
        "# Display the result\n",
        "print(state_counts)\n"
      ]
    },
    {
      "cell_type": "code",
      "execution_count": 76,
      "metadata": {
        "colab": {
          "base_uri": "https://localhost:8080/",
          "height": 583
        },
        "id": "XK6FFpFmMBwZ",
        "outputId": "2b3ce76c-5741-4d4b-ceaf-c2987b25ab3b"
      },
      "outputs": [
        {
          "data": {
            "image/png": "[encoded data removed]",
            "text/plain": [
              "<Figure size 1200x600 with 1 Axes>"
            ]
          },
          "metadata": {},
          "output_type": "display_data"
        }
      ],
      "source": [
        "\n",
        "\n",
        "# Plot bar chart\n",
        "plt.figure(figsize=(12, 6))\n",
        "sns.barplot(x='state', y='count', data=state_counts, palette='coolwarm')\n",
        "\n",
        "plt.xlabel(\"State\")\n",
        "plt.ylabel(\"Number of Occurrences\")\n",
        "plt.title(\"Count of Addresses Per State\")\n",
        "plt.xticks(rotation=45)  # Rotate labels for better readability\n",
        "plt.show()\n"
      ]
    },
    {
      "cell_type": "code",
      "execution_count": 77,
      "metadata": {
        "colab": {
          "base_uri": "https://localhost:8080/",
          "height": 206
        },
        "id": "GiVSwO0WMBtt",
        "outputId": "f54feba4-c5a5-45b6-b0a9-0bd7061a4ebc"
      },
      "outputs": [
        {
          "data": {
            "application/vnd.microsoft.datawrangler.viewer.v0+json": {
              "columns": [
                {
                  "name": "index",
                  "rawType": "int64",
                  "type": "integer"
                },
                {
                  "name": "customer_id",
                  "rawType": "object",
                  "type": "string"
                },
                {
                  "name": "street",
                  "rawType": "object",
                  "type": "string"
                },
                {
                  "name": "type",
                  "rawType": "object",
                  "type": "string"
                },
                {
                  "name": "suburb",
                  "rawType": "object",
                  "type": "string"
                },
                {
                  "name": "postcode",
                  "rawType": "Int64",
                  "type": "integer"
                },
                {
                  "name": "full_address",
                  "rawType": "object",
                  "type": "string"
                },
                {
                  "name": "postcode_bin",
                  "rawType": "float64",
                  "type": "float"
                },
                {
                  "name": "state",
                  "rawType": "object",
                  "type": "string"
                }
              ],
              "ref": "1acdde31-8670-45b1-bc0e-abdc0df8d4ef",
              "rows": [
                [
                  "0",
                  "d36b3782-86b2-4f7e-97f4-19751cf735b1",
                  "Chandler Gardens",
                  "Park",
                  "Smithchester",
                  "6683",
                  "Suite 159 4 Chandler Gardens Park, Smithchester  ACT,  6683",
                  "6.0",
                  "ACT"
                ],
                [
                  "1",
                  "c16a23a6-c001-4846-b16a-e681692d861b",
                  "Tara Alleyway",
                  "Avenue",
                  "Mayberg",
                  "2629",
                  "Flat 31 247 Tara Alleyway Avenue, Mayberg  QLD,  2629",
                  "2.0",
                  "QLD"
                ],
                [
                  "2",
                  "f044a91f-3eeb-4342-9c96-2be28927a8a9",
                  "Sullivan Reserve",
                  "Reach",
                  "Vegamouth",
                  "2790",
                  "Level 5 591 Sullivan Reserve Reach, Vegamouth  QLD,  2790",
                  "2.0",
                  "QLD"
                ],
                [
                  "3",
                  "36096d1a-4f30-4c1c-8453-3db3ea81692c",
                  "Daniel Parade",
                  "Break",
                  "East Matthewfurt",
                  "2839",
                  "Unit 09 7 Daniel Parade Break, East Matthewfurt  NSW,  2839",
                  "2.0",
                  "NSW"
                ],
                [
                  "4",
                  "7484593e-4ff2-44d6-9de6-7e3bd9fe8b19",
                  "Charles Driveway",
                  "River",
                  "New Shannon",
                  "2611",
                  "720/460 Charles Driveway River, New Shannon  WA,  2611",
                  "2.0",
                  "WA"
                ]
              ],
              "shape": {
                "columns": 8,
                "rows": 5
              }
            },
            "text/html": [
              "<div>\n",
              "<style scoped>\n",
              "    .dataframe tbody tr th:only-of-type {\n",
              "        vertical-align: middle;\n",
              "    }\n",
              "\n",
              "    .dataframe tbody tr th {\n",
              "        vertical-align: top;\n",
              "    }\n",
              "\n",
              "    .dataframe thead th {\n",
              "        text-align: right;\n",
              "    }\n",
              "</style>\n",
              "<table border=\"1\" class=\"dataframe\">\n",
              "  <thead>\n",
              "    <tr style=\"text-align: right;\">\n",
              "      <th></th>\n",
              "      <th>customer_id</th>\n",
              "      <th>street</th>\n",
              "      <th>type</th>\n",
              "      <th>suburb</th>\n",
              "      <th>postcode</th>\n",
              "      <th>full_address</th>\n",
              "      <th>postcode_bin</th>\n",
              "      <th>state</th>\n",
              "    </tr>\n",
              "  </thead>\n",
              "  <tbody>\n",
              "    <tr>\n",
              "      <th>0</th>\n",
              "      <td>d36b3782-86b2-4f7e-97f4-19751cf735b1</td>\n",
              "      <td>Chandler Gardens</td>\n",
              "      <td>Park</td>\n",
              "      <td>Smithchester</td>\n",
              "      <td>6683</td>\n",
              "      <td>Suite 159 4 Chandler Gardens Park, Smithcheste...</td>\n",
              "      <td>6.0</td>\n",
              "      <td>ACT</td>\n",
              "    </tr>\n",
              "    <tr>\n",
              "      <th>1</th>\n",
              "      <td>c16a23a6-c001-4846-b16a-e681692d861b</td>\n",
              "      <td>Tara Alleyway</td>\n",
              "      <td>Avenue</td>\n",
              "      <td>Mayberg</td>\n",
              "      <td>2629</td>\n",
              "      <td>Flat 31 247 Tara Alleyway Avenue, Mayberg  QLD...</td>\n",
              "      <td>2.0</td>\n",
              "      <td>QLD</td>\n",
              "    </tr>\n",
              "    <tr>\n",
              "      <th>2</th>\n",
              "      <td>f044a91f-3eeb-4342-9c96-2be28927a8a9</td>\n",
              "      <td>Sullivan Reserve</td>\n",
              "      <td>Reach</td>\n",
              "      <td>Vegamouth</td>\n",
              "      <td>2790</td>\n",
              "      <td>Level 5 591 Sullivan Reserve Reach, Vegamouth ...</td>\n",
              "      <td>2.0</td>\n",
              "      <td>QLD</td>\n",
              "    </tr>\n",
              "    <tr>\n",
              "      <th>3</th>\n",
              "      <td>36096d1a-4f30-4c1c-8453-3db3ea81692c</td>\n",
              "      <td>Daniel Parade</td>\n",
              "      <td>Break</td>\n",
              "      <td>East Matthewfurt</td>\n",
              "      <td>2839</td>\n",
              "      <td>Unit 09 7 Daniel Parade Break, East Matthewfur...</td>\n",
              "      <td>2.0</td>\n",
              "      <td>NSW</td>\n",
              "    </tr>\n",
              "    <tr>\n",
              "      <th>4</th>\n",
              "      <td>7484593e-4ff2-44d6-9de6-7e3bd9fe8b19</td>\n",
              "      <td>Charles Driveway</td>\n",
              "      <td>River</td>\n",
              "      <td>New Shannon</td>\n",
              "      <td>2611</td>\n",
              "      <td>720/460 Charles Driveway River, New Shannon  W...</td>\n",
              "      <td>2.0</td>\n",
              "      <td>WA</td>\n",
              "    </tr>\n",
              "  </tbody>\n",
              "</table>\n",
              "</div>"
            ],
            "text/plain": [
              "                            customer_id            street    type  \\\n",
              "0  d36b3782-86b2-4f7e-97f4-19751cf735b1  Chandler Gardens    Park   \n",
              "1  c16a23a6-c001-4846-b16a-e681692d861b     Tara Alleyway  Avenue   \n",
              "2  f044a91f-3eeb-4342-9c96-2be28927a8a9  Sullivan Reserve   Reach   \n",
              "3  36096d1a-4f30-4c1c-8453-3db3ea81692c     Daniel Parade   Break   \n",
              "4  7484593e-4ff2-44d6-9de6-7e3bd9fe8b19  Charles Driveway   River   \n",
              "\n",
              "             suburb  postcode  \\\n",
              "0      Smithchester      6683   \n",
              "1           Mayberg      2629   \n",
              "2         Vegamouth      2790   \n",
              "3  East Matthewfurt      2839   \n",
              "4       New Shannon      2611   \n",
              "\n",
              "                                        full_address  postcode_bin state  \n",
              "0  Suite 159 4 Chandler Gardens Park, Smithcheste...           6.0   ACT  \n",
              "1  Flat 31 247 Tara Alleyway Avenue, Mayberg  QLD...           2.0   QLD  \n",
              "2  Level 5 591 Sullivan Reserve Reach, Vegamouth ...           2.0   QLD  \n",
              "3  Unit 09 7 Daniel Parade Break, East Matthewfur...           2.0   NSW  \n",
              "4  720/460 Charles Driveway River, New Shannon  W...           2.0    WA  "
            ]
          },
          "execution_count": 77,
          "metadata": {},
          "output_type": "execute_result"
        }
      ],
      "source": [
        "df_eng.head()"
      ]
    },
    {
      "cell_type": "code",
      "execution_count": 78,
      "metadata": {
        "id": "UycAHGJoBdWf"
      },
      "outputs": [],
      "source": [
        "\n",
        "feature_engineering_2_explanations = \"\"\"\n",
        "Customers from different states may exhibit distinct purchasing behaviors due to regional preferences, economic conditions, or demographics.\n",
        "State-level analysis can assist in predicting demand trends based on location.\n",
        "it will help compare customer behavior across states, identifying which markets are underperforming or growing faster.\n",
        "Businesses can refine delivery routes and service coverage based on state-specific demand and infrastructure.\n",
        "\n",
        "\"\"\""
      ]
    },
    {
      "cell_type": "code",
      "execution_count": 79,
      "metadata": {
        "colab": {
          "base_uri": "https://localhost:8080/",
          "height": 101
        },
        "id": "2XBrXLrMBdZb",
        "outputId": "f395313e-ebaf-464d-ae60-657cec16f598"
      },
      "outputs": [
        {
          "data": {
            "text/html": [
              "<div style='margin:10px 0;'><h3 style='display:inline; color:#2a4d69; margin-right:10px;'>feature_engineering_2_explanations:</h3><span style='font-size:1.2em; color:#4b86b4;'>\n",
              "Customers from different states may exhibit distinct purchasing behaviors due to regional preferences, economic conditions, or demographics.\n",
              "State-level analysis can assist in predicting demand trends based on location.\n",
              "it will help compare customer behavior across states, identifying which markets are underperforming or growing faster.\n",
              "Businesses can refine delivery routes and service coverage based on state-specific demand and infrastructure.\n",
              "\n",
              "</span></div>"
            ],
            "text/plain": [
              "<IPython.core.display.HTML object>"
            ]
          },
          "metadata": {},
          "output_type": "display_data"
        }
      ],
      "source": [
        "# Do not modify this code\n",
        "print_tile(size=\"h3\", key='feature_engineering_2_explanations', value=feature_engineering_2_explanations)"
      ]
    },
    {
      "cell_type": "markdown",
      "metadata": {
        "id": "gWF4jvXb62kU"
      },
      "source": [
        "### D.4 New Feature \"neighbor hood density>\"\n",
        "\n",
        "> Areas with high neighborhood density may have higher customer interactions and competitive activity.\n",
        "> Helps businesses adjust pricing models based on neighborhood economic trends.\n",
        "\n"
      ]
    },
    {
      "cell_type": "code",
      "execution_count": 80,
      "metadata": {
        "colab": {
          "base_uri": "https://localhost:8080/",
          "height": 206
        },
        "id": "3VCvEgs7MJS4",
        "outputId": "17919900-cc4c-4291-b83c-d5f2a8e1a56e"
      },
      "outputs": [
        {
          "data": {
            "application/vnd.microsoft.datawrangler.viewer.v0+json": {
              "columns": [
                {
                  "name": "index",
                  "rawType": "int64",
                  "type": "integer"
                },
                {
                  "name": "customer_id",
                  "rawType": "object",
                  "type": "string"
                },
                {
                  "name": "street",
                  "rawType": "object",
                  "type": "string"
                },
                {
                  "name": "type",
                  "rawType": "object",
                  "type": "string"
                },
                {
                  "name": "suburb",
                  "rawType": "object",
                  "type": "string"
                },
                {
                  "name": "postcode",
                  "rawType": "Int64",
                  "type": "integer"
                },
                {
                  "name": "full_address",
                  "rawType": "object",
                  "type": "string"
                },
                {
                  "name": "postcode_bin",
                  "rawType": "float64",
                  "type": "float"
                },
                {
                  "name": "state",
                  "rawType": "object",
                  "type": "string"
                }
              ],
              "ref": "1f67c25a-20f6-413a-8d84-d123a695ea64",
              "rows": [
                [
                  "0",
                  "d36b3782-86b2-4f7e-97f4-19751cf735b1",
                  "Chandler Gardens",
                  "Park",
                  "Smithchester",
                  "6683",
                  "Suite 159 4 Chandler Gardens Park, Smithchester  ACT,  6683",
                  "6.0",
                  "ACT"
                ],
                [
                  "1",
                  "c16a23a6-c001-4846-b16a-e681692d861b",
                  "Tara Alleyway",
                  "Avenue",
                  "Mayberg",
                  "2629",
                  "Flat 31 247 Tara Alleyway Avenue, Mayberg  QLD,  2629",
                  "2.0",
                  "QLD"
                ],
                [
                  "2",
                  "f044a91f-3eeb-4342-9c96-2be28927a8a9",
                  "Sullivan Reserve",
                  "Reach",
                  "Vegamouth",
                  "2790",
                  "Level 5 591 Sullivan Reserve Reach, Vegamouth  QLD,  2790",
                  "2.0",
                  "QLD"
                ],
                [
                  "3",
                  "36096d1a-4f30-4c1c-8453-3db3ea81692c",
                  "Daniel Parade",
                  "Break",
                  "East Matthewfurt",
                  "2839",
                  "Unit 09 7 Daniel Parade Break, East Matthewfurt  NSW,  2839",
                  "2.0",
                  "NSW"
                ],
                [
                  "4",
                  "7484593e-4ff2-44d6-9de6-7e3bd9fe8b19",
                  "Charles Driveway",
                  "River",
                  "New Shannon",
                  "2611",
                  "720/460 Charles Driveway River, New Shannon  WA,  2611",
                  "2.0",
                  "WA"
                ]
              ],
              "shape": {
                "columns": 8,
                "rows": 5
              }
            },
            "text/html": [
              "<div>\n",
              "<style scoped>\n",
              "    .dataframe tbody tr th:only-of-type {\n",
              "        vertical-align: middle;\n",
              "    }\n",
              "\n",
              "    .dataframe tbody tr th {\n",
              "        vertical-align: top;\n",
              "    }\n",
              "\n",
              "    .dataframe thead th {\n",
              "        text-align: right;\n",
              "    }\n",
              "</style>\n",
              "<table border=\"1\" class=\"dataframe\">\n",
              "  <thead>\n",
              "    <tr style=\"text-align: right;\">\n",
              "      <th></th>\n",
              "      <th>customer_id</th>\n",
              "      <th>street</th>\n",
              "      <th>type</th>\n",
              "      <th>suburb</th>\n",
              "      <th>postcode</th>\n",
              "      <th>full_address</th>\n",
              "      <th>postcode_bin</th>\n",
              "      <th>state</th>\n",
              "    </tr>\n",
              "  </thead>\n",
              "  <tbody>\n",
              "    <tr>\n",
              "      <th>0</th>\n",
              "      <td>d36b3782-86b2-4f7e-97f4-19751cf735b1</td>\n",
              "      <td>Chandler Gardens</td>\n",
              "      <td>Park</td>\n",
              "      <td>Smithchester</td>\n",
              "      <td>6683</td>\n",
              "      <td>Suite 159 4 Chandler Gardens Park, Smithcheste...</td>\n",
              "      <td>6.0</td>\n",
              "      <td>ACT</td>\n",
              "    </tr>\n",
              "    <tr>\n",
              "      <th>1</th>\n",
              "      <td>c16a23a6-c001-4846-b16a-e681692d861b</td>\n",
              "      <td>Tara Alleyway</td>\n",
              "      <td>Avenue</td>\n",
              "      <td>Mayberg</td>\n",
              "      <td>2629</td>\n",
              "      <td>Flat 31 247 Tara Alleyway Avenue, Mayberg  QLD...</td>\n",
              "      <td>2.0</td>\n",
              "      <td>QLD</td>\n",
              "    </tr>\n",
              "    <tr>\n",
              "      <th>2</th>\n",
              "      <td>f044a91f-3eeb-4342-9c96-2be28927a8a9</td>\n",
              "      <td>Sullivan Reserve</td>\n",
              "      <td>Reach</td>\n",
              "      <td>Vegamouth</td>\n",
              "      <td>2790</td>\n",
              "      <td>Level 5 591 Sullivan Reserve Reach, Vegamouth ...</td>\n",
              "      <td>2.0</td>\n",
              "      <td>QLD</td>\n",
              "    </tr>\n",
              "    <tr>\n",
              "      <th>3</th>\n",
              "      <td>36096d1a-4f30-4c1c-8453-3db3ea81692c</td>\n",
              "      <td>Daniel Parade</td>\n",
              "      <td>Break</td>\n",
              "      <td>East Matthewfurt</td>\n",
              "      <td>2839</td>\n",
              "      <td>Unit 09 7 Daniel Parade Break, East Matthewfur...</td>\n",
              "      <td>2.0</td>\n",
              "      <td>NSW</td>\n",
              "    </tr>\n",
              "    <tr>\n",
              "      <th>4</th>\n",
              "      <td>7484593e-4ff2-44d6-9de6-7e3bd9fe8b19</td>\n",
              "      <td>Charles Driveway</td>\n",
              "      <td>River</td>\n",
              "      <td>New Shannon</td>\n",
              "      <td>2611</td>\n",
              "      <td>720/460 Charles Driveway River, New Shannon  W...</td>\n",
              "      <td>2.0</td>\n",
              "      <td>WA</td>\n",
              "    </tr>\n",
              "  </tbody>\n",
              "</table>\n",
              "</div>"
            ],
            "text/plain": [
              "                            customer_id            street    type  \\\n",
              "0  d36b3782-86b2-4f7e-97f4-19751cf735b1  Chandler Gardens    Park   \n",
              "1  c16a23a6-c001-4846-b16a-e681692d861b     Tara Alleyway  Avenue   \n",
              "2  f044a91f-3eeb-4342-9c96-2be28927a8a9  Sullivan Reserve   Reach   \n",
              "3  36096d1a-4f30-4c1c-8453-3db3ea81692c     Daniel Parade   Break   \n",
              "4  7484593e-4ff2-44d6-9de6-7e3bd9fe8b19  Charles Driveway   River   \n",
              "\n",
              "             suburb  postcode  \\\n",
              "0      Smithchester      6683   \n",
              "1           Mayberg      2629   \n",
              "2         Vegamouth      2790   \n",
              "3  East Matthewfurt      2839   \n",
              "4       New Shannon      2611   \n",
              "\n",
              "                                        full_address  postcode_bin state  \n",
              "0  Suite 159 4 Chandler Gardens Park, Smithcheste...           6.0   ACT  \n",
              "1  Flat 31 247 Tara Alleyway Avenue, Mayberg  QLD...           2.0   QLD  \n",
              "2  Level 5 591 Sullivan Reserve Reach, Vegamouth ...           2.0   QLD  \n",
              "3  Unit 09 7 Daniel Parade Break, East Matthewfur...           2.0   NSW  \n",
              "4  720/460 Charles Driveway River, New Shannon  W...           2.0    WA  "
            ]
          },
          "execution_count": 80,
          "metadata": {},
          "output_type": "execute_result"
        }
      ],
      "source": [
        "df_eng.head()"
      ]
    },
    {
      "cell_type": "markdown",
      "metadata": {
        "id": "Mpi8oXeG8Ajm"
      },
      "source": [
        "Postcode and neighborhood density analysis"
      ]
    },
    {
      "cell_type": "code",
      "execution_count": 81,
      "metadata": {
        "colab": {
          "base_uri": "https://localhost:8080/"
        },
        "id": "wB9ZpHipMJPe",
        "outputId": "1e3a2bc2-b3ff-499c-ec30-bc2d5f78e8aa"
      },
      "outputs": [
        {
          "name": "stdout",
          "output_type": "stream",
          "text": [
            "   postcode  neighborhood_density\n",
            "0      6683                   1.0\n",
            "1      2629                  17.0\n",
            "2      2790                   4.0\n",
            "3      2839                   3.0\n",
            "4      2611                  23.0\n"
          ]
        }
      ],
      "source": [
        "\n",
        "\n",
        "# Group by postcode to count customer density\n",
        "df_eng['neighborhood_density'] = df_eng.groupby('postcode')['customer_id'].transform('count')\n",
        "\n",
        "# Display the updated DataFrame with density feature\n",
        "print(df_eng[['postcode', 'neighborhood_density']].head())\n"
      ]
    },
    {
      "cell_type": "code",
      "execution_count": 82,
      "metadata": {
        "colab": {
          "base_uri": "https://localhost:8080/"
        },
        "id": "HmauI03Y8uju",
        "outputId": "66c4c777-3ad0-4513-d74a-a5b601bd0b3b"
      },
      "outputs": [
        {
          "name": "stdout",
          "output_type": "stream",
          "text": [
            "Postcode with the highest neighborhood density: 2619 (Density: 194.0)\n"
          ]
        }
      ],
      "source": [
        "# Identify the postcode with the highest neighborhood density\n",
        "top_postcode = df_eng.loc[df_eng['neighborhood_density'].idxmax(), ['postcode', 'neighborhood_density']]\n",
        "\n",
        "# Display the result\n",
        "print(f\"Postcode with the highest neighborhood density: {top_postcode['postcode']} (Density: {top_postcode['neighborhood_density']})\")\n"
      ]
    },
    {
      "cell_type": "markdown",
      "metadata": {
        "id": "D1nZ1dFu8Gr0"
      },
      "source": [
        "Lets seet it around different states"
      ]
    },
    {
      "cell_type": "code",
      "execution_count": 83,
      "metadata": {
        "colab": {
          "base_uri": "https://localhost:8080/",
          "height": 583
        },
        "id": "pAf_qrM-MJMN",
        "outputId": "e62e8685-210a-49be-be06-7714d6a600cc"
      },
      "outputs": [
        {
          "data": {
            "image/png": "[encoded data removed]",
            "text/plain": [
              "<Figure size 1200x600 with 1 Axes>"
            ]
          },
          "metadata": {},
          "output_type": "display_data"
        }
      ],
      "source": [
        "\n",
        "\n",
        "# Calculate average neighborhood density for each state\n",
        "state_density_avg = df_eng.groupby('state')['neighborhood_density'].mean().reset_index()\n",
        "\n",
        "# Rename columns for clarity\n",
        "state_density_avg.columns = ['state', 'avg_neighborhood_density']\n",
        "\n",
        "# Plot bar chart\n",
        "plt.figure(figsize=(12, 6))\n",
        "sns.barplot(x='state', y='avg_neighborhood_density', data=state_density_avg, palette='coolwarm')\n",
        "\n",
        "plt.xlabel(\"State\")\n",
        "plt.ylabel(\"Average Neighborhood Density\")\n",
        "plt.title(\"Average Neighborhood Density Across States\")\n",
        "plt.xticks(rotation=45)  # Rotate labels for better readability\n",
        "plt.show()\n"
      ]
    },
    {
      "cell_type": "code",
      "execution_count": 84,
      "metadata": {
        "colab": {
          "base_uri": "https://localhost:8080/",
          "height": 206
        },
        "id": "FiYHOVrpMJJq",
        "outputId": "3365ed12-91c7-4a85-a46c-47b4c29a3ee0"
      },
      "outputs": [
        {
          "data": {
            "application/vnd.microsoft.datawrangler.viewer.v0+json": {
              "columns": [
                {
                  "name": "index",
                  "rawType": "int64",
                  "type": "integer"
                },
                {
                  "name": "customer_id",
                  "rawType": "object",
                  "type": "string"
                },
                {
                  "name": "street",
                  "rawType": "object",
                  "type": "string"
                },
                {
                  "name": "type",
                  "rawType": "object",
                  "type": "string"
                },
                {
                  "name": "suburb",
                  "rawType": "object",
                  "type": "string"
                },
                {
                  "name": "postcode",
                  "rawType": "Int64",
                  "type": "integer"
                },
                {
                  "name": "full_address",
                  "rawType": "object",
                  "type": "string"
                },
                {
                  "name": "postcode_bin",
                  "rawType": "float64",
                  "type": "float"
                },
                {
                  "name": "state",
                  "rawType": "object",
                  "type": "string"
                },
                {
                  "name": "neighborhood_density",
                  "rawType": "float64",
                  "type": "float"
                }
              ],
              "ref": "b43c1be7-921d-4ef7-be71-c204763ce516",
              "rows": [
                [
                  "0",
                  "d36b3782-86b2-4f7e-97f4-19751cf735b1",
                  "Chandler Gardens",
                  "Park",
                  "Smithchester",
                  "6683",
                  "Suite 159 4 Chandler Gardens Park, Smithchester  ACT,  6683",
                  "6.0",
                  "ACT",
                  "1.0"
                ],
                [
                  "1",
                  "c16a23a6-c001-4846-b16a-e681692d861b",
                  "Tara Alleyway",
                  "Avenue",
                  "Mayberg",
                  "2629",
                  "Flat 31 247 Tara Alleyway Avenue, Mayberg  QLD,  2629",
                  "2.0",
                  "QLD",
                  "17.0"
                ],
                [
                  "2",
                  "f044a91f-3eeb-4342-9c96-2be28927a8a9",
                  "Sullivan Reserve",
                  "Reach",
                  "Vegamouth",
                  "2790",
                  "Level 5 591 Sullivan Reserve Reach, Vegamouth  QLD,  2790",
                  "2.0",
                  "QLD",
                  "4.0"
                ],
                [
                  "3",
                  "36096d1a-4f30-4c1c-8453-3db3ea81692c",
                  "Daniel Parade",
                  "Break",
                  "East Matthewfurt",
                  "2839",
                  "Unit 09 7 Daniel Parade Break, East Matthewfurt  NSW,  2839",
                  "2.0",
                  "NSW",
                  "3.0"
                ],
                [
                  "4",
                  "7484593e-4ff2-44d6-9de6-7e3bd9fe8b19",
                  "Charles Driveway",
                  "River",
                  "New Shannon",
                  "2611",
                  "720/460 Charles Driveway River, New Shannon  WA,  2611",
                  "2.0",
                  "WA",
                  "23.0"
                ]
              ],
              "shape": {
                "columns": 9,
                "rows": 5
              }
            },
            "text/html": [
              "<div>\n",
              "<style scoped>\n",
              "    .dataframe tbody tr th:only-of-type {\n",
              "        vertical-align: middle;\n",
              "    }\n",
              "\n",
              "    .dataframe tbody tr th {\n",
              "        vertical-align: top;\n",
              "    }\n",
              "\n",
              "    .dataframe thead th {\n",
              "        text-align: right;\n",
              "    }\n",
              "</style>\n",
              "<table border=\"1\" class=\"dataframe\">\n",
              "  <thead>\n",
              "    <tr style=\"text-align: right;\">\n",
              "      <th></th>\n",
              "      <th>customer_id</th>\n",
              "      <th>street</th>\n",
              "      <th>type</th>\n",
              "      <th>suburb</th>\n",
              "      <th>postcode</th>\n",
              "      <th>full_address</th>\n",
              "      <th>postcode_bin</th>\n",
              "      <th>state</th>\n",
              "      <th>neighborhood_density</th>\n",
              "    </tr>\n",
              "  </thead>\n",
              "  <tbody>\n",
              "    <tr>\n",
              "      <th>0</th>\n",
              "      <td>d36b3782-86b2-4f7e-97f4-19751cf735b1</td>\n",
              "      <td>Chandler Gardens</td>\n",
              "      <td>Park</td>\n",
              "      <td>Smithchester</td>\n",
              "      <td>6683</td>\n",
              "      <td>Suite 159 4 Chandler Gardens Park, Smithcheste...</td>\n",
              "      <td>6.0</td>\n",
              "      <td>ACT</td>\n",
              "      <td>1.0</td>\n",
              "    </tr>\n",
              "    <tr>\n",
              "      <th>1</th>\n",
              "      <td>c16a23a6-c001-4846-b16a-e681692d861b</td>\n",
              "      <td>Tara Alleyway</td>\n",
              "      <td>Avenue</td>\n",
              "      <td>Mayberg</td>\n",
              "      <td>2629</td>\n",
              "      <td>Flat 31 247 Tara Alleyway Avenue, Mayberg  QLD...</td>\n",
              "      <td>2.0</td>\n",
              "      <td>QLD</td>\n",
              "      <td>17.0</td>\n",
              "    </tr>\n",
              "    <tr>\n",
              "      <th>2</th>\n",
              "      <td>f044a91f-3eeb-4342-9c96-2be28927a8a9</td>\n",
              "      <td>Sullivan Reserve</td>\n",
              "      <td>Reach</td>\n",
              "      <td>Vegamouth</td>\n",
              "      <td>2790</td>\n",
              "      <td>Level 5 591 Sullivan Reserve Reach, Vegamouth ...</td>\n",
              "      <td>2.0</td>\n",
              "      <td>QLD</td>\n",
              "      <td>4.0</td>\n",
              "    </tr>\n",
              "    <tr>\n",
              "      <th>3</th>\n",
              "      <td>36096d1a-4f30-4c1c-8453-3db3ea81692c</td>\n",
              "      <td>Daniel Parade</td>\n",
              "      <td>Break</td>\n",
              "      <td>East Matthewfurt</td>\n",
              "      <td>2839</td>\n",
              "      <td>Unit 09 7 Daniel Parade Break, East Matthewfur...</td>\n",
              "      <td>2.0</td>\n",
              "      <td>NSW</td>\n",
              "      <td>3.0</td>\n",
              "    </tr>\n",
              "    <tr>\n",
              "      <th>4</th>\n",
              "      <td>7484593e-4ff2-44d6-9de6-7e3bd9fe8b19</td>\n",
              "      <td>Charles Driveway</td>\n",
              "      <td>River</td>\n",
              "      <td>New Shannon</td>\n",
              "      <td>2611</td>\n",
              "      <td>720/460 Charles Driveway River, New Shannon  W...</td>\n",
              "      <td>2.0</td>\n",
              "      <td>WA</td>\n",
              "      <td>23.0</td>\n",
              "    </tr>\n",
              "  </tbody>\n",
              "</table>\n",
              "</div>"
            ],
            "text/plain": [
              "                            customer_id            street    type  \\\n",
              "0  d36b3782-86b2-4f7e-97f4-19751cf735b1  Chandler Gardens    Park   \n",
              "1  c16a23a6-c001-4846-b16a-e681692d861b     Tara Alleyway  Avenue   \n",
              "2  f044a91f-3eeb-4342-9c96-2be28927a8a9  Sullivan Reserve   Reach   \n",
              "3  36096d1a-4f30-4c1c-8453-3db3ea81692c     Daniel Parade   Break   \n",
              "4  7484593e-4ff2-44d6-9de6-7e3bd9fe8b19  Charles Driveway   River   \n",
              "\n",
              "             suburb  postcode  \\\n",
              "0      Smithchester      6683   \n",
              "1           Mayberg      2629   \n",
              "2         Vegamouth      2790   \n",
              "3  East Matthewfurt      2839   \n",
              "4       New Shannon      2611   \n",
              "\n",
              "                                        full_address  postcode_bin state  \\\n",
              "0  Suite 159 4 Chandler Gardens Park, Smithcheste...           6.0   ACT   \n",
              "1  Flat 31 247 Tara Alleyway Avenue, Mayberg  QLD...           2.0   QLD   \n",
              "2  Level 5 591 Sullivan Reserve Reach, Vegamouth ...           2.0   QLD   \n",
              "3  Unit 09 7 Daniel Parade Break, East Matthewfur...           2.0   NSW   \n",
              "4  720/460 Charles Driveway River, New Shannon  W...           2.0    WA   \n",
              "\n",
              "   neighborhood_density  \n",
              "0                   1.0  \n",
              "1                  17.0  \n",
              "2                   4.0  \n",
              "3                   3.0  \n",
              "4                  23.0  "
            ]
          },
          "execution_count": 84,
          "metadata": {},
          "output_type": "execute_result"
        }
      ],
      "source": [
        "df_eng.head()"
      ]
    },
    {
      "cell_type": "code",
      "execution_count": 85,
      "metadata": {
        "id": "HoJM7xR1BipS"
      },
      "outputs": [],
      "source": [
        "\n",
        "feature_engineering_3_explanations = \"\"\"\n",
        "\n",
        "#### Postcode with the Highest Density\n",
        "\n",
        "Postcode 2619 stands out as the most densely populated area, with a neighborhood density of 194.\n",
        "\n",
        "This suggests a high concentration of customers, making it a key location for potential targeted marketing and resource allocation.\n",
        "\n",
        "#### State with the Highest Density\n",
        "\n",
        "Among all states, Northern Territory (NT) records the highest neighborhood density.\n",
        "\n",
        "This indicates NT might have more clustered customer activity, requiring strategic business planning for engagement and service optimization.\n",
        "\n",
        "\"\"\""
      ]
    },
    {
      "cell_type": "code",
      "execution_count": 86,
      "metadata": {
        "colab": {
          "base_uri": "https://localhost:8080/",
          "height": 101
        },
        "id": "_DlZzZHjBiuf",
        "outputId": "134fd8b5-4816-4e86-979b-f7386f99a638"
      },
      "outputs": [
        {
          "data": {
            "text/html": [
              "<div style='margin:10px 0;'><h3 style='display:inline; color:#2a4d69; margin-right:10px;'>feature_engineering_3_explanations:</h3><span style='font-size:1.2em; color:#4b86b4;'>\n",
              "\n",
              "#### Postcode with the Highest Density\n",
              "\n",
              "Postcode 2619 stands out as the most densely populated area, with a neighborhood density of 194.\n",
              "\n",
              "This suggests a high concentration of customers, making it a key location for potential targeted marketing and resource allocation.\n",
              "\n",
              "#### State with the Highest Density\n",
              "\n",
              "Among all states, Northern Territory (NT) records the highest neighborhood density.\n",
              "\n",
              "This indicates NT might have more clustered customer activity, requiring strategic business planning for engagement and service optimization.\n",
              "\n",
              "</span></div>"
            ],
            "text/plain": [
              "<IPython.core.display.HTML object>"
            ]
          },
          "metadata": {},
          "output_type": "display_data"
        }
      ],
      "source": [
        "# Do not modify this code\n",
        "print_tile(size=\"h3\", key='feature_engineering_3_explanations', value=feature_engineering_3_explanations)"
      ]
    },
    {
      "cell_type": "markdown",
      "metadata": {
        "id": "s0CJolMhdmLf"
      },
      "source": [
        "---\n",
        "## E. Save Datasets"
      ]
    },
    {
      "cell_type": "code",
      "execution_count": 87,
      "metadata": {
        "id": "cRKdS3NiBmZC"
      },
      "outputs": [],
      "source": [
        "try:\n",
        "  df_eng.to_csv('../data/processed/df_eng_customer_address.csv', index=False)\n",
        "\n",
        "except Exception as e:\n",
        "  print(e)"
      ]
    },
    {
      "cell_type": "code",
      "execution_count": null,
      "metadata": {
        "id": "7dEKTMOLBmbu"
      },
      "outputs": [],
      "source": []
    }
  ],
  "metadata": {
    "colab": {
      "provenance": [],
      "toc_visible": true
    },
    "kernelspec": {
      "display_name": "ml-telecom-py3.13",
      "language": "python",
      "name": "python3"
    },
    "language_info": {
      "codemirror_mode": {
        "name": "ipython",
        "version": 3
      },
      "file_extension": ".py",
      "mimetype": "text/x-python",
      "name": "python",
      "nbconvert_exporter": "python",
      "pygments_lexer": "ipython3",
      "version": "3.11.6"
    }
  },
  "nbformat": 4,
  "nbformat_minor": 0
}
